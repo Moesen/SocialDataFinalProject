{
 "cells": [
  {
   "cell_type": "markdown",
   "metadata": {},
   "source": [
    "# Relationship Between Energy Consumption and Social/Economic Measures"
   ]
  },
  {
   "cell_type": "markdown",
   "metadata": {},
   "source": [
    "## 1. Motivation\n",
    "In this project, we will investigate the relationship between energy consumption and social/economic measures. Climate change is ultimately a global issue, so we will use data from as many countries all over the globe as possible. Thus, we will have data at a country level about energy consumption and about social/economic measures. Everything is on a yearly level, spanning from 1965 to 2020. We have the data from Our world in Data (source: ourworldindata.org). For the energy data, we will use per capita consumption, and we will look at: coal, fossil fuels aggregated, gas, hydro, low carbon aggregated, nuclear, oil, other renewables (residual category), solar, wind, and total. For the social and economic data, we will look at: child mortality, GDP, GDP per capita, Human Development Index (HDI), life expectancy, literacy rate, military spending, and obesity. \n",
    "\n",
    "In terms of choice of data to tackle the problem with, the energy data is pretty straight-forward. It's a bit trickier with the social/economic measures, and how best to measure things is itself an ongoing debate. We decided to base our choices mostly on this source: https://www.tutor2u.net/geography/reference/the-8-key-gap-indicators-of-development, and then added some of our own. We believe this is a relatively diverse representation of a country's social and economic state. \n",
    "\n",
    "Ultimately, the goal of the project is to give people insight into how social and economic differences between countries and continents influences energy consumption patterns. Climate change is one of the large problems that society is facing, and the fact that we have to think about the problem as a global phenomenon makes it tricky. The aim is therefore to serve information about the topic in an intuitive and interesting way, which will then allow people to have informed opinions about the matter and ultimately make better decisions. \n"
   ]
  },
  {
   "cell_type": "markdown",
   "metadata": {},
   "source": [
    "## 2. Basic stats"
   ]
  },
  {
   "cell_type": "markdown",
   "metadata": {},
   "source": [
    "##### Data cleaning and preprocessing\n",
    "The first step is data cleaning and preprocessing. In this case, there is quite a lot. Both due to the fact that we use a large number of raw datasets, and that we have a large number of missing values. This latter point can be due to a whole host of reasons. First of all, some countries only start existing after 1965. Additionally, even though a country exists, it is not certain that the measurements have been made. This is particularly true for the African countries. Additionally, there missing values even after recording from a certain country has started. There, we will use linear interpolation. "
   ]
  },
  {
   "cell_type": "code",
   "execution_count": null,
   "metadata": {},
   "outputs": [],
   "source": []
  },
  {
   "cell_type": "markdown",
   "metadata": {},
   "source": [
    "##### Dataset stats and exploratory analysis"
   ]
  },
  {
   "cell_type": "markdown",
   "metadata": {},
   "source": []
  },
  {
   "cell_type": "markdown",
   "metadata": {},
   "source": [
    "## 3. Data Analysis"
   ]
  },
  {
   "cell_type": "markdown",
   "metadata": {},
   "source": []
  },
  {
   "cell_type": "markdown",
   "metadata": {},
   "source": [
    "## 4. Genre"
   ]
  },
  {
   "cell_type": "markdown",
   "metadata": {},
   "source": [
    "First of all, we made ues the article/magazine style as our data story type. \n",
    "\n",
    "**Visual narrative:**\n",
    "\n",
    "Visual Structuring:\n",
    "- We have made a lot of use of the Progress Bar / Timebar in order to show to progress of both energy consumption and social/economic measures over time. We are very much interested in seeing how things progress over time, so this is an ideal tool. \n",
    "\n",
    "Highlighting:\n",
    "- We generally make use of color in order to direct the viewer's attention. We have a plot of the world that tracks fraction of renewables across time. The color grading goes from black (fraction of 0) to saturated green (fraction of 1), which should make the plot more intuitive. \n",
    "- We also make use of dropdown menues in order to enable the user to narrow down the information in the plots and focus on the particular things that that user finds interesting. \n",
    "- In general, we make quite a lot of use of motion, since, as mentioned earlier, we want to underpin that things are changing quite a lot over time. For instance, the fraction of renewables vs social/economic metric (the one with the blobs) has a lot of motion in it. \n",
    "\n",
    "Transition Guidance:\n",
    "- Since we decided to use a article/magazine style, we do not have transitions in a regular sense. The user will simply scroll down through the article, so the focus in terms of transition are on the ordering of the visuals and of the information. \n",
    "- Additionally, in order to within or between visual scenes, we use quite a few dropdown menues and check-boxes. This might not be transitions in a regular sense, but it is the closest we have to it. \n",
    "\n",
    "**Narrative Structure:**\n",
    "\n",
    "Ordering:\n",
    "- We make use of a linear ordering, suited to the magazine style. We do, however, also want to let the user do some exploration on their own, so we use dropdown menues and checkboxes. \n",
    "\n",
    "Interactivity:\n",
    "- Most figures have quite a lot of interaction. As mentioned earlier, we have both dropdown and checkboxes, and we also have information that pops up on hover-over. \n",
    "- Using the interactivity in the figures is very intuitive and straight-forward, so tutorials are not necessary. We have generally selected default views that make sense. In general, people are much more used to interaction than they might have been, so hand-holding is not as necessary. \n",
    "\n",
    "Messaging:\n",
    "-  In general, we use a lot of annotations in order to communicate information to the user. A great example is the figure for the PLS model, where one can toggle between the components that each have a specific textbox attached to it. \n",
    "- Since we use the article/magazine style, there is naturally a lot of messaging, which means that we also use tools like intoductory text and Summary / Synthesis.\n",
    "\n",
    "\n"
   ]
  },
  {
   "cell_type": "markdown",
   "metadata": {},
   "source": [
    "## 5. Visualizations"
   ]
  },
  {
   "cell_type": "markdown",
   "metadata": {},
   "source": []
  },
  {
   "cell_type": "markdown",
   "metadata": {},
   "source": [
    "## 6. Discusion"
   ]
  },
  {
   "cell_type": "markdown",
   "metadata": {},
   "source": [
    "The plots we have created do a good job of telling the story that we want. The combination of an article with some interactive plots strikes a nice balance between finding a story that we want to tell, while also allowing the user to do some exploration on their own. The plots are in general also quite packed with information, but we think we have done a decent job of presenting that information in a way that makes it digestable. We have also managed to extract meaningful information about the problem, while not over-analyzing and jumping to conclusions that are not justified. At it's core, it is a very complex problem, and our analysis is off course not even close to definitive and complete. \n",
    "\n",
    "Things brings us to some of the short-comings of our creation. We got the impression from the litterature that there are other types of models that are often used for these kinds of problems, but we did not find the time to investiate and understand them. Thus, one avenue for improvement is looking more thoroughly into modelling approaches. One thing that is also clear from our analysis is that there is a lot of individuality from country to country. It can therefore be hard to really draw general conclusions. For example, Brazil does not score highly in most of the social/economic measures, but they have a relatively high fraction of renewables (source: https://www.climatescorecard.org/2021/01/brazil-sources-45-of-its-energy-from-renewables/), which might be contrary to what our initial hypothesis was. On the other hand, we have country like the US, where the opposite is true. This goes to show that there are certain limitations to analyzing this problem quantitatively and that it is important to understand the specific circumstances of a country. One could argue that this could also be encoded, and thus modelled quantitatively, but that would require a much larger and more time-consuming analysis. "
   ]
  },
  {
   "cell_type": "markdown",
   "metadata": {},
   "source": [
    "## 7. Contributions"
   ]
  },
  {
   "cell_type": "markdown",
   "metadata": {},
   "source": []
  }
 ],
 "metadata": {
  "interpreter": {
   "hash": "95bd0d75bea21310707dbe392546405214aa8536e546a1d55110147e5565e008"
  },
  "kernelspec": {
   "display_name": "Python 3.9.7 ('env-test')",
   "language": "python",
   "name": "python3"
  },
  "language_info": {
   "name": "python",
   "version": "3.8.13"
  },
  "orig_nbformat": 4
 },
 "nbformat": 4,
 "nbformat_minor": 2
}
