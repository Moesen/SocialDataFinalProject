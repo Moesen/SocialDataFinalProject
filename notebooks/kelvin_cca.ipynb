{
 "cells": [
  {
   "cell_type": "code",
   "execution_count": 394,
   "metadata": {},
   "outputs": [],
   "source": [
    "import pandas as pd\n",
    "import numpy as np\n",
    "from sklearn.cross_decomposition import CCA\n",
    "import matplotlib.pyplot as plt\n",
    "import seaborn as sns\n",
    "from statsmodels.multivariate.cancorr import CanCorr"
   ]
  },
  {
   "cell_type": "code",
   "execution_count": 356,
   "metadata": {},
   "outputs": [],
   "source": [
    "data_folder = \"data/processed/\"\n",
    "df_social = pd.read_csv(data_folder + \"socio_extrapolated_5_country.csv\")\n",
    "df_energy = pd.read_csv(data_folder + \"pcc_energy_extrapolated_5_country.csv\")"
   ]
  },
  {
   "cell_type": "code",
   "execution_count": 357,
   "metadata": {},
   "outputs": [],
   "source": [
    "temp1 = list(df_energy[\"Entity\"].unique())\n",
    "temp2 = list(df_social[\"Entity\"].unique())\n",
    "exclude_countries = list(set(temp2) - set(temp1))\n",
    "df_social = df_social[~df_social['Entity'].isin(exclude_countries)]"
   ]
  },
  {
   "cell_type": "code",
   "execution_count": 358,
   "metadata": {},
   "outputs": [],
   "source": [
    "df_energy = df_energy.groupby(\"Entity\").mean().reset_index()\n",
    "df_social = df_social.groupby(\"Entity\").mean().reset_index()"
   ]
  },
  {
   "cell_type": "code",
   "execution_count": 359,
   "metadata": {},
   "outputs": [],
   "source": [
    "df_energy_sub = df_energy.iloc[:,3:]\n",
    "df_social_sub = df_social.iloc[:,3:]"
   ]
  },
  {
   "cell_type": "code",
   "execution_count": 360,
   "metadata": {},
   "outputs": [],
   "source": [
    "E = (df_energy_sub - df_energy_sub.mean())/df_energy_sub.std()\n",
    "S = (df_social_sub - df_social_sub.mean())/df_social_sub.std()"
   ]
  },
  {
   "cell_type": "code",
   "execution_count": 361,
   "metadata": {},
   "outputs": [],
   "source": [
    "S = S.fillna(0)\n",
    "E = E.fillna(0)"
   ]
  },
  {
   "cell_type": "code",
   "execution_count": 362,
   "metadata": {},
   "outputs": [
    {
     "data": {
      "text/html": [
       "<div>\n",
       "<style scoped>\n",
       "    .dataframe tbody tr th:only-of-type {\n",
       "        vertical-align: middle;\n",
       "    }\n",
       "\n",
       "    .dataframe tbody tr th {\n",
       "        vertical-align: top;\n",
       "    }\n",
       "\n",
       "    .dataframe thead th {\n",
       "        text-align: right;\n",
       "    }\n",
       "</style>\n",
       "<table border=\"1\" class=\"dataframe\">\n",
       "  <thead>\n",
       "    <tr style=\"text-align: right;\">\n",
       "      <th></th>\n",
       "      <th>Literacy_Rate</th>\n",
       "      <th>Military_Spendings</th>\n",
       "      <th>GDP_Per_Capita</th>\n",
       "      <th>Child_Mortality_Rate</th>\n",
       "      <th>GDP</th>\n",
       "      <th>HDI</th>\n",
       "      <th>Life_Expectancy</th>\n",
       "      <th>Obesity_Rate</th>\n",
       "    </tr>\n",
       "  </thead>\n",
       "  <tbody>\n",
       "    <tr>\n",
       "      <th>0</th>\n",
       "      <td>-2.652409</td>\n",
       "      <td>-0.171599</td>\n",
       "      <td>-0.908458</td>\n",
       "      <td>1.738822</td>\n",
       "      <td>-0.293326</td>\n",
       "      <td>-1.736553</td>\n",
       "      <td>-1.607646</td>\n",
       "      <td>-1.218804</td>\n",
       "    </tr>\n",
       "    <tr>\n",
       "      <th>1</th>\n",
       "      <td>0.762728</td>\n",
       "      <td>-0.170139</td>\n",
       "      <td>-0.533959</td>\n",
       "      <td>-0.525469</td>\n",
       "      <td>-0.302662</td>\n",
       "      <td>0.297187</td>\n",
       "      <td>0.721587</td>\n",
       "      <td>0.072038</td>\n",
       "    </tr>\n",
       "    <tr>\n",
       "      <th>2</th>\n",
       "      <td>-0.746069</td>\n",
       "      <td>-0.114086</td>\n",
       "      <td>-0.373150</td>\n",
       "      <td>0.363939</td>\n",
       "      <td>-0.106952</td>\n",
       "      <td>0.210871</td>\n",
       "      <td>-0.055885</td>\n",
       "      <td>0.307427</td>\n",
       "    </tr>\n",
       "    <tr>\n",
       "      <th>3</th>\n",
       "      <td>0.752017</td>\n",
       "      <td>0.000000</td>\n",
       "      <td>0.000000</td>\n",
       "      <td>0.000000</td>\n",
       "      <td>0.000000</td>\n",
       "      <td>0.000000</td>\n",
       "      <td>0.523360</td>\n",
       "      <td>0.000000</td>\n",
       "    </tr>\n",
       "    <tr>\n",
       "      <th>4</th>\n",
       "      <td>-0.596104</td>\n",
       "      <td>-0.138192</td>\n",
       "      <td>-0.709453</td>\n",
       "      <td>1.823230</td>\n",
       "      <td>-0.269781</td>\n",
       "      <td>-0.967307</td>\n",
       "      <td>-1.941356</td>\n",
       "      <td>-1.088006</td>\n",
       "    </tr>\n",
       "  </tbody>\n",
       "</table>\n",
       "</div>"
      ],
      "text/plain": [
       "   Literacy_Rate  Military_Spendings  GDP_Per_Capita  Child_Mortality_Rate  \\\n",
       "0      -2.652409           -0.171599       -0.908458              1.738822   \n",
       "1       0.762728           -0.170139       -0.533959             -0.525469   \n",
       "2      -0.746069           -0.114086       -0.373150              0.363939   \n",
       "3       0.752017            0.000000        0.000000              0.000000   \n",
       "4      -0.596104           -0.138192       -0.709453              1.823230   \n",
       "\n",
       "        GDP       HDI  Life_Expectancy  Obesity_Rate  \n",
       "0 -0.293326 -1.736553        -1.607646     -1.218804  \n",
       "1 -0.302662  0.297187         0.721587      0.072038  \n",
       "2 -0.106952  0.210871        -0.055885      0.307427  \n",
       "3  0.000000  0.000000         0.523360      0.000000  \n",
       "4 -0.269781 -0.967307        -1.941356     -1.088006  "
      ]
     },
     "execution_count": 362,
     "metadata": {},
     "output_type": "execute_result"
    }
   ],
   "source": [
    "S.head()"
   ]
  },
  {
   "cell_type": "code",
   "execution_count": 363,
   "metadata": {},
   "outputs": [
    {
     "name": "stdout",
     "output_type": "stream",
     "text": [
      "211\n",
      "8\n",
      "11\n"
     ]
    }
   ],
   "source": [
    "n_samples = S.shape[0]\n",
    "n_features = S.shape[1]\n",
    "n_targets = E.shape[1]\n",
    "print(n_samples)\n",
    "print(n_features)\n",
    "print(n_targets)"
   ]
  },
  {
   "cell_type": "code",
   "execution_count": 387,
   "metadata": {},
   "outputs": [],
   "source": [
    "ca = CCA(n_components=n_features)\n",
    "ca.fit(S, E)\n",
    "S_c, E_c = ca.transform(S, E)"
   ]
  },
  {
   "cell_type": "code",
   "execution_count": 388,
   "metadata": {},
   "outputs": [
    {
     "data": {
      "image/png": "[encoded data removed]",
      "text/plain": [
       "<Figure size 432x288 with 1 Axes>"
      ]
     },
     "metadata": {
      "needs_background": "light"
     },
     "output_type": "display_data"
    }
   ],
   "source": [
    "for i in range(n_features):\n",
    "    plt.plot(ca.x_loadings_[i])\n"
   ]
  },
  {
   "cell_type": "code",
   "execution_count": 389,
   "metadata": {},
   "outputs": [
    {
     "data": {
      "image/png": "[encoded data removed]",
      "text/plain": [
       "<Figure size 432x288 with 1 Axes>"
      ]
     },
     "metadata": {
      "needs_background": "light"
     },
     "output_type": "display_data"
    }
   ],
   "source": [
    "for i in range(n_features):\n",
    "    plt.plot(ca.y_loadings_[i])"
   ]
  },
  {
   "cell_type": "code",
   "execution_count": 390,
   "metadata": {},
   "outputs": [
    {
     "data": {
      "text/plain": [
       "array([0.82734954, 0.61189237, 0.25465537, 0.20814926, 0.16491439,\n",
       "       0.08541058, 0.01434222, 0.01028378])"
      ]
     },
     "execution_count": 390,
     "metadata": {},
     "output_type": "execute_result"
    }
   ],
   "source": [
    "# pairwise canonical correlations \n",
    "np.corrcoef(E_c.T, S_c.T).diagonal(offset=n_features)\n",
    "# we see quite high correlation in the first and second canonical component. let's plot the corresponding loadings \n",
    "# to investigate further\n"
   ]
  },
  {
   "cell_type": "code",
   "execution_count": 391,
   "metadata": {},
   "outputs": [
    {
     "name": "stdout",
     "output_type": "stream",
     "text": [
      "[ 0.44423366  0.98887869  0.39972542 -0.6671356   0.61763498 -0.15299506\n",
      " -0.51489426 -0.48429212]\n"
     ]
    },
    {
     "data": {
      "text/plain": [
       "<BarContainer object of 8 artists>"
      ]
     },
     "execution_count": 391,
     "metadata": {},
     "output_type": "execute_result"
    },
    {
     "data": {
      "image/png": "[encoded data removed]",
      "text/plain": [
       "<Figure size 432x288 with 1 Axes>"
      ]
     },
     "metadata": {
      "needs_background": "light"
     },
     "output_type": "display_data"
    }
   ],
   "source": [
    "# first component. x and y are plotted seperately due to large size in x\n",
    "# 1e6 seems extreme. don't know whats wrong \n",
    "n = 0\n",
    "print(ca.x_loadings_[n])\n",
    "plt.bar(x=np.arange(0,len(ca.x_loadings_[n])), height=ca.x_loadings_[n])"
   ]
  },
  {
   "cell_type": "code",
   "execution_count": 392,
   "metadata": {},
   "outputs": [
    {
     "name": "stdout",
     "output_type": "stream",
     "text": [
      "[ 5.61802803e+06  7.48284117e+05  2.55885109e+01 -5.46507477e-01\n",
      " -8.00565563e-02 -1.02506118e+00 -1.12514547e-01  4.30334162e-01]\n"
     ]
    },
    {
     "data": {
      "text/plain": [
       "<BarContainer object of 8 artists>"
      ]
     },
     "execution_count": 392,
     "metadata": {},
     "output_type": "execute_result"
    },
    {
     "data": {
      "image/png": "[encoded data removed]",
      "text/plain": [
       "<Figure size 432x288 with 1 Axes>"
      ]
     },
     "metadata": {
      "needs_background": "light"
     },
     "output_type": "display_data"
    }
   ],
   "source": [
    "print(ca.y_loadings_[n])\n",
    "plt.bar(x=np.arange(0,len(ca.y_loadings_[n])), height=ca.y_loadings_[n])"
   ]
  },
  {
   "cell_type": "code",
   "execution_count": 370,
   "metadata": {},
   "outputs": [
    {
     "name": "stdout",
     "output_type": "stream",
     "text": [
      "[-3.03562984e+07 -5.44780563e+06  4.28295050e+00 -1.54280992e-01\n",
      " -2.15945576e-01  2.68578483e-01 -3.77195479e-01 -8.73466900e-02]\n"
     ]
    },
    {
     "data": {
      "text/plain": [
       "<BarContainer object of 8 artists>"
      ]
     },
     "execution_count": 370,
     "metadata": {},
     "output_type": "execute_result"
    },
    {
     "data": {
      "image/png": "[encoded data removed]",
      "text/plain": [
       "<Figure size 432x288 with 1 Axes>"
      ]
     },
     "metadata": {
      "needs_background": "light"
     },
     "output_type": "display_data"
    }
   ],
   "source": [
    "# second component\n",
    "n = 1\n",
    "print(ca.x_loadings_[n])\n",
    "plt.bar(x=np.arange(0,len(ca.x_loadings_[n])), height=ca.x_loadings_[n])"
   ]
  },
  {
   "cell_type": "code",
   "execution_count": 371,
   "metadata": {},
   "outputs": [
    {
     "name": "stdout",
     "output_type": "stream",
     "text": [
      "[-0.336413    0.24027033  0.98052    -0.07177308  0.6042939   0.68848395\n",
      "  0.12368921 -0.18918714]\n"
     ]
    },
    {
     "data": {
      "text/plain": [
       "<BarContainer object of 8 artists>"
      ]
     },
     "execution_count": 371,
     "metadata": {},
     "output_type": "execute_result"
    },
    {
     "data": {
      "image/png": "[encoded data removed]",
      "text/plain": [
       "<Figure size 432x288 with 1 Axes>"
      ]
     },
     "metadata": {
      "needs_background": "light"
     },
     "output_type": "display_data"
    }
   ],
   "source": [
    "print(ca.y_loadings_[n])\n",
    "plt.bar(x=np.arange(0,len(ca.y_loadings_[n])), height=ca.y_loadings_[n])"
   ]
  },
  {
   "cell_type": "code",
   "execution_count": 372,
   "metadata": {},
   "outputs": [
    {
     "data": {
      "text/plain": [
       "Index(['Coal per capita (kWh)', 'Fossil Fuels per capita (kWh)',\n",
       "       'Energy per capita (kWh)', 'Low-carbon energy per capita (kWh)',\n",
       "       'Gas per capita (kWh)', 'Nuclear per capita (kWh)',\n",
       "       'Oil per capita (kWh)', 'Renewables per capita (kWh)',\n",
       "       'Wind per capita (kWh)', 'Solar per capita (kWh)',\n",
       "       'Hydro per capita (kWh)'],\n",
       "      dtype='object')"
      ]
     },
     "execution_count": 372,
     "metadata": {},
     "output_type": "execute_result"
    }
   ],
   "source": [
    "E.columns"
   ]
  },
  {
   "cell_type": "code",
   "execution_count": 373,
   "metadata": {},
   "outputs": [
    {
     "data": {
      "text/html": [
       "<div>\n",
       "<style scoped>\n",
       "    .dataframe tbody tr th:only-of-type {\n",
       "        vertical-align: middle;\n",
       "    }\n",
       "\n",
       "    .dataframe tbody tr th {\n",
       "        vertical-align: top;\n",
       "    }\n",
       "\n",
       "    .dataframe thead th {\n",
       "        text-align: right;\n",
       "    }\n",
       "</style>\n",
       "<table border=\"1\" class=\"dataframe\">\n",
       "  <thead>\n",
       "    <tr style=\"text-align: right;\">\n",
       "      <th></th>\n",
       "      <th>Coal per capita (kWh)</th>\n",
       "      <th>Fossil Fuels per capita (kWh)</th>\n",
       "      <th>Energy per capita (kWh)</th>\n",
       "      <th>Low-carbon energy per capita (kWh)</th>\n",
       "      <th>Gas per capita (kWh)</th>\n",
       "      <th>Nuclear per capita (kWh)</th>\n",
       "      <th>Oil per capita (kWh)</th>\n",
       "      <th>Renewables per capita (kWh)</th>\n",
       "      <th>Wind per capita (kWh)</th>\n",
       "      <th>Solar per capita (kWh)</th>\n",
       "      <th>Hydro per capita (kWh)</th>\n",
       "    </tr>\n",
       "  </thead>\n",
       "  <tbody>\n",
       "    <tr>\n",
       "      <th>count</th>\n",
       "      <td>2.110000e+02</td>\n",
       "      <td>2.110000e+02</td>\n",
       "      <td>2.110000e+02</td>\n",
       "      <td>2.110000e+02</td>\n",
       "      <td>2.110000e+02</td>\n",
       "      <td>2.110000e+02</td>\n",
       "      <td>2.110000e+02</td>\n",
       "      <td>2.110000e+02</td>\n",
       "      <td>2.110000e+02</td>\n",
       "      <td>2.110000e+02</td>\n",
       "      <td>2.110000e+02</td>\n",
       "    </tr>\n",
       "    <tr>\n",
       "      <th>mean</th>\n",
       "      <td>1.452235e-16</td>\n",
       "      <td>-4.419845e-17</td>\n",
       "      <td>1.410141e-16</td>\n",
       "      <td>1.341739e-17</td>\n",
       "      <td>-2.157305e-17</td>\n",
       "      <td>3.472736e-17</td>\n",
       "      <td>1.104961e-16</td>\n",
       "      <td>3.604279e-17</td>\n",
       "      <td>4.893400e-17</td>\n",
       "      <td>-3.051798e-17</td>\n",
       "      <td>-8.155667e-18</td>\n",
       "    </tr>\n",
       "    <tr>\n",
       "      <th>std</th>\n",
       "      <td>6.094494e-01</td>\n",
       "      <td>6.094494e-01</td>\n",
       "      <td>1.000000e+00</td>\n",
       "      <td>6.094494e-01</td>\n",
       "      <td>6.094494e-01</td>\n",
       "      <td>6.094494e-01</td>\n",
       "      <td>6.094494e-01</td>\n",
       "      <td>6.094494e-01</td>\n",
       "      <td>6.094494e-01</td>\n",
       "      <td>6.094494e-01</td>\n",
       "      <td>6.094494e-01</td>\n",
       "    </tr>\n",
       "    <tr>\n",
       "      <th>min</th>\n",
       "      <td>-7.539263e-01</td>\n",
       "      <td>-1.039824e+00</td>\n",
       "      <td>-7.610407e-01</td>\n",
       "      <td>-4.704477e-01</td>\n",
       "      <td>-5.163250e-01</td>\n",
       "      <td>-5.098541e-01</td>\n",
       "      <td>-1.065748e+00</td>\n",
       "      <td>-3.702629e-01</td>\n",
       "      <td>-5.322614e-01</td>\n",
       "      <td>-7.095299e-01</td>\n",
       "      <td>-3.517782e-01</td>\n",
       "    </tr>\n",
       "    <tr>\n",
       "      <th>25%</th>\n",
       "      <td>0.000000e+00</td>\n",
       "      <td>-1.453256e-02</td>\n",
       "      <td>-6.562460e-01</td>\n",
       "      <td>-1.513478e-01</td>\n",
       "      <td>-1.184147e-01</td>\n",
       "      <td>-4.731565e-01</td>\n",
       "      <td>0.000000e+00</td>\n",
       "      <td>-2.091313e-01</td>\n",
       "      <td>-2.137349e-01</td>\n",
       "      <td>-1.523820e-02</td>\n",
       "      <td>-1.992487e-01</td>\n",
       "    </tr>\n",
       "    <tr>\n",
       "      <th>50%</th>\n",
       "      <td>0.000000e+00</td>\n",
       "      <td>0.000000e+00</td>\n",
       "      <td>-3.658402e-01</td>\n",
       "      <td>0.000000e+00</td>\n",
       "      <td>0.000000e+00</td>\n",
       "      <td>0.000000e+00</td>\n",
       "      <td>0.000000e+00</td>\n",
       "      <td>0.000000e+00</td>\n",
       "      <td>0.000000e+00</td>\n",
       "      <td>0.000000e+00</td>\n",
       "      <td>0.000000e+00</td>\n",
       "    </tr>\n",
       "    <tr>\n",
       "      <th>75%</th>\n",
       "      <td>0.000000e+00</td>\n",
       "      <td>0.000000e+00</td>\n",
       "      <td>2.938026e-01</td>\n",
       "      <td>0.000000e+00</td>\n",
       "      <td>0.000000e+00</td>\n",
       "      <td>0.000000e+00</td>\n",
       "      <td>0.000000e+00</td>\n",
       "      <td>0.000000e+00</td>\n",
       "      <td>0.000000e+00</td>\n",
       "      <td>0.000000e+00</td>\n",
       "      <td>0.000000e+00</td>\n",
       "    </tr>\n",
       "    <tr>\n",
       "      <th>max</th>\n",
       "      <td>3.324533e+00</td>\n",
       "      <td>5.000612e+00</td>\n",
       "      <td>6.189207e+00</td>\n",
       "      <td>5.259821e+00</td>\n",
       "      <td>6.905125e+00</td>\n",
       "      <td>4.523752e+00</td>\n",
       "      <td>4.748967e+00</td>\n",
       "      <td>5.736283e+00</td>\n",
       "      <td>6.079005e+00</td>\n",
       "      <td>3.851100e+00</td>\n",
       "      <td>5.945571e+00</td>\n",
       "    </tr>\n",
       "  </tbody>\n",
       "</table>\n",
       "</div>"
      ],
      "text/plain": [
       "       Coal per capita (kWh)  Fossil Fuels per capita (kWh)  \\\n",
       "count           2.110000e+02                   2.110000e+02   \n",
       "mean            1.452235e-16                  -4.419845e-17   \n",
       "std             6.094494e-01                   6.094494e-01   \n",
       "min            -7.539263e-01                  -1.039824e+00   \n",
       "25%             0.000000e+00                  -1.453256e-02   \n",
       "50%             0.000000e+00                   0.000000e+00   \n",
       "75%             0.000000e+00                   0.000000e+00   \n",
       "max             3.324533e+00                   5.000612e+00   \n",
       "\n",
       "       Energy per capita (kWh)  Low-carbon energy per capita (kWh)  \\\n",
       "count             2.110000e+02                        2.110000e+02   \n",
       "mean              1.410141e-16                        1.341739e-17   \n",
       "std               1.000000e+00                        6.094494e-01   \n",
       "min              -7.610407e-01                       -4.704477e-01   \n",
       "25%              -6.562460e-01                       -1.513478e-01   \n",
       "50%              -3.658402e-01                        0.000000e+00   \n",
       "75%               2.938026e-01                        0.000000e+00   \n",
       "max               6.189207e+00                        5.259821e+00   \n",
       "\n",
       "       Gas per capita (kWh)  Nuclear per capita (kWh)  Oil per capita (kWh)  \\\n",
       "count          2.110000e+02              2.110000e+02          2.110000e+02   \n",
       "mean          -2.157305e-17              3.472736e-17          1.104961e-16   \n",
       "std            6.094494e-01              6.094494e-01          6.094494e-01   \n",
       "min           -5.163250e-01             -5.098541e-01         -1.065748e+00   \n",
       "25%           -1.184147e-01             -4.731565e-01          0.000000e+00   \n",
       "50%            0.000000e+00              0.000000e+00          0.000000e+00   \n",
       "75%            0.000000e+00              0.000000e+00          0.000000e+00   \n",
       "max            6.905125e+00              4.523752e+00          4.748967e+00   \n",
       "\n",
       "       Renewables per capita (kWh)  Wind per capita (kWh)  \\\n",
       "count                 2.110000e+02           2.110000e+02   \n",
       "mean                  3.604279e-17           4.893400e-17   \n",
       "std                   6.094494e-01           6.094494e-01   \n",
       "min                  -3.702629e-01          -5.322614e-01   \n",
       "25%                  -2.091313e-01          -2.137349e-01   \n",
       "50%                   0.000000e+00           0.000000e+00   \n",
       "75%                   0.000000e+00           0.000000e+00   \n",
       "max                   5.736283e+00           6.079005e+00   \n",
       "\n",
       "       Solar per capita (kWh)  Hydro per capita (kWh)  \n",
       "count            2.110000e+02            2.110000e+02  \n",
       "mean            -3.051798e-17           -8.155667e-18  \n",
       "std              6.094494e-01            6.094494e-01  \n",
       "min             -7.095299e-01           -3.517782e-01  \n",
       "25%             -1.523820e-02           -1.992487e-01  \n",
       "50%              0.000000e+00            0.000000e+00  \n",
       "75%              0.000000e+00            0.000000e+00  \n",
       "max              3.851100e+00            5.945571e+00  "
      ]
     },
     "execution_count": 373,
     "metadata": {},
     "output_type": "execute_result"
    }
   ],
   "source": [
    "E.describe()"
   ]
  },
  {
   "cell_type": "code",
   "execution_count": 374,
   "metadata": {},
   "outputs": [
    {
     "data": {
      "text/html": [
       "<div>\n",
       "<style scoped>\n",
       "    .dataframe tbody tr th:only-of-type {\n",
       "        vertical-align: middle;\n",
       "    }\n",
       "\n",
       "    .dataframe tbody tr th {\n",
       "        vertical-align: top;\n",
       "    }\n",
       "\n",
       "    .dataframe thead th {\n",
       "        text-align: right;\n",
       "    }\n",
       "</style>\n",
       "<table border=\"1\" class=\"dataframe\">\n",
       "  <thead>\n",
       "    <tr style=\"text-align: right;\">\n",
       "      <th></th>\n",
       "      <th>Coal per capita (kWh)</th>\n",
       "      <th>Fossil Fuels per capita (kWh)</th>\n",
       "      <th>Energy per capita (kWh)</th>\n",
       "      <th>Low-carbon energy per capita (kWh)</th>\n",
       "      <th>Gas per capita (kWh)</th>\n",
       "      <th>Nuclear per capita (kWh)</th>\n",
       "      <th>Oil per capita (kWh)</th>\n",
       "      <th>Renewables per capita (kWh)</th>\n",
       "      <th>Wind per capita (kWh)</th>\n",
       "      <th>Solar per capita (kWh)</th>\n",
       "      <th>Hydro per capita (kWh)</th>\n",
       "    </tr>\n",
       "  </thead>\n",
       "  <tbody>\n",
       "    <tr>\n",
       "      <th>0</th>\n",
       "      <td>NaN</td>\n",
       "      <td>NaN</td>\n",
       "      <td>-0.733203</td>\n",
       "      <td>NaN</td>\n",
       "      <td>NaN</td>\n",
       "      <td>NaN</td>\n",
       "      <td>NaN</td>\n",
       "      <td>NaN</td>\n",
       "      <td>NaN</td>\n",
       "      <td>NaN</td>\n",
       "      <td>NaN</td>\n",
       "    </tr>\n",
       "    <tr>\n",
       "      <th>1</th>\n",
       "      <td>NaN</td>\n",
       "      <td>NaN</td>\n",
       "      <td>-0.389777</td>\n",
       "      <td>NaN</td>\n",
       "      <td>NaN</td>\n",
       "      <td>NaN</td>\n",
       "      <td>NaN</td>\n",
       "      <td>NaN</td>\n",
       "      <td>NaN</td>\n",
       "      <td>NaN</td>\n",
       "      <td>NaN</td>\n",
       "    </tr>\n",
       "    <tr>\n",
       "      <th>2</th>\n",
       "      <td>-0.731341</td>\n",
       "      <td>-0.752100</td>\n",
       "      <td>-0.448624</td>\n",
       "      <td>-0.467206</td>\n",
       "      <td>-0.226786</td>\n",
       "      <td>-0.509854</td>\n",
       "      <td>-0.835508</td>\n",
       "      <td>-0.366808</td>\n",
       "      <td>-0.531916</td>\n",
       "      <td>-0.649154</td>\n",
       "      <td>-0.348045</td>\n",
       "    </tr>\n",
       "    <tr>\n",
       "      <th>3</th>\n",
       "      <td>NaN</td>\n",
       "      <td>NaN</td>\n",
       "      <td>0.572834</td>\n",
       "      <td>NaN</td>\n",
       "      <td>NaN</td>\n",
       "      <td>NaN</td>\n",
       "      <td>NaN</td>\n",
       "      <td>NaN</td>\n",
       "      <td>NaN</td>\n",
       "      <td>NaN</td>\n",
       "      <td>NaN</td>\n",
       "    </tr>\n",
       "    <tr>\n",
       "      <th>4</th>\n",
       "      <td>NaN</td>\n",
       "      <td>NaN</td>\n",
       "      <td>-0.681636</td>\n",
       "      <td>NaN</td>\n",
       "      <td>NaN</td>\n",
       "      <td>NaN</td>\n",
       "      <td>NaN</td>\n",
       "      <td>NaN</td>\n",
       "      <td>NaN</td>\n",
       "      <td>NaN</td>\n",
       "      <td>NaN</td>\n",
       "    </tr>\n",
       "    <tr>\n",
       "      <th>...</th>\n",
       "      <td>...</td>\n",
       "      <td>...</td>\n",
       "      <td>...</td>\n",
       "      <td>...</td>\n",
       "      <td>...</td>\n",
       "      <td>...</td>\n",
       "      <td>...</td>\n",
       "      <td>...</td>\n",
       "      <td>...</td>\n",
       "      <td>...</td>\n",
       "      <td>...</td>\n",
       "    </tr>\n",
       "    <tr>\n",
       "      <th>206</th>\n",
       "      <td>-0.743874</td>\n",
       "      <td>-0.291213</td>\n",
       "      <td>0.141644</td>\n",
       "      <td>-0.078062</td>\n",
       "      <td>0.027129</td>\n",
       "      <td>-0.509854</td>\n",
       "      <td>-0.238859</td>\n",
       "      <td>0.047888</td>\n",
       "      <td>-0.532254</td>\n",
       "      <td>-0.706793</td>\n",
       "      <td>0.108415</td>\n",
       "    </tr>\n",
       "    <tr>\n",
       "      <th>207</th>\n",
       "      <td>-0.605182</td>\n",
       "      <td>-0.984805</td>\n",
       "      <td>-0.656762</td>\n",
       "      <td>-0.425503</td>\n",
       "      <td>-0.501085</td>\n",
       "      <td>-0.509854</td>\n",
       "      <td>-1.000860</td>\n",
       "      <td>-0.322367</td>\n",
       "      <td>-0.530044</td>\n",
       "      <td>-0.580451</td>\n",
       "      <td>-0.299582</td>\n",
       "    </tr>\n",
       "    <tr>\n",
       "      <th>208</th>\n",
       "      <td>NaN</td>\n",
       "      <td>NaN</td>\n",
       "      <td>-0.652240</td>\n",
       "      <td>NaN</td>\n",
       "      <td>NaN</td>\n",
       "      <td>NaN</td>\n",
       "      <td>NaN</td>\n",
       "      <td>NaN</td>\n",
       "      <td>NaN</td>\n",
       "      <td>NaN</td>\n",
       "      <td>NaN</td>\n",
       "    </tr>\n",
       "    <tr>\n",
       "      <th>209</th>\n",
       "      <td>NaN</td>\n",
       "      <td>NaN</td>\n",
       "      <td>-0.641635</td>\n",
       "      <td>NaN</td>\n",
       "      <td>NaN</td>\n",
       "      <td>NaN</td>\n",
       "      <td>NaN</td>\n",
       "      <td>NaN</td>\n",
       "      <td>NaN</td>\n",
       "      <td>NaN</td>\n",
       "      <td>NaN</td>\n",
       "    </tr>\n",
       "    <tr>\n",
       "      <th>210</th>\n",
       "      <td>NaN</td>\n",
       "      <td>NaN</td>\n",
       "      <td>-0.616534</td>\n",
       "      <td>NaN</td>\n",
       "      <td>NaN</td>\n",
       "      <td>NaN</td>\n",
       "      <td>NaN</td>\n",
       "      <td>NaN</td>\n",
       "      <td>NaN</td>\n",
       "      <td>NaN</td>\n",
       "      <td>NaN</td>\n",
       "    </tr>\n",
       "  </tbody>\n",
       "</table>\n",
       "<p>211 rows × 11 columns</p>\n",
       "</div>"
      ],
      "text/plain": [
       "     Coal per capita (kWh)  Fossil Fuels per capita (kWh)  \\\n",
       "0                      NaN                            NaN   \n",
       "1                      NaN                            NaN   \n",
       "2                -0.731341                      -0.752100   \n",
       "3                      NaN                            NaN   \n",
       "4                      NaN                            NaN   \n",
       "..                     ...                            ...   \n",
       "206              -0.743874                      -0.291213   \n",
       "207              -0.605182                      -0.984805   \n",
       "208                    NaN                            NaN   \n",
       "209                    NaN                            NaN   \n",
       "210                    NaN                            NaN   \n",
       "\n",
       "     Energy per capita (kWh)  Low-carbon energy per capita (kWh)  \\\n",
       "0                  -0.733203                                 NaN   \n",
       "1                  -0.389777                                 NaN   \n",
       "2                  -0.448624                           -0.467206   \n",
       "3                   0.572834                                 NaN   \n",
       "4                  -0.681636                                 NaN   \n",
       "..                       ...                                 ...   \n",
       "206                 0.141644                           -0.078062   \n",
       "207                -0.656762                           -0.425503   \n",
       "208                -0.652240                                 NaN   \n",
       "209                -0.641635                                 NaN   \n",
       "210                -0.616534                                 NaN   \n",
       "\n",
       "     Gas per capita (kWh)  Nuclear per capita (kWh)  Oil per capita (kWh)  \\\n",
       "0                     NaN                       NaN                   NaN   \n",
       "1                     NaN                       NaN                   NaN   \n",
       "2               -0.226786                 -0.509854             -0.835508   \n",
       "3                     NaN                       NaN                   NaN   \n",
       "4                     NaN                       NaN                   NaN   \n",
       "..                    ...                       ...                   ...   \n",
       "206              0.027129                 -0.509854             -0.238859   \n",
       "207             -0.501085                 -0.509854             -1.000860   \n",
       "208                   NaN                       NaN                   NaN   \n",
       "209                   NaN                       NaN                   NaN   \n",
       "210                   NaN                       NaN                   NaN   \n",
       "\n",
       "     Renewables per capita (kWh)  Wind per capita (kWh)  \\\n",
       "0                            NaN                    NaN   \n",
       "1                            NaN                    NaN   \n",
       "2                      -0.366808              -0.531916   \n",
       "3                            NaN                    NaN   \n",
       "4                            NaN                    NaN   \n",
       "..                           ...                    ...   \n",
       "206                     0.047888              -0.532254   \n",
       "207                    -0.322367              -0.530044   \n",
       "208                          NaN                    NaN   \n",
       "209                          NaN                    NaN   \n",
       "210                          NaN                    NaN   \n",
       "\n",
       "     Solar per capita (kWh)  Hydro per capita (kWh)  \n",
       "0                       NaN                     NaN  \n",
       "1                       NaN                     NaN  \n",
       "2                 -0.649154               -0.348045  \n",
       "3                       NaN                     NaN  \n",
       "4                       NaN                     NaN  \n",
       "..                      ...                     ...  \n",
       "206               -0.706793                0.108415  \n",
       "207               -0.580451               -0.299582  \n",
       "208                     NaN                     NaN  \n",
       "209                     NaN                     NaN  \n",
       "210                     NaN                     NaN  \n",
       "\n",
       "[211 rows x 11 columns]"
      ]
     },
     "execution_count": 374,
     "metadata": {},
     "output_type": "execute_result"
    }
   ],
   "source": [
    "(df_energy_sub - df_energy_sub.mean())/df_energy_sub.std()"
   ]
  },
  {
   "cell_type": "code",
   "execution_count": 375,
   "metadata": {},
   "outputs": [
    {
     "data": {
      "text/html": [
       "<div>\n",
       "<style scoped>\n",
       "    .dataframe tbody tr th:only-of-type {\n",
       "        vertical-align: middle;\n",
       "    }\n",
       "\n",
       "    .dataframe tbody tr th {\n",
       "        vertical-align: top;\n",
       "    }\n",
       "\n",
       "    .dataframe thead th {\n",
       "        text-align: right;\n",
       "    }\n",
       "</style>\n",
       "<table border=\"1\" class=\"dataframe\">\n",
       "  <thead>\n",
       "    <tr style=\"text-align: right;\">\n",
       "      <th></th>\n",
       "      <th>Entity</th>\n",
       "      <th>Unnamed: 0</th>\n",
       "      <th>Year</th>\n",
       "      <th>Coal per capita (kWh)</th>\n",
       "      <th>Fossil Fuels per capita (kWh)</th>\n",
       "      <th>Energy per capita (kWh)</th>\n",
       "      <th>Low-carbon energy per capita (kWh)</th>\n",
       "      <th>Gas per capita (kWh)</th>\n",
       "      <th>Nuclear per capita (kWh)</th>\n",
       "      <th>Oil per capita (kWh)</th>\n",
       "      <th>Renewables per capita (kWh)</th>\n",
       "      <th>Wind per capita (kWh)</th>\n",
       "      <th>Solar per capita (kWh)</th>\n",
       "      <th>Hydro per capita (kWh)</th>\n",
       "    </tr>\n",
       "  </thead>\n",
       "  <tbody>\n",
       "    <tr>\n",
       "      <th>0</th>\n",
       "      <td>Afghanistan</td>\n",
       "      <td>4162.5</td>\n",
       "      <td>1999.5</td>\n",
       "      <td>NaN</td>\n",
       "      <td>NaN</td>\n",
       "      <td>875.858550</td>\n",
       "      <td>NaN</td>\n",
       "      <td>NaN</td>\n",
       "      <td>NaN</td>\n",
       "      <td>NaN</td>\n",
       "      <td>NaN</td>\n",
       "      <td>NaN</td>\n",
       "      <td>NaN</td>\n",
       "      <td>NaN</td>\n",
       "    </tr>\n",
       "    <tr>\n",
       "      <th>1</th>\n",
       "      <td>Albania</td>\n",
       "      <td>4202.5</td>\n",
       "      <td>1999.5</td>\n",
       "      <td>NaN</td>\n",
       "      <td>NaN</td>\n",
       "      <td>11681.020075</td>\n",
       "      <td>NaN</td>\n",
       "      <td>NaN</td>\n",
       "      <td>NaN</td>\n",
       "      <td>NaN</td>\n",
       "      <td>NaN</td>\n",
       "      <td>NaN</td>\n",
       "      <td>NaN</td>\n",
       "      <td>NaN</td>\n",
       "    </tr>\n",
       "    <tr>\n",
       "      <th>2</th>\n",
       "      <td>Algeria</td>\n",
       "      <td>27.5</td>\n",
       "      <td>1992.5</td>\n",
       "      <td>176.147429</td>\n",
       "      <td>9788.705911</td>\n",
       "      <td>9829.523857</td>\n",
       "      <td>40.825750</td>\n",
       "      <td>5870.029732</td>\n",
       "      <td>0.0</td>\n",
       "      <td>3742.528768</td>\n",
       "      <td>0.040826</td>\n",
       "      <td>0.093196</td>\n",
       "      <td>2.920946</td>\n",
       "      <td>37.811661</td>\n",
       "    </tr>\n",
       "    <tr>\n",
       "      <th>3</th>\n",
       "      <td>American Samoa</td>\n",
       "      <td>4242.5</td>\n",
       "      <td>1999.5</td>\n",
       "      <td>NaN</td>\n",
       "      <td>NaN</td>\n",
       "      <td>41967.546400</td>\n",
       "      <td>NaN</td>\n",
       "      <td>NaN</td>\n",
       "      <td>NaN</td>\n",
       "      <td>NaN</td>\n",
       "      <td>NaN</td>\n",
       "      <td>NaN</td>\n",
       "      <td>NaN</td>\n",
       "      <td>NaN</td>\n",
       "    </tr>\n",
       "    <tr>\n",
       "      <th>4</th>\n",
       "      <td>Angola</td>\n",
       "      <td>4282.5</td>\n",
       "      <td>1999.5</td>\n",
       "      <td>NaN</td>\n",
       "      <td>NaN</td>\n",
       "      <td>2498.295825</td>\n",
       "      <td>NaN</td>\n",
       "      <td>NaN</td>\n",
       "      <td>NaN</td>\n",
       "      <td>NaN</td>\n",
       "      <td>NaN</td>\n",
       "      <td>NaN</td>\n",
       "      <td>NaN</td>\n",
       "      <td>NaN</td>\n",
       "    </tr>\n",
       "    <tr>\n",
       "      <th>...</th>\n",
       "      <td>...</td>\n",
       "      <td>...</td>\n",
       "      <td>...</td>\n",
       "      <td>...</td>\n",
       "      <td>...</td>\n",
       "      <td>...</td>\n",
       "      <td>...</td>\n",
       "      <td>...</td>\n",
       "      <td>...</td>\n",
       "      <td>...</td>\n",
       "      <td>...</td>\n",
       "      <td>...</td>\n",
       "      <td>...</td>\n",
       "      <td>...</td>\n",
       "    </tr>\n",
       "    <tr>\n",
       "      <th>206</th>\n",
       "      <td>Venezuela</td>\n",
       "      <td>4058.5</td>\n",
       "      <td>1992.5</td>\n",
       "      <td>78.401054</td>\n",
       "      <td>23739.436250</td>\n",
       "      <td>28401.050446</td>\n",
       "      <td>4661.636893</td>\n",
       "      <td>11017.847196</td>\n",
       "      <td>0.0</td>\n",
       "      <td>12643.187804</td>\n",
       "      <td>4.661637</td>\n",
       "      <td>0.001893</td>\n",
       "      <td>0.132411</td>\n",
       "      <td>4661.502643</td>\n",
       "    </tr>\n",
       "    <tr>\n",
       "      <th>207</th>\n",
       "      <td>Vietnam</td>\n",
       "      <td>4114.5</td>\n",
       "      <td>1992.5</td>\n",
       "      <td>1160.075536</td>\n",
       "      <td>2744.903304</td>\n",
       "      <td>3280.915018</td>\n",
       "      <td>536.014250</td>\n",
       "      <td>308.975357</td>\n",
       "      <td>0.0</td>\n",
       "      <td>1275.852375</td>\n",
       "      <td>0.536014</td>\n",
       "      <td>0.597607</td>\n",
       "      <td>6.244732</td>\n",
       "      <td>528.714732</td>\n",
       "    </tr>\n",
       "    <tr>\n",
       "      <th>208</th>\n",
       "      <td>Yemen</td>\n",
       "      <td>9176.5</td>\n",
       "      <td>1999.5</td>\n",
       "      <td>NaN</td>\n",
       "      <td>NaN</td>\n",
       "      <td>3423.173625</td>\n",
       "      <td>NaN</td>\n",
       "      <td>NaN</td>\n",
       "      <td>NaN</td>\n",
       "      <td>NaN</td>\n",
       "      <td>NaN</td>\n",
       "      <td>NaN</td>\n",
       "      <td>NaN</td>\n",
       "      <td>NaN</td>\n",
       "    </tr>\n",
       "    <tr>\n",
       "      <th>209</th>\n",
       "      <td>Zambia</td>\n",
       "      <td>9216.5</td>\n",
       "      <td>1999.5</td>\n",
       "      <td>NaN</td>\n",
       "      <td>NaN</td>\n",
       "      <td>3756.863325</td>\n",
       "      <td>NaN</td>\n",
       "      <td>NaN</td>\n",
       "      <td>NaN</td>\n",
       "      <td>NaN</td>\n",
       "      <td>NaN</td>\n",
       "      <td>NaN</td>\n",
       "      <td>NaN</td>\n",
       "      <td>NaN</td>\n",
       "    </tr>\n",
       "    <tr>\n",
       "      <th>210</th>\n",
       "      <td>Zimbabwe</td>\n",
       "      <td>9256.5</td>\n",
       "      <td>1999.5</td>\n",
       "      <td>NaN</td>\n",
       "      <td>NaN</td>\n",
       "      <td>4546.594425</td>\n",
       "      <td>NaN</td>\n",
       "      <td>NaN</td>\n",
       "      <td>NaN</td>\n",
       "      <td>NaN</td>\n",
       "      <td>NaN</td>\n",
       "      <td>NaN</td>\n",
       "      <td>NaN</td>\n",
       "      <td>NaN</td>\n",
       "    </tr>\n",
       "  </tbody>\n",
       "</table>\n",
       "<p>211 rows × 14 columns</p>\n",
       "</div>"
      ],
      "text/plain": [
       "             Entity  Unnamed: 0    Year  Coal per capita (kWh)  \\\n",
       "0       Afghanistan      4162.5  1999.5                    NaN   \n",
       "1           Albania      4202.5  1999.5                    NaN   \n",
       "2           Algeria        27.5  1992.5             176.147429   \n",
       "3    American Samoa      4242.5  1999.5                    NaN   \n",
       "4            Angola      4282.5  1999.5                    NaN   \n",
       "..              ...         ...     ...                    ...   \n",
       "206       Venezuela      4058.5  1992.5              78.401054   \n",
       "207         Vietnam      4114.5  1992.5            1160.075536   \n",
       "208           Yemen      9176.5  1999.5                    NaN   \n",
       "209          Zambia      9216.5  1999.5                    NaN   \n",
       "210        Zimbabwe      9256.5  1999.5                    NaN   \n",
       "\n",
       "     Fossil Fuels per capita (kWh)  Energy per capita (kWh)  \\\n",
       "0                              NaN               875.858550   \n",
       "1                              NaN             11681.020075   \n",
       "2                      9788.705911              9829.523857   \n",
       "3                              NaN             41967.546400   \n",
       "4                              NaN              2498.295825   \n",
       "..                             ...                      ...   \n",
       "206                   23739.436250             28401.050446   \n",
       "207                    2744.903304              3280.915018   \n",
       "208                            NaN              3423.173625   \n",
       "209                            NaN              3756.863325   \n",
       "210                            NaN              4546.594425   \n",
       "\n",
       "     Low-carbon energy per capita (kWh)  Gas per capita (kWh)  \\\n",
       "0                                   NaN                   NaN   \n",
       "1                                   NaN                   NaN   \n",
       "2                             40.825750           5870.029732   \n",
       "3                                   NaN                   NaN   \n",
       "4                                   NaN                   NaN   \n",
       "..                                  ...                   ...   \n",
       "206                         4661.636893          11017.847196   \n",
       "207                          536.014250            308.975357   \n",
       "208                                 NaN                   NaN   \n",
       "209                                 NaN                   NaN   \n",
       "210                                 NaN                   NaN   \n",
       "\n",
       "     Nuclear per capita (kWh)  Oil per capita (kWh)  \\\n",
       "0                         NaN                   NaN   \n",
       "1                         NaN                   NaN   \n",
       "2                         0.0           3742.528768   \n",
       "3                         NaN                   NaN   \n",
       "4                         NaN                   NaN   \n",
       "..                        ...                   ...   \n",
       "206                       0.0          12643.187804   \n",
       "207                       0.0           1275.852375   \n",
       "208                       NaN                   NaN   \n",
       "209                       NaN                   NaN   \n",
       "210                       NaN                   NaN   \n",
       "\n",
       "     Renewables per capita (kWh)  Wind per capita (kWh)  \\\n",
       "0                            NaN                    NaN   \n",
       "1                            NaN                    NaN   \n",
       "2                       0.040826               0.093196   \n",
       "3                            NaN                    NaN   \n",
       "4                            NaN                    NaN   \n",
       "..                           ...                    ...   \n",
       "206                     4.661637               0.001893   \n",
       "207                     0.536014               0.597607   \n",
       "208                          NaN                    NaN   \n",
       "209                          NaN                    NaN   \n",
       "210                          NaN                    NaN   \n",
       "\n",
       "     Solar per capita (kWh)  Hydro per capita (kWh)  \n",
       "0                       NaN                     NaN  \n",
       "1                       NaN                     NaN  \n",
       "2                  2.920946               37.811661  \n",
       "3                       NaN                     NaN  \n",
       "4                       NaN                     NaN  \n",
       "..                      ...                     ...  \n",
       "206                0.132411             4661.502643  \n",
       "207                6.244732              528.714732  \n",
       "208                     NaN                     NaN  \n",
       "209                     NaN                     NaN  \n",
       "210                     NaN                     NaN  \n",
       "\n",
       "[211 rows x 14 columns]"
      ]
     },
     "execution_count": 375,
     "metadata": {},
     "output_type": "execute_result"
    }
   ],
   "source": [
    "df_energy"
   ]
  },
  {
   "cell_type": "code",
   "execution_count": 376,
   "metadata": {},
   "outputs": [
    {
     "data": {
      "text/plain": [
       "<AxesSubplot:>"
      ]
     },
     "execution_count": 376,
     "metadata": {},
     "output_type": "execute_result"
    },
    {
     "data": {
      "image/png": "[encoded data removed]",
      "text/plain": [
       "<Figure size 432x288 with 2 Axes>"
      ]
     },
     "metadata": {
      "needs_background": "light"
     },
     "output_type": "display_data"
    }
   ],
   "source": [
    "sns.heatmap(np.corrcoef(df_energy.iloc[:,4:].fillna(0).T), annot=True, fmt=\".1g\")"
   ]
  },
  {
   "cell_type": "code",
   "execution_count": 377,
   "metadata": {},
   "outputs": [
    {
     "data": {
      "text/plain": [
       "Index(['Fossil Fuels per capita (kWh)', 'Energy per capita (kWh)',\n",
       "       'Low-carbon energy per capita (kWh)', 'Gas per capita (kWh)',\n",
       "       'Nuclear per capita (kWh)', 'Oil per capita (kWh)',\n",
       "       'Renewables per capita (kWh)', 'Wind per capita (kWh)',\n",
       "       'Solar per capita (kWh)', 'Hydro per capita (kWh)'],\n",
       "      dtype='object')"
      ]
     },
     "execution_count": 377,
     "metadata": {},
     "output_type": "execute_result"
    }
   ],
   "source": [
    "df_energy.iloc[:,4:].columns"
   ]
  },
  {
   "cell_type": "code",
   "execution_count": null,
   "metadata": {},
   "outputs": [],
   "source": [
    "plt.scatter(ca.x_loadings_[b])"
   ]
  },
  {
   "cell_type": "code",
   "execution_count": 384,
   "metadata": {},
   "outputs": [
    {
     "data": {
      "text/plain": [
       "<matplotlib.collections.PathCollection at 0x7fa398863940>"
      ]
     },
     "execution_count": 384,
     "metadata": {},
     "output_type": "execute_result"
    },
    {
     "data": {
      "image/png": "[encoded data removed]",
      "text/plain": [
       "<Figure size 432x288 with 1 Axes>"
      ]
     },
     "metadata": {
      "needs_background": "light"
     },
     "output_type": "display_data"
    }
   ],
   "source": [
    "plt.scatter(E_c[:,0], S_c[:,0])"
   ]
  },
  {
   "cell_type": "code",
   "execution_count": 385,
   "metadata": {},
   "outputs": [
    {
     "data": {
      "text/plain": [
       "<matplotlib.collections.PathCollection at 0x7fa398a9af40>"
      ]
     },
     "execution_count": 385,
     "metadata": {},
     "output_type": "execute_result"
    },
    {
     "data": {
      "image/png": "[encoded data removed]",
      "text/plain": [
       "<Figure size 432x288 with 1 Axes>"
      ]
     },
     "metadata": {
      "needs_background": "light"
     },
     "output_type": "display_data"
    }
   ],
   "source": [
    "plt.scatter(E_c[:,1], S_c[:,1])"
   ]
  },
  {
   "cell_type": "code",
   "execution_count": 396,
   "metadata": {},
   "outputs": [],
   "source": [
    "# try with statsmodels instead \n",
    "res = CanCorr(E, S)"
   ]
  },
  {
   "cell_type": "code",
   "execution_count": 403,
   "metadata": {},
   "outputs": [],
   "source": [
    "test =  res.corr_test()"
   ]
  },
  {
   "cell_type": "code",
   "execution_count": 410,
   "metadata": {},
   "outputs": [
    {
     "data": {
      "text/html": [
       "<table class=\"simpletable\">\n",
       "<tr>\n",
       "  <td></td>  <th>Canonical Correlation</th> <th>Wilks' lambda</th> <th>Num DF</th>   <th>Den DF</th>   <th>F Value</th> <th>Pr > F</th>\n",
       "</tr>\n",
       "<tr>\n",
       "  <th>0</th>        <td>0.8293</td>            <td>0.1602</td>     <td>88.0000</td> <td>1248.8154</td> <td>4.5718</td>  <td>0.0000</td>\n",
       "</tr>\n",
       "<tr>\n",
       "  <th>1</th>        <td>0.6157</td>            <td>0.5130</td>     <td>70.0000</td> <td>1114.6975</td> <td>1.9313</td>  <td>0.0000</td>\n",
       "</tr>\n",
       "<tr>\n",
       "  <th>2</th>        <td>0.2834</td>            <td>0.8262</td>     <td>54.0000</td> <td>978.5068</td>  <td>0.6911</td>  <td>0.9563</td>\n",
       "</tr>\n",
       "<tr>\n",
       "  <th>3</th>        <td>0.2479</td>            <td>0.8984</td>     <td>40.0000</td> <td>839.7031</td>  <td>0.5225</td>  <td>0.9939</td>\n",
       "</tr>\n",
       "<tr>\n",
       "  <th>4</th>        <td>0.1691</td>            <td>0.9572</td>     <td>28.0000</td> <td>697.2936</td>  <td>0.3037</td>  <td>0.9998</td>\n",
       "</tr>\n",
       "<tr>\n",
       "  <th>5</th>        <td>0.1003</td>            <td>0.9854</td>     <td>18.0000</td> <td>549.2001</td>  <td>0.1589</td>  <td>1.0000</td>\n",
       "</tr>\n",
       "<tr>\n",
       "  <th>6</th>        <td>0.0661</td>            <td>0.9954</td>     <td>10.0000</td> <td>390.0000</td>  <td>0.0895</td>  <td>0.9999</td>\n",
       "</tr>\n",
       "<tr>\n",
       "  <th>7</th>        <td>0.0144</td>            <td>0.9998</td>     <td>4.0000</td>  <td>196.0000</td>  <td>0.0102</td>  <td>0.9998</td>\n",
       "</tr>\n",
       "</table>\n",
       "<table class=\"simpletable\">\n",
       "<tr>\n",
       "  <td></td> <td></td> <td></td> <td></td>\n",
       "</tr>\n",
       "</table>\n",
       "<table class=\"simpletable\">\n",
       "<tr>\n",
       "  <td>Multivariate Statistics and F Approximations</td> <td></td> <td></td> <td></td>\n",
       "</tr>\n",
       "</table>\n",
       "<table class=\"simpletable\">\n",
       "<tr>\n",
       "             <td></td>             <th>Value</th> <th>Num DF</th>   <th>Den DF</th>   <th>F Value</th> <th>Pr > F</th>\n",
       "</tr>\n",
       "<tr>\n",
       "  <th>Wilks' lambda</th>          <td>0.1602</td> <td>88.0000</td> <td>1268.4877</td> <td>4.6438</td>  <td>0.0000</td>\n",
       "</tr>\n",
       "<tr>\n",
       "  <th>Pillai's trace</th>         <td>1.2518</td> <td>88.0000</td> <td>1592.0000</td> <td>3.3560</td>  <td>0.0000</td>\n",
       "</tr>\n",
       "<tr>\n",
       "  <th>Hotelling-Lawley trace</th> <td>3.0097</td> <td>88.0000</td> <td>834.7763</td>  <td>6.5138</td>  <td>0.0000</td>\n",
       "</tr>\n",
       "<tr>\n",
       "  <th>Roy's greatest root</th>    <td>2.2021</td> <td>11.0000</td> <td>199.0000</td>  <td>39.8378</td> <td>0.0000</td>\n",
       "</tr>\n",
       "</table>"
      ],
      "text/plain": [
       "<class 'statsmodels.iolib.summary2.Summary'>\n",
       "\"\"\"\n",
       "                           Cancorr results\n",
       "======================================================================\n",
       "  Canonical Correlation Wilks' lambda  Num DF   Den DF  F Value Pr > F\n",
       "----------------------------------------------------------------------\n",
       "0                0.8293        0.1602 88.0000 1248.8154  4.5718 0.0000\n",
       "1                0.6157        0.5130 70.0000 1114.6975  1.9313 0.0000\n",
       "2                0.2834        0.8262 54.0000  978.5068  0.6911 0.9563\n",
       "3                0.2479        0.8984 40.0000  839.7031  0.5225 0.9939\n",
       "4                0.1691        0.9572 28.0000  697.2936  0.3037 0.9998\n",
       "5                0.1003        0.9854 18.0000  549.2001  0.1589 1.0000\n",
       "6                0.0661        0.9954 10.0000  390.0000  0.0895 0.9999\n",
       "7                0.0144        0.9998  4.0000  196.0000  0.0102 0.9998\n",
       "----------------------------------------------------------------------\n",
       "                                                                      \n",
       "----------------------------------------------------------------------\n",
       "Multivariate Statistics and F Approximations                          \n",
       "------------------------------------------------------------------------\n",
       "                         Value     Num DF     Den DF    F Value   Pr > F\n",
       "------------------------------------------------------------------------\n",
       "Wilks' lambda            0.1602   88.0000   1268.4877    4.6438   0.0000\n",
       "Pillai's trace           1.2518   88.0000   1592.0000    3.3560   0.0000\n",
       "Hotelling-Lawley trace   3.0097   88.0000    834.7763    6.5138   0.0000\n",
       "Roy's greatest root      2.2021   11.0000    199.0000   39.8378   0.0000\n",
       "======================================================================\n",
       "\n",
       "\"\"\""
      ]
     },
     "execution_count": 410,
     "metadata": {},
     "output_type": "execute_result"
    }
   ],
   "source": [
    "test.summary()"
   ]
  },
  {
   "cell_type": "code",
   "execution_count": 417,
   "metadata": {},
   "outputs": [
    {
     "data": {
      "text/plain": [
       "array([[-4.82542009e+04,  2.90321676e+05, -3.06785472e+06,\n",
       "        -2.97390095e+06, -3.60251712e+04, -2.50490485e+06,\n",
       "         4.26371788e+06,  2.96748000e+06],\n",
       "       [ 1.87279412e+05, -1.12676748e+06,  1.19066526e+07,\n",
       "         1.15420081e+07,  1.39817393e+05,  9.72178707e+06,\n",
       "        -1.65479170e+07, -1.15170881e+07],\n",
       "       [ 2.96778599e-02, -7.44537236e-02, -7.23952748e-03,\n",
       "        -1.17017914e-02,  3.19486524e-02,  1.33454104e-02,\n",
       "        -7.01801007e-03, -1.09252791e-03],\n",
       "       [-2.91872706e+06,  4.25783225e+06,  2.15800598e+06,\n",
       "        -1.17913628e+07,  9.65636899e+06, -1.45524078e+07,\n",
       "        -3.50912963e+07,  2.51325225e+07],\n",
       "       [-1.25435736e+05,  7.54685005e+05, -7.97482288e+06,\n",
       "        -7.73059171e+06, -9.36466667e+04, -6.51144641e+06,\n",
       "         1.10834433e+07,  7.71390092e+06],\n",
       "       [ 7.04128777e+05, -1.02718141e+06, -5.20608444e+05,\n",
       "         2.84460917e+06, -2.32955229e+06,  3.51069794e+06,\n",
       "         8.46560536e+06, -6.06309928e+06],\n",
       "       [-9.22977443e+04,  5.55310126e+05, -5.86801111e+06,\n",
       "        -5.68830171e+06, -6.89069373e+04, -4.79123364e+06,\n",
       "         8.15538705e+06,  5.67602018e+06],\n",
       "       [ 2.73887924e+06, -3.99547079e+06, -2.02503272e+06,\n",
       "         1.10647959e+07, -9.06135754e+06,  1.36557098e+07,\n",
       "         3.29290213e+07, -2.35838927e+07],\n",
       "       [ 2.11889803e-02,  3.67531151e-03, -8.24805995e-03,\n",
       "        -1.31278221e-02,  4.72922444e-03,  2.57376734e-04,\n",
       "        -2.17442616e-02,  1.39232447e-02],\n",
       "       [ 1.33604283e-02, -3.90641439e-02, -1.37157286e-02,\n",
       "         1.01057357e-01, -5.50950833e-02, -3.51229541e-02,\n",
       "         8.70827690e-03,  7.08823186e-03],\n",
       "       [ 9.21197424e-02,  4.33951381e-02, -6.78115331e-02,\n",
       "         2.17270909e-01,  8.45726711e-02, -5.04646616e-01,\n",
       "         1.78656564e-02, -7.92090340e-02]])"
      ]
     },
     "execution_count": 417,
     "metadata": {},
     "output_type": "execute_result"
    }
   ],
   "source": [
    "res.y_cancoef\n",
    "# same problem with very high values as for the sklearn solution "
   ]
  },
  {
   "cell_type": "code",
   "execution_count": 418,
   "metadata": {},
   "outputs": [
    {
     "data": {
      "text/plain": [
       "array([[ 0.0037121 ,  0.01726606,  0.05066436,  0.00893953,  0.06771578,\n",
       "        -0.03906677,  0.11052893, -0.00304539],\n",
       "       [ 0.02865076,  0.04868752,  0.04238536, -0.12485755, -0.03833324,\n",
       "         0.07093466,  0.01732023, -0.0179703 ],\n",
       "       [ 0.09703245,  0.05745229, -0.0162078 ,  0.0498339 ,  0.01266417,\n",
       "         0.00707511,  0.02284155,  0.02115765],\n",
       "       [-0.00232139, -0.06336039, -0.0134714 , -0.01352123, -0.00094294,\n",
       "        -0.08131871,  0.09057679, -0.19730963],\n",
       "       [-0.03240037, -0.06218727,  0.020471  ,  0.14173275, -0.0025778 ,\n",
       "        -0.04222597, -0.00993827,  0.00961535],\n",
       "       [-0.02582425, -0.08795562,  0.0160177 , -0.0930954 , -0.08282771,\n",
       "        -0.15914876, -0.06562108, -0.07357351],\n",
       "       [-0.00381841, -0.07694786, -0.07716397,  0.00020835, -0.00130209,\n",
       "         0.09479455,  0.05340029, -0.07587967],\n",
       "       [-0.00427132, -0.00153193,  0.0245836 ,  0.01962866,  0.05996624,\n",
       "         0.0140704 , -0.03961914, -0.05180522]])"
      ]
     },
     "execution_count": 418,
     "metadata": {},
     "output_type": "execute_result"
    }
   ],
   "source": [
    "res.x_cancoef"
   ]
  },
  {
   "cell_type": "code",
   "execution_count": 422,
   "metadata": {},
   "outputs": [
    {
     "ename": "AttributeError",
     "evalue": "'CanCorr' object has no attribute 'plot_loadings'",
     "output_type": "error",
     "traceback": [
      "\u001b[0;31m---------------------------------------------------------------------------\u001b[0m",
      "\u001b[0;31mAttributeError\u001b[0m                            Traceback (most recent call last)",
      "\u001b[0;32m/var/folders/ch/qh7bnp557fx2f84y6csjh9g00000gn/T/ipykernel_22737/3415660093.py\u001b[0m in \u001b[0;36m<module>\u001b[0;34m\u001b[0m\n\u001b[0;32m----> 1\u001b[0;31m \u001b[0mres\u001b[0m\u001b[0;34m.\u001b[0m\u001b[0mplot_loadings\u001b[0m\u001b[0;34m(\u001b[0m\u001b[0;34m)\u001b[0m\u001b[0;34m\u001b[0m\u001b[0;34m\u001b[0m\u001b[0m\n\u001b[0m",
      "\u001b[0;31mAttributeError\u001b[0m: 'CanCorr' object has no attribute 'plot_loadings'"
     ]
    }
   ],
   "source": []
  },
  {
   "cell_type": "code",
   "execution_count": null,
   "metadata": {},
   "outputs": [],
   "source": []
  }
 ],
 "metadata": {
  "interpreter": {
   "hash": "95bd0d75bea21310707dbe392546405214aa8536e546a1d55110147e5565e008"
  },
  "kernelspec": {
   "display_name": "Python 3.9.7 ('env-test')",
   "language": "python",
   "name": "python3"
  },
  "language_info": {
   "codemirror_mode": {
    "name": "ipython",
    "version": 3
   },
   "file_extension": ".py",
   "mimetype": "text/x-python",
   "name": "python",
   "nbconvert_exporter": "python",
   "pygments_lexer": "ipython3",
   "version": "3.9.7"
  },
  "orig_nbformat": 4
 },
 "nbformat": 4,
 "nbformat_minor": 2
}
