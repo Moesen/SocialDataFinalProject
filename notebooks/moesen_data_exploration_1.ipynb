{
 "cells": [
  {
   "cell_type": "code",
   "execution_count": null,
   "metadata": {},
   "outputs": [],
   "source": [
    "import pandas as pd\n",
    "import matplotlib.pyplot as plt\n",
    "import plotly.express as px"
   ]
  },
  {
   "cell_type": "code",
   "execution_count": null,
   "metadata": {},
   "outputs": [],
   "source": [
    "df = pd.read_csv(\"../data/preproccesed/Climate_Data_joined.csv\", index_col=0)"
   ]
  },
  {
   "cell_type": "code",
   "execution_count": null,
   "metadata": {},
   "outputs": [],
   "source": [
    "df.iloc[:, 12].unique()"
   ]
  },
  {
   "cell_type": "code",
   "execution_count": null,
   "metadata": {},
   "outputs": [],
   "source": [
    "# Get unique combinations\n",
    "col_names = [\"latitude_sensor\",\"longitude_sensor\"] \n",
    "df_locations = df.groupby(col_names)[col_names].size().reset_index(name=\"count\")\n",
    "df_locations"
   ]
  },
  {
   "cell_type": "code",
   "execution_count": null,
   "metadata": {},
   "outputs": [],
   "source": [
    "fig = px.scatter_mapbox(df_locations,\n",
    "                     lat=\"latitude_sensor\",\n",
    "                     lon=\"longitude_sensor\",\n",
    "                     hover_data={'latitude_sensor': False,\n",
    "                                 \"longitude_sensor\": False,\n",
    "                                 \"count\": \":100.0f\"},\n",
    "                     color_discrete_sequence=[\"darkgreen\"],\n",
    "                     size=\"count\",\n",
    "                     size_max=20,\n",
    "                     zoom=13)\n",
    "fig.update_layout(mapbox_style=\"open-street-map\")\n",
    "fig.update_layout(margin={\"r\": 0, \"t\": 0, \"l\": 0, \"b\": 0})\n",
    "\n",
    "fig.show()"
   ]
  },
  {
   "cell_type": "code",
   "execution_count": null,
   "metadata": {},
   "outputs": [],
   "source": [
    "df_locations.to_csv(\"../web/data/locations.csv\")"
   ]
  }
 ],
 "metadata": {
  "interpreter": {
   "hash": "e37411e23a93956e43c0fce60ab92c125541de717f8d2c80eb39d8e7ed4e682a"
  },
  "kernelspec": {
   "display_name": "Python 3.8.12 ('sem10')",
   "language": "python",
   "name": "python3"
  },
  "language_info": {
   "codemirror_mode": {
    "name": "ipython",
    "version": 3
   },
   "file_extension": ".py",
   "mimetype": "text/x-python",
   "name": "python",
   "nbconvert_exporter": "python",
   "pygments_lexer": "ipython3",
   "version": "3.8.12"
  },
  "orig_nbformat": 4
 },
 "nbformat": 4,
 "nbformat_minor": 2
}
