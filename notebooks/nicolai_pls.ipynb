{
 "cells": [
  {
   "cell_type": "code",
   "execution_count": 1,
   "metadata": {},
   "outputs": [],
   "source": [
    "# Imports\n",
    "\n",
    "import pandas as pd\n",
    "import numpy as np\n",
    "from sklearn.cross_decomposition import CCA\n",
    "import matplotlib.pyplot as plt\n",
    "import seaborn as sns\n",
    "from statsmodels.multivariate.cancorr import CanCorr\n",
    "import warnings\n",
    "\n",
    "\n",
    "from sklearn.preprocessing import scale \n",
    "from sklearn import model_selection\n",
    "from sklearn.model_selection import RepeatedKFold\n",
    "from sklearn.model_selection import train_test_split\n",
    "from sklearn.cross_decomposition import PLSRegression\n",
    "from sklearn.metrics import mean_squared_error"
   ]
  },
  {
   "cell_type": "markdown",
   "metadata": {},
   "source": [
    "#### Load data"
   ]
  },
  {
   "cell_type": "code",
   "execution_count": 2,
   "metadata": {},
   "outputs": [],
   "source": [
    "# Read data\n",
    "\n",
    "data_folder = \"../data/processed/\"\n",
    "df_social = pd.read_csv(data_folder + \"socio_extrapolated_5_country.csv\", index_col=0)\n",
    "df_energy = pd.read_csv(data_folder + \"pcc_energy_extrapolated_5_country.csv\", index_col=0)"
   ]
  },
  {
   "cell_type": "markdown",
   "metadata": {},
   "source": [
    "#### Data preprocessing"
   ]
  },
  {
   "cell_type": "code",
   "execution_count": 3,
   "metadata": {},
   "outputs": [],
   "source": [
    "# Make sure both energy and social data keys (entity, year) are present in both datasets. Otherwise drop those records\n",
    "temp1 = list(zip(df_energy[[\"Entity\",\"Year\"]].value_counts().reset_index().drop(columns=0)['Entity'],\n",
    "                 df_energy[[\"Entity\",\"Year\"]].value_counts().reset_index().drop(columns=0)['Year']))\n",
    "temp2 = list(zip(df_social[[\"Entity\",\"Year\"]].value_counts().reset_index().drop(columns=0)['Entity'],\n",
    "                 df_social[[\"Entity\",\"Year\"]].value_counts().reset_index().drop(columns=0)['Year']))\n",
    "exclude_records1 = list(set(temp2) - set(temp1))\n",
    "exclude_records = list(set(temp1) - set(temp2))\n",
    "\n",
    "# Comprehensive list of keys from both datasets, that is not a part the intersection\n",
    "exclude_records.extend(exclude_records1)\n",
    "\n",
    "# Extract keys\n",
    "list_energy = list(zip(df_energy['Entity'],df_energy['Year']))\n",
    "list_social = list(zip(df_social['Entity'],df_social['Year']))\n",
    "\n",
    "# Get list of all keys, that should not be excluded\n",
    "list_in_energy = [x not in exclude_records for x in list_energy]\n",
    "list_in_social = [x not in exclude_records for x in list_social]\n",
    "\n",
    "# Drop unwanted records and sort remaining data (so energy and social data align in index)\n",
    "df_energy = df_energy.iloc[list_in_energy,].reset_index().drop(columns='index')\n",
    "df_social = df_social.iloc[list_in_social,].reset_index().drop(columns='index')\n",
    "df_energy = df_energy.sort_values(['Entity','Year']).reset_index().drop(columns='index')\n",
    "df_social = df_social.sort_values(['Entity','Year']).reset_index().drop(columns='index')"
   ]
  },
  {
   "cell_type": "code",
   "execution_count": 13,
   "metadata": {},
   "outputs": [],
   "source": [
    "# Extract records, where we have zero nan values (combined between the two datasets) - only for columns of interest\n",
    "df_energy_sub = df_energy.iloc[:,[5,6]]\n",
    "df_social_sub = df_social.iloc[:,[1,2,5,6,8,9,10,12,13,14]]\n",
    "\n",
    "energy_non_nan_indx = df_energy_sub.isna().sum(axis=1)==0\n",
    "social_non_nan_indx = df_social_sub.isna().sum(axis=1)==0\n",
    "\n",
    "indx_non_nan = energy_non_nan_indx & social_non_nan_indx\n",
    "\n",
    "df_energy_sub = df_energy_sub.iloc[np.array(indx_non_nan),].reset_index().drop(columns='index')\n",
    "df_social_sub = df_social_sub.iloc[np.array(indx_non_nan),].reset_index().drop(columns='index')"
   ]
  },
  {
   "cell_type": "code",
   "execution_count": null,
   "metadata": {},
   "outputs": [],
   "source": [
    "# Due to numerical instability with too large values, we will work with log(population)\n",
    "df_social_sub.iloc[:,4] = np.log(df_social_sub.iloc[:,4])"
   ]
  },
  {
   "cell_type": "markdown",
   "metadata": {},
   "source": [
    "#### Define features and target values"
   ]
  },
  {
   "cell_type": "code",
   "execution_count": 51,
   "metadata": {},
   "outputs": [
    {
     "data": {
      "text/html": [
       "<div>\n",
       "<style scoped>\n",
       "    .dataframe tbody tr th:only-of-type {\n",
       "        vertical-align: middle;\n",
       "    }\n",
       "\n",
       "    .dataframe tbody tr th {\n",
       "        vertical-align: top;\n",
       "    }\n",
       "\n",
       "    .dataframe thead th {\n",
       "        text-align: right;\n",
       "    }\n",
       "</style>\n",
       "<table border=\"1\" class=\"dataframe\">\n",
       "  <thead>\n",
       "    <tr style=\"text-align: right;\">\n",
       "      <th></th>\n",
       "      <th>Continent</th>\n",
       "      <th>Year</th>\n",
       "      <th>GDP per capita ($)</th>\n",
       "      <th>Child mortality rate (under 5 years - %)</th>\n",
       "      <th>Population</th>\n",
       "      <th>HDI</th>\n",
       "      <th>Life expectancy (years)</th>\n",
       "      <th>Tertiary education (%)</th>\n",
       "      <th>Internet users (%)</th>\n",
       "      <th>Tax revenue of total GDP (%)</th>\n",
       "    </tr>\n",
       "  </thead>\n",
       "  <tbody>\n",
       "    <tr>\n",
       "      <th>0</th>\n",
       "      <td>Africa</td>\n",
       "      <td>2011</td>\n",
       "      <td>13204.000000</td>\n",
       "      <td>0.00267</td>\n",
       "      <td>36661438.0</td>\n",
       "      <td>0.736</td>\n",
       "      <td>75.199</td>\n",
       "      <td>31.202591</td>\n",
       "      <td>14.900000</td>\n",
       "      <td>14.171034</td>\n",
       "    </tr>\n",
       "    <tr>\n",
       "      <th>1</th>\n",
       "      <td>Africa</td>\n",
       "      <td>2012</td>\n",
       "      <td>13379.000000</td>\n",
       "      <td>0.00262</td>\n",
       "      <td>37383899.0</td>\n",
       "      <td>0.740</td>\n",
       "      <td>75.436</td>\n",
       "      <td>32.231331</td>\n",
       "      <td>18.200000</td>\n",
       "      <td>14.171034</td>\n",
       "    </tr>\n",
       "    <tr>\n",
       "      <th>2</th>\n",
       "      <td>Africa</td>\n",
       "      <td>2013</td>\n",
       "      <td>13494.000000</td>\n",
       "      <td>0.00258</td>\n",
       "      <td>38140135.0</td>\n",
       "      <td>0.745</td>\n",
       "      <td>75.661</td>\n",
       "      <td>33.965759</td>\n",
       "      <td>22.500000</td>\n",
       "      <td>14.171034</td>\n",
       "    </tr>\n",
       "    <tr>\n",
       "      <th>3</th>\n",
       "      <td>Africa</td>\n",
       "      <td>2014</td>\n",
       "      <td>13744.000000</td>\n",
       "      <td>0.00255</td>\n",
       "      <td>38923688.0</td>\n",
       "      <td>0.747</td>\n",
       "      <td>75.878</td>\n",
       "      <td>34.593811</td>\n",
       "      <td>29.500000</td>\n",
       "      <td>14.171034</td>\n",
       "    </tr>\n",
       "    <tr>\n",
       "      <th>4</th>\n",
       "      <td>Africa</td>\n",
       "      <td>2015</td>\n",
       "      <td>14004.000000</td>\n",
       "      <td>0.00252</td>\n",
       "      <td>39728020.0</td>\n",
       "      <td>0.749</td>\n",
       "      <td>76.090</td>\n",
       "      <td>36.922279</td>\n",
       "      <td>38.200000</td>\n",
       "      <td>14.171034</td>\n",
       "    </tr>\n",
       "    <tr>\n",
       "      <th>...</th>\n",
       "      <td>...</td>\n",
       "      <td>...</td>\n",
       "      <td>...</td>\n",
       "      <td>...</td>\n",
       "      <td>...</td>\n",
       "      <td>...</td>\n",
       "      <td>...</td>\n",
       "      <td>...</td>\n",
       "      <td>...</td>\n",
       "      <td>...</td>\n",
       "    </tr>\n",
       "    <tr>\n",
       "      <th>2261</th>\n",
       "      <td>Asia</td>\n",
       "      <td>2015</td>\n",
       "      <td>5763.000000</td>\n",
       "      <td>0.00215</td>\n",
       "      <td>92677082.0</td>\n",
       "      <td>0.684</td>\n",
       "      <td>75.110</td>\n",
       "      <td>28.835649</td>\n",
       "      <td>45.000000</td>\n",
       "      <td>14.562760</td>\n",
       "    </tr>\n",
       "    <tr>\n",
       "      <th>2262</th>\n",
       "      <td>Asia</td>\n",
       "      <td>2016</td>\n",
       "      <td>6062.000000</td>\n",
       "      <td>0.00212</td>\n",
       "      <td>93640435.0</td>\n",
       "      <td>0.689</td>\n",
       "      <td>75.172</td>\n",
       "      <td>28.835649</td>\n",
       "      <td>53.000000</td>\n",
       "      <td>14.310030</td>\n",
       "    </tr>\n",
       "    <tr>\n",
       "      <th>2263</th>\n",
       "      <td>Asia</td>\n",
       "      <td>2017</td>\n",
       "      <td>6422.086426</td>\n",
       "      <td>0.00208</td>\n",
       "      <td>94600643.0</td>\n",
       "      <td>0.694</td>\n",
       "      <td>75.241</td>\n",
       "      <td>28.835649</td>\n",
       "      <td>58.140000</td>\n",
       "      <td>14.553764</td>\n",
       "    </tr>\n",
       "    <tr>\n",
       "      <th>2264</th>\n",
       "      <td>Asia</td>\n",
       "      <td>2018</td>\n",
       "      <td>6814.142090</td>\n",
       "      <td>0.00204</td>\n",
       "      <td>95545959.0</td>\n",
       "      <td>0.694</td>\n",
       "      <td>75.317</td>\n",
       "      <td>28.835649</td>\n",
       "      <td>69.847929</td>\n",
       "      <td>15.017867</td>\n",
       "    </tr>\n",
       "    <tr>\n",
       "      <th>2265</th>\n",
       "      <td>Asia</td>\n",
       "      <td>2019</td>\n",
       "      <td>6814.142090</td>\n",
       "      <td>0.00199</td>\n",
       "      <td>96462108.0</td>\n",
       "      <td>0.694</td>\n",
       "      <td>75.400</td>\n",
       "      <td>28.835649</td>\n",
       "      <td>68.700000</td>\n",
       "      <td>14.553984</td>\n",
       "    </tr>\n",
       "  </tbody>\n",
       "</table>\n",
       "<p>2266 rows × 10 columns</p>\n",
       "</div>"
      ],
      "text/plain": [
       "     Continent  Year  GDP per capita ($)  \\\n",
       "0       Africa  2011        13204.000000   \n",
       "1       Africa  2012        13379.000000   \n",
       "2       Africa  2013        13494.000000   \n",
       "3       Africa  2014        13744.000000   \n",
       "4       Africa  2015        14004.000000   \n",
       "...        ...   ...                 ...   \n",
       "2261      Asia  2015         5763.000000   \n",
       "2262      Asia  2016         6062.000000   \n",
       "2263      Asia  2017         6422.086426   \n",
       "2264      Asia  2018         6814.142090   \n",
       "2265      Asia  2019         6814.142090   \n",
       "\n",
       "      Child mortality rate (under 5 years - %)  Population    HDI  \\\n",
       "0                                      0.00267  36661438.0  0.736   \n",
       "1                                      0.00262  37383899.0  0.740   \n",
       "2                                      0.00258  38140135.0  0.745   \n",
       "3                                      0.00255  38923688.0  0.747   \n",
       "4                                      0.00252  39728020.0  0.749   \n",
       "...                                        ...         ...    ...   \n",
       "2261                                   0.00215  92677082.0  0.684   \n",
       "2262                                   0.00212  93640435.0  0.689   \n",
       "2263                                   0.00208  94600643.0  0.694   \n",
       "2264                                   0.00204  95545959.0  0.694   \n",
       "2265                                   0.00199  96462108.0  0.694   \n",
       "\n",
       "      Life expectancy (years)  Tertiary education (%)  Internet users (%)  \\\n",
       "0                      75.199               31.202591           14.900000   \n",
       "1                      75.436               32.231331           18.200000   \n",
       "2                      75.661               33.965759           22.500000   \n",
       "3                      75.878               34.593811           29.500000   \n",
       "4                      76.090               36.922279           38.200000   \n",
       "...                       ...                     ...                 ...   \n",
       "2261                   75.110               28.835649           45.000000   \n",
       "2262                   75.172               28.835649           53.000000   \n",
       "2263                   75.241               28.835649           58.140000   \n",
       "2264                   75.317               28.835649           69.847929   \n",
       "2265                   75.400               28.835649           68.700000   \n",
       "\n",
       "      Tax revenue of total GDP (%)  \n",
       "0                        14.171034  \n",
       "1                        14.171034  \n",
       "2                        14.171034  \n",
       "3                        14.171034  \n",
       "4                        14.171034  \n",
       "...                            ...  \n",
       "2261                     14.562760  \n",
       "2262                     14.310030  \n",
       "2263                     14.553764  \n",
       "2264                     15.017867  \n",
       "2265                     14.553984  \n",
       "\n",
       "[2266 rows x 10 columns]"
      ]
     },
     "execution_count": 51,
     "metadata": {},
     "output_type": "execute_result"
    }
   ],
   "source": [
    "X"
   ]
  },
  {
   "cell_type": "code",
   "execution_count": 49,
   "metadata": {},
   "outputs": [
    {
     "name": "stderr",
     "output_type": "stream",
     "text": [
      "/opt/anaconda3/envs/SDA2022/lib/python3.8/site-packages/sklearn/preprocessing/_data.py:235: UserWarning: Numerical issues were encountered when centering the data and might not be solved. Dataset may contain too large values. You may need to prescale your features.\n",
      "  warnings.warn(\n"
     ]
    },
    {
     "data": {
      "text/plain": [
       "array([-0.1685271 , -0.16467557, -0.16064398, ...,  0.14035434,\n",
       "        0.14539394,  0.15027805])"
      ]
     },
     "execution_count": 49,
     "metadata": {},
     "output_type": "execute_result"
    }
   ],
   "source": [
    "test = X.iloc[:,4].copy()\n",
    "scale(test)"
   ]
  },
  {
   "cell_type": "code",
   "execution_count": 15,
   "metadata": {},
   "outputs": [],
   "source": [
    "# Define target values and features\n",
    "X = df_social_sub\n",
    "y = df_energy_sub['Low-carbon energy per capita (kWh)']/df_energy_sub['Energy per capita (kWh)']"
   ]
  },
  {
   "cell_type": "code",
   "execution_count": 16,
   "metadata": {},
   "outputs": [],
   "source": [
    "# Select data \n",
    "Continent = 'all'\n",
    "year_max = 2019\n",
    "year_min = 2015\n",
    "\n",
    "X1 = X.copy()\n",
    "y1 = y.copy()\n",
    "\n",
    "if Continent == 'all':\n",
    "    X1 = X1[(X['Year'] <= year_max) & (X['Year'] >= year_min)]\n",
    "    y1 = y1[(X['Year'] <= year_max) & (X['Year'] >= year_min)]\n",
    "else:\n",
    "    X1 = X1[(X['Year'] <= year_max) & (X['Year'] >= year_min) & (X['Continent'] == Continent)]\n",
    "    y1 = y1[(X['Year'] <= year_max) & (X['Year'] >= year_min) & (X['Continent'] == Continent)]\n",
    "\n",
    "X1 = X1.reset_index().drop(columns='index')\n",
    "y1 = y1.reset_index().drop(columns='index')\n",
    "\n",
    "# Drop years and continent from features dataset\n",
    "X1 = X1.iloc[:,2:]"
   ]
  },
  {
   "cell_type": "markdown",
   "metadata": {},
   "source": [
    "#### Find optimal number of PLS components"
   ]
  },
  {
   "cell_type": "code",
   "execution_count": 20,
   "metadata": {},
   "outputs": [
    {
     "data": {
      "text/plain": [
       "Text(0.5, 1.0, 'hp')"
      ]
     },
     "execution_count": 20,
     "metadata": {},
     "output_type": "execute_result"
    },
    {
     "data": {
      "image/png": "[encoded data removed]",
      "text/plain": [
       "<Figure size 432x288 with 1 Axes>"
      ]
     },
     "metadata": {},
     "output_type": "display_data"
    }
   ],
   "source": [
    "# Get training and test set\n",
    "X_train,X_test,y_train,y_test = train_test_split(X1,y1,test_size=0.3,random_state=0) \n",
    "\n",
    "#define cross-validation method\n",
    "cv = RepeatedKFold(n_splits=10, n_repeats=3, random_state=1)\n",
    "\n",
    "mse = []\n",
    "n = len(X_train)\n",
    "\n",
    "with warnings.catch_warnings():\n",
    "    warnings.simplefilter(\"ignore\") #Ignore runtime warning (divide by zero)\n",
    "\n",
    "    # Calculate MSE with only the intercept\n",
    "    score = -1*model_selection.cross_val_score(PLSRegression(n_components=1),\n",
    "            np.ones((n,1)), y_train, cv=cv, scoring='neg_mean_squared_error').mean()    \n",
    "    mse.append(score)\n",
    "\n",
    "    # Calculate MSE using cross-validation, adding one component at a time\n",
    "    for i in np.arange(1, 6):\n",
    "        pls = PLSRegression(n_components=i)\n",
    "        score = -1*model_selection.cross_val_score(pls, scale(X_train), y_train, cv=cv,\n",
    "                scoring='neg_mean_squared_error').mean()\n",
    "        mse.append(score)\n",
    "\n",
    "#plot test MSE vs. number of components\n",
    "plt.rcParams['figure.facecolor'] = 'white'\n",
    "plt.plot(mse)\n",
    "plt.xlabel('Number of PLS Components')\n",
    "plt.ylabel('MSE')\n",
    "plt.title('hp')"
   ]
  },
  {
   "cell_type": "markdown",
   "metadata": {},
   "source": [
    "#### Train and test model performance"
   ]
  },
  {
   "cell_type": "code",
   "execution_count": 21,
   "metadata": {},
   "outputs": [
    {
     "name": "stderr",
     "output_type": "stream",
     "text": [
      "/opt/anaconda3/envs/SDA2022/lib/python3.8/site-packages/sklearn/preprocessing/_data.py:235: UserWarning: Numerical issues were encountered when centering the data and might not be solved. Dataset may contain too large values. You may need to prescale your features.\n",
      "  warnings.warn(\n"
     ]
    },
    {
     "data": {
      "text/plain": [
       "0.1395803276546213"
      ]
     },
     "execution_count": 21,
     "metadata": {},
     "output_type": "execute_result"
    }
   ],
   "source": [
    "#calculate RMSE\n",
    "pls = PLSRegression(n_components=3)\n",
    "pls.fit(scale(X_train), y_train)\n",
    "\n",
    "np.sqrt(mean_squared_error(y_test, pls.predict(scale(X_test))))"
   ]
  },
  {
   "cell_type": "code",
   "execution_count": 32,
   "metadata": {},
   "outputs": [
    {
     "name": "stderr",
     "output_type": "stream",
     "text": [
      "/opt/anaconda3/envs/SDA2022/lib/python3.8/site-packages/sklearn/preprocessing/_data.py:235: UserWarning: Numerical issues were encountered when centering the data and might not be solved. Dataset may contain too large values. You may need to prescale your features.\n",
      "  warnings.warn(\n"
     ]
    },
    {
     "data": {
      "text/plain": [
       "array([ 4.98467480e-17,  1.07623661e-17,  1.06207560e-17,  1.47274483e-17,\n",
       "        3.28535385e-17,  5.89097931e-17, -3.22870982e-17, -2.71891353e-17])"
      ]
     },
     "execution_count": 32,
     "metadata": {},
     "output_type": "execute_result"
    }
   ],
   "source": [
    "scale(X_test,axis=0).mean(axis=0)"
   ]
  },
  {
   "cell_type": "code",
   "execution_count": 26,
   "metadata": {},
   "outputs": [
    {
     "name": "stdout",
     "output_type": "stream",
     "text": [
      "GDP per capita ($)                          8.458013e+04\n",
      "Child mortality rate (under 5 years - %)    7.610000e-03\n",
      "Population                                  1.427648e+09\n",
      "HDI                                         9.530000e-01\n",
      "Life expectancy (years)                     8.462900e+01\n",
      "Tertiary education (%)                      1.138718e+02\n",
      "Internet users (%)                          9.825520e+01\n",
      "Tax revenue of total GDP (%)                4.774027e+01\n",
      "dtype: float64\n",
      "6.017344336970023\n",
      "5.843997963540497\n",
      "0    0.810201\n",
      "dtype: float64\n",
      "0    0.79076\n",
      "dtype: float64\n"
     ]
    },
    {
     "name": "stderr",
     "output_type": "stream",
     "text": [
      "/opt/anaconda3/envs/SDA2022/lib/python3.8/site-packages/sklearn/preprocessing/_data.py:235: UserWarning: Numerical issues were encountered when centering the data and might not be solved. Dataset may contain too large values. You may need to prescale your features.\n",
      "  warnings.warn(\n",
      "/opt/anaconda3/envs/SDA2022/lib/python3.8/site-packages/numpy/core/fromnumeric.py:84: FutureWarning: In a future version, DataFrame.max(axis=None) will return a scalar max over the entire DataFrame. To retain the old behavior, use 'frame.max(axis=0)' or just 'frame.max()'\n",
      "  return reduction(axis=axis, out=out, **passkwargs)\n"
     ]
    }
   ],
   "source": [
    "print(np.max(X_train))\n",
    "print(np.max(scale(X_train)))\n",
    "print(np.max(scale(X_test,1)))\n",
    "print(np.max(y_train))\n",
    "print(np.max(y_test))"
   ]
  },
  {
   "cell_type": "code",
   "execution_count": 17,
   "metadata": {},
   "outputs": [
    {
     "data": {
      "image/png": "[encoded data removed]",
      "text/plain": [
       "<Figure size 432x288 with 1 Axes>"
      ]
     },
     "metadata": {},
     "output_type": "display_data"
    }
   ],
   "source": [
    "n_features = pls.x_loadings_.shape[0]\n",
    "for i in range(n_features):\n",
    "    plt.plot(pls.x_loadings_[i])"
   ]
  },
  {
   "cell_type": "code",
   "execution_count": 42,
   "metadata": {},
   "outputs": [
    {
     "data": {
      "text/plain": [
       "<AxesSubplot:xlabel='PLS component', ylabel='Feature loadings'>"
      ]
     },
     "execution_count": 42,
     "metadata": {},
     "output_type": "execute_result"
    },
    {
     "data": {
      "image/png": "[encoded data removed]",
      "text/plain": [
       "<Figure size 936x504 with 1 Axes>"
      ]
     },
     "metadata": {},
     "output_type": "display_data"
    }
   ],
   "source": [
    "loadings=pd.DataFrame(pls.x_loadings_.T)\n",
    "loadings.columns = X1.columns\n",
    "loadings.plot.bar(figsize=(13,7),xlabel='PLS component',ylabel='Feature loadings')"
   ]
  },
  {
   "cell_type": "code",
   "execution_count": 57,
   "metadata": {},
   "outputs": [
    {
     "data": {
      "text/plain": [
       "array([[ 0.20049315,  0.3790693 , -0.12016635]])"
      ]
     },
     "execution_count": 57,
     "metadata": {},
     "output_type": "execute_result"
    }
   ],
   "source": [
    "pls.y_weights_"
   ]
  },
  {
   "cell_type": "code",
   "execution_count": 25,
   "metadata": {},
   "outputs": [
    {
     "name": "stdout",
     "output_type": "stream",
     "text": [
      "[ 0.43274892 -0.09100097  0.04974381]\n"
     ]
    },
    {
     "ename": "TypeError",
     "evalue": "only size-1 arrays can be converted to Python scalars",
     "output_type": "error",
     "traceback": [
      "\u001b[0;31m---------------------------------------------------------------------------\u001b[0m",
      "\u001b[0;31mTypeError\u001b[0m                                 Traceback (most recent call last)",
      "\u001b[1;32m/Users/weis/Documents/Skole/DTU/10_semester/SocialDataAnalysis/SocialDataFinalProject/notebooks/nicolai_pls.ipynb Cell 15'\u001b[0m in \u001b[0;36m<cell line: 5>\u001b[0;34m()\u001b[0m\n\u001b[1;32m      <a href='vscode-notebook-cell:/Users/weis/Documents/Skole/DTU/10_semester/SocialDataAnalysis/SocialDataFinalProject/notebooks/nicolai_pls.ipynb#ch0000040?line=2'>3</a>\u001b[0m n \u001b[39m=\u001b[39m \u001b[39m3\u001b[39m\n\u001b[1;32m      <a href='vscode-notebook-cell:/Users/weis/Documents/Skole/DTU/10_semester/SocialDataAnalysis/SocialDataFinalProject/notebooks/nicolai_pls.ipynb#ch0000040?line=3'>4</a>\u001b[0m \u001b[39mprint\u001b[39m(pls\u001b[39m.\u001b[39mx_loadings_[n])\n\u001b[0;32m----> <a href='vscode-notebook-cell:/Users/weis/Documents/Skole/DTU/10_semester/SocialDataAnalysis/SocialDataFinalProject/notebooks/nicolai_pls.ipynb#ch0000040?line=4'>5</a>\u001b[0m plt\u001b[39m.\u001b[39;49mbar(x\u001b[39m=\u001b[39;49mnp\u001b[39m.\u001b[39;49marange(\u001b[39m0\u001b[39;49m,\u001b[39mlen\u001b[39;49m(pls\u001b[39m.\u001b[39;49mx_loadings_[n])), height\u001b[39m=\u001b[39;49mpls\u001b[39m.\u001b[39;49mx_loadings_)\n",
      "File \u001b[0;32m/opt/anaconda3/envs/SDA2022/lib/python3.8/site-packages/matplotlib/pyplot.py:2387\u001b[0m, in \u001b[0;36mbar\u001b[0;34m(x, height, width, bottom, align, data, **kwargs)\u001b[0m\n\u001b[1;32m   <a href='file:///opt/anaconda3/envs/SDA2022/lib/python3.8/site-packages/matplotlib/pyplot.py?line=2382'>2383</a>\u001b[0m \u001b[39m@_copy_docstring_and_deprecators\u001b[39m(Axes\u001b[39m.\u001b[39mbar)\n\u001b[1;32m   <a href='file:///opt/anaconda3/envs/SDA2022/lib/python3.8/site-packages/matplotlib/pyplot.py?line=2383'>2384</a>\u001b[0m \u001b[39mdef\u001b[39;00m \u001b[39mbar\u001b[39m(\n\u001b[1;32m   <a href='file:///opt/anaconda3/envs/SDA2022/lib/python3.8/site-packages/matplotlib/pyplot.py?line=2384'>2385</a>\u001b[0m         x, height, width\u001b[39m=\u001b[39m\u001b[39m0.8\u001b[39m, bottom\u001b[39m=\u001b[39m\u001b[39mNone\u001b[39;00m, \u001b[39m*\u001b[39m, align\u001b[39m=\u001b[39m\u001b[39m'\u001b[39m\u001b[39mcenter\u001b[39m\u001b[39m'\u001b[39m,\n\u001b[1;32m   <a href='file:///opt/anaconda3/envs/SDA2022/lib/python3.8/site-packages/matplotlib/pyplot.py?line=2385'>2386</a>\u001b[0m         data\u001b[39m=\u001b[39m\u001b[39mNone\u001b[39;00m, \u001b[39m*\u001b[39m\u001b[39m*\u001b[39mkwargs):\n\u001b[0;32m-> <a href='file:///opt/anaconda3/envs/SDA2022/lib/python3.8/site-packages/matplotlib/pyplot.py?line=2386'>2387</a>\u001b[0m     \u001b[39mreturn\u001b[39;00m gca()\u001b[39m.\u001b[39;49mbar(\n\u001b[1;32m   <a href='file:///opt/anaconda3/envs/SDA2022/lib/python3.8/site-packages/matplotlib/pyplot.py?line=2387'>2388</a>\u001b[0m         x, height, width\u001b[39m=\u001b[39;49mwidth, bottom\u001b[39m=\u001b[39;49mbottom, align\u001b[39m=\u001b[39;49malign,\n\u001b[1;32m   <a href='file:///opt/anaconda3/envs/SDA2022/lib/python3.8/site-packages/matplotlib/pyplot.py?line=2388'>2389</a>\u001b[0m         \u001b[39m*\u001b[39;49m\u001b[39m*\u001b[39;49m({\u001b[39m\"\u001b[39;49m\u001b[39mdata\u001b[39;49m\u001b[39m\"\u001b[39;49m: data} \u001b[39mif\u001b[39;49;00m data \u001b[39mis\u001b[39;49;00m \u001b[39mnot\u001b[39;49;00m \u001b[39mNone\u001b[39;49;00m \u001b[39melse\u001b[39;49;00m {}), \u001b[39m*\u001b[39;49m\u001b[39m*\u001b[39;49mkwargs)\n",
      "File \u001b[0;32m/opt/anaconda3/envs/SDA2022/lib/python3.8/site-packages/matplotlib/__init__.py:1412\u001b[0m, in \u001b[0;36m_preprocess_data.<locals>.inner\u001b[0;34m(ax, data, *args, **kwargs)\u001b[0m\n\u001b[1;32m   <a href='file:///opt/anaconda3/envs/SDA2022/lib/python3.8/site-packages/matplotlib/__init__.py?line=1408'>1409</a>\u001b[0m \u001b[39m@functools\u001b[39m\u001b[39m.\u001b[39mwraps(func)\n\u001b[1;32m   <a href='file:///opt/anaconda3/envs/SDA2022/lib/python3.8/site-packages/matplotlib/__init__.py?line=1409'>1410</a>\u001b[0m \u001b[39mdef\u001b[39;00m \u001b[39minner\u001b[39m(ax, \u001b[39m*\u001b[39margs, data\u001b[39m=\u001b[39m\u001b[39mNone\u001b[39;00m, \u001b[39m*\u001b[39m\u001b[39m*\u001b[39mkwargs):\n\u001b[1;32m   <a href='file:///opt/anaconda3/envs/SDA2022/lib/python3.8/site-packages/matplotlib/__init__.py?line=1410'>1411</a>\u001b[0m     \u001b[39mif\u001b[39;00m data \u001b[39mis\u001b[39;00m \u001b[39mNone\u001b[39;00m:\n\u001b[0;32m-> <a href='file:///opt/anaconda3/envs/SDA2022/lib/python3.8/site-packages/matplotlib/__init__.py?line=1411'>1412</a>\u001b[0m         \u001b[39mreturn\u001b[39;00m func(ax, \u001b[39m*\u001b[39;49m\u001b[39mmap\u001b[39;49m(sanitize_sequence, args), \u001b[39m*\u001b[39;49m\u001b[39m*\u001b[39;49mkwargs)\n\u001b[1;32m   <a href='file:///opt/anaconda3/envs/SDA2022/lib/python3.8/site-packages/matplotlib/__init__.py?line=1413'>1414</a>\u001b[0m     bound \u001b[39m=\u001b[39m new_sig\u001b[39m.\u001b[39mbind(ax, \u001b[39m*\u001b[39margs, \u001b[39m*\u001b[39m\u001b[39m*\u001b[39mkwargs)\n\u001b[1;32m   <a href='file:///opt/anaconda3/envs/SDA2022/lib/python3.8/site-packages/matplotlib/__init__.py?line=1414'>1415</a>\u001b[0m     auto_label \u001b[39m=\u001b[39m (bound\u001b[39m.\u001b[39marguments\u001b[39m.\u001b[39mget(label_namer)\n\u001b[1;32m   <a href='file:///opt/anaconda3/envs/SDA2022/lib/python3.8/site-packages/matplotlib/__init__.py?line=1415'>1416</a>\u001b[0m                   \u001b[39mor\u001b[39;00m bound\u001b[39m.\u001b[39mkwargs\u001b[39m.\u001b[39mget(label_namer))\n",
      "File \u001b[0;32m/opt/anaconda3/envs/SDA2022/lib/python3.8/site-packages/matplotlib/axes/_axes.py:2395\u001b[0m, in \u001b[0;36mAxes.bar\u001b[0;34m(self, x, height, width, bottom, align, **kwargs)\u001b[0m\n\u001b[1;32m   <a href='file:///opt/anaconda3/envs/SDA2022/lib/python3.8/site-packages/matplotlib/axes/_axes.py?line=2391'>2392</a>\u001b[0m args \u001b[39m=\u001b[39m \u001b[39mzip\u001b[39m(left, bottom, width, height, color, edgecolor, linewidth,\n\u001b[1;32m   <a href='file:///opt/anaconda3/envs/SDA2022/lib/python3.8/site-packages/matplotlib/axes/_axes.py?line=2392'>2393</a>\u001b[0m            hatch)\n\u001b[1;32m   <a href='file:///opt/anaconda3/envs/SDA2022/lib/python3.8/site-packages/matplotlib/axes/_axes.py?line=2393'>2394</a>\u001b[0m \u001b[39mfor\u001b[39;00m l, b, w, h, c, e, lw, htch \u001b[39min\u001b[39;00m args:\n\u001b[0;32m-> <a href='file:///opt/anaconda3/envs/SDA2022/lib/python3.8/site-packages/matplotlib/axes/_axes.py?line=2394'>2395</a>\u001b[0m     r \u001b[39m=\u001b[39m mpatches\u001b[39m.\u001b[39;49mRectangle(\n\u001b[1;32m   <a href='file:///opt/anaconda3/envs/SDA2022/lib/python3.8/site-packages/matplotlib/axes/_axes.py?line=2395'>2396</a>\u001b[0m         xy\u001b[39m=\u001b[39;49m(l, b), width\u001b[39m=\u001b[39;49mw, height\u001b[39m=\u001b[39;49mh,\n\u001b[1;32m   <a href='file:///opt/anaconda3/envs/SDA2022/lib/python3.8/site-packages/matplotlib/axes/_axes.py?line=2396'>2397</a>\u001b[0m         facecolor\u001b[39m=\u001b[39;49mc,\n\u001b[1;32m   <a href='file:///opt/anaconda3/envs/SDA2022/lib/python3.8/site-packages/matplotlib/axes/_axes.py?line=2397'>2398</a>\u001b[0m         edgecolor\u001b[39m=\u001b[39;49me,\n\u001b[1;32m   <a href='file:///opt/anaconda3/envs/SDA2022/lib/python3.8/site-packages/matplotlib/axes/_axes.py?line=2398'>2399</a>\u001b[0m         linewidth\u001b[39m=\u001b[39;49mlw,\n\u001b[1;32m   <a href='file:///opt/anaconda3/envs/SDA2022/lib/python3.8/site-packages/matplotlib/axes/_axes.py?line=2399'>2400</a>\u001b[0m         label\u001b[39m=\u001b[39;49m\u001b[39m'\u001b[39;49m\u001b[39m_nolegend_\u001b[39;49m\u001b[39m'\u001b[39;49m,\n\u001b[1;32m   <a href='file:///opt/anaconda3/envs/SDA2022/lib/python3.8/site-packages/matplotlib/axes/_axes.py?line=2400'>2401</a>\u001b[0m         hatch\u001b[39m=\u001b[39;49mhtch,\n\u001b[1;32m   <a href='file:///opt/anaconda3/envs/SDA2022/lib/python3.8/site-packages/matplotlib/axes/_axes.py?line=2401'>2402</a>\u001b[0m         )\n\u001b[1;32m   <a href='file:///opt/anaconda3/envs/SDA2022/lib/python3.8/site-packages/matplotlib/axes/_axes.py?line=2402'>2403</a>\u001b[0m     r\u001b[39m.\u001b[39mupdate(kwargs)\n\u001b[1;32m   <a href='file:///opt/anaconda3/envs/SDA2022/lib/python3.8/site-packages/matplotlib/axes/_axes.py?line=2403'>2404</a>\u001b[0m     r\u001b[39m.\u001b[39mget_path()\u001b[39m.\u001b[39m_interpolation_steps \u001b[39m=\u001b[39m \u001b[39m100\u001b[39m\n",
      "File \u001b[0;32m/opt/anaconda3/envs/SDA2022/lib/python3.8/site-packages/matplotlib/patches.py:727\u001b[0m, in \u001b[0;36mRectangle.__init__\u001b[0;34m(self, xy, width, height, angle, **kwargs)\u001b[0m\n\u001b[1;32m    <a href='file:///opt/anaconda3/envs/SDA2022/lib/python3.8/site-packages/matplotlib/patches.py?line=707'>708</a>\u001b[0m \u001b[39m@docstring\u001b[39m\u001b[39m.\u001b[39mdedent_interpd\n\u001b[1;32m    <a href='file:///opt/anaconda3/envs/SDA2022/lib/python3.8/site-packages/matplotlib/patches.py?line=708'>709</a>\u001b[0m \u001b[39mdef\u001b[39;00m \u001b[39m__init__\u001b[39m(\u001b[39mself\u001b[39m, xy, width, height, angle\u001b[39m=\u001b[39m\u001b[39m0.0\u001b[39m, \u001b[39m*\u001b[39m\u001b[39m*\u001b[39mkwargs):\n\u001b[1;32m    <a href='file:///opt/anaconda3/envs/SDA2022/lib/python3.8/site-packages/matplotlib/patches.py?line=709'>710</a>\u001b[0m     \u001b[39m\"\"\"\u001b[39;00m\n\u001b[1;32m    <a href='file:///opt/anaconda3/envs/SDA2022/lib/python3.8/site-packages/matplotlib/patches.py?line=710'>711</a>\u001b[0m \u001b[39m    Parameters\u001b[39;00m\n\u001b[1;32m    <a href='file:///opt/anaconda3/envs/SDA2022/lib/python3.8/site-packages/matplotlib/patches.py?line=711'>712</a>\u001b[0m \u001b[39m    ----------\u001b[39;00m\n\u001b[0;32m   (...)\u001b[0m\n\u001b[1;32m    <a href='file:///opt/anaconda3/envs/SDA2022/lib/python3.8/site-packages/matplotlib/patches.py?line=724'>725</a>\u001b[0m \u001b[39m        %(Patch:kwdoc)s\u001b[39;00m\n\u001b[1;32m    <a href='file:///opt/anaconda3/envs/SDA2022/lib/python3.8/site-packages/matplotlib/patches.py?line=725'>726</a>\u001b[0m \u001b[39m    \"\"\"\u001b[39;00m\n\u001b[0;32m--> <a href='file:///opt/anaconda3/envs/SDA2022/lib/python3.8/site-packages/matplotlib/patches.py?line=726'>727</a>\u001b[0m     \u001b[39msuper\u001b[39;49m()\u001b[39m.\u001b[39;49m\u001b[39m__init__\u001b[39;49m(\u001b[39m*\u001b[39;49m\u001b[39m*\u001b[39;49mkwargs)\n\u001b[1;32m    <a href='file:///opt/anaconda3/envs/SDA2022/lib/python3.8/site-packages/matplotlib/patches.py?line=727'>728</a>\u001b[0m     \u001b[39mself\u001b[39m\u001b[39m.\u001b[39m_x0 \u001b[39m=\u001b[39m xy[\u001b[39m0\u001b[39m]\n\u001b[1;32m    <a href='file:///opt/anaconda3/envs/SDA2022/lib/python3.8/site-packages/matplotlib/patches.py?line=728'>729</a>\u001b[0m     \u001b[39mself\u001b[39m\u001b[39m.\u001b[39m_y0 \u001b[39m=\u001b[39m xy[\u001b[39m1\u001b[39m]\n",
      "File \u001b[0;32m/opt/anaconda3/envs/SDA2022/lib/python3.8/site-packages/matplotlib/patches.py:106\u001b[0m, in \u001b[0;36mPatch.__init__\u001b[0;34m(self, edgecolor, facecolor, color, linewidth, linestyle, antialiased, hatch, fill, capstyle, joinstyle, **kwargs)\u001b[0m\n\u001b[1;32m    <a href='file:///opt/anaconda3/envs/SDA2022/lib/python3.8/site-packages/matplotlib/patches.py?line=103'>104</a>\u001b[0m \u001b[39mself\u001b[39m\u001b[39m.\u001b[39mset_fill(fill)\n\u001b[1;32m    <a href='file:///opt/anaconda3/envs/SDA2022/lib/python3.8/site-packages/matplotlib/patches.py?line=104'>105</a>\u001b[0m \u001b[39mself\u001b[39m\u001b[39m.\u001b[39mset_linestyle(linestyle)\n\u001b[0;32m--> <a href='file:///opt/anaconda3/envs/SDA2022/lib/python3.8/site-packages/matplotlib/patches.py?line=105'>106</a>\u001b[0m \u001b[39mself\u001b[39;49m\u001b[39m.\u001b[39;49mset_linewidth(linewidth)\n\u001b[1;32m    <a href='file:///opt/anaconda3/envs/SDA2022/lib/python3.8/site-packages/matplotlib/patches.py?line=106'>107</a>\u001b[0m \u001b[39mself\u001b[39m\u001b[39m.\u001b[39mset_antialiased(antialiased)\n\u001b[1;32m    <a href='file:///opt/anaconda3/envs/SDA2022/lib/python3.8/site-packages/matplotlib/patches.py?line=107'>108</a>\u001b[0m \u001b[39mself\u001b[39m\u001b[39m.\u001b[39mset_hatch(hatch)\n",
      "File \u001b[0;32m/opt/anaconda3/envs/SDA2022/lib/python3.8/site-packages/matplotlib/patches.py:411\u001b[0m, in \u001b[0;36mPatch.set_linewidth\u001b[0;34m(self, w)\u001b[0m\n\u001b[1;32m    <a href='file:///opt/anaconda3/envs/SDA2022/lib/python3.8/site-packages/matplotlib/patches.py?line=407'>408</a>\u001b[0m     \u001b[39mif\u001b[39;00m w \u001b[39mis\u001b[39;00m \u001b[39mNone\u001b[39;00m:\n\u001b[1;32m    <a href='file:///opt/anaconda3/envs/SDA2022/lib/python3.8/site-packages/matplotlib/patches.py?line=408'>409</a>\u001b[0m         w \u001b[39m=\u001b[39m mpl\u001b[39m.\u001b[39mrcParams[\u001b[39m'\u001b[39m\u001b[39maxes.linewidth\u001b[39m\u001b[39m'\u001b[39m]\n\u001b[0;32m--> <a href='file:///opt/anaconda3/envs/SDA2022/lib/python3.8/site-packages/matplotlib/patches.py?line=410'>411</a>\u001b[0m \u001b[39mself\u001b[39m\u001b[39m.\u001b[39m_linewidth \u001b[39m=\u001b[39m \u001b[39mfloat\u001b[39;49m(w)\n\u001b[1;32m    <a href='file:///opt/anaconda3/envs/SDA2022/lib/python3.8/site-packages/matplotlib/patches.py?line=411'>412</a>\u001b[0m \u001b[39m# scale the dash pattern by the linewidth\u001b[39;00m\n\u001b[1;32m    <a href='file:///opt/anaconda3/envs/SDA2022/lib/python3.8/site-packages/matplotlib/patches.py?line=412'>413</a>\u001b[0m offset, ls \u001b[39m=\u001b[39m \u001b[39mself\u001b[39m\u001b[39m.\u001b[39m_us_dashes\n",
      "\u001b[0;31mTypeError\u001b[0m: only size-1 arrays can be converted to Python scalars"
     ]
    },
    {
     "data": {
      "image/png": "[encoded data removed]",
      "text/plain": [
       "<Figure size 432x288 with 1 Axes>"
      ]
     },
     "metadata": {},
     "output_type": "display_data"
    }
   ],
   "source": [
    "# first component. x and y are plotted seperately due to large size in x\n",
    "# 1e6 seems extreme. don't know whats wrong \n",
    "n = 3\n",
    "print(pls.x_loadings_[n])\n",
    "plt.bar(x=np.arange(0,len(pls.x_loadings_[n])), height=pls.x_loadings_)"
   ]
  },
  {
   "cell_type": "code",
   "execution_count": 171,
   "metadata": {},
   "outputs": [
    {
     "data": {
      "text/plain": [
       "(7, 7)"
      ]
     },
     "execution_count": 171,
     "metadata": {},
     "output_type": "execute_result"
    }
   ],
   "source": [
    "ca.x_loadings_.shape"
   ]
  },
  {
   "cell_type": "code",
   "execution_count": 172,
   "metadata": {},
   "outputs": [
    {
     "data": {
      "text/plain": [
       "(8, 7)"
      ]
     },
     "execution_count": 172,
     "metadata": {},
     "output_type": "execute_result"
    }
   ],
   "source": [
    "ca.y_loadings_.shape"
   ]
  },
  {
   "cell_type": "code",
   "execution_count": 173,
   "metadata": {},
   "outputs": [
    {
     "data": {
      "image/png": "[encoded data removed]",
      "text/plain": [
       "<Figure size 432x288 with 1 Axes>"
      ]
     },
     "metadata": {
      "needs_background": "light"
     },
     "output_type": "display_data"
    }
   ],
   "source": [
    "for i in range(n_features):\n",
    "    plt.plot(ca.x_loadings_[i])\n"
   ]
  },
  {
   "cell_type": "code",
   "execution_count": 174,
   "metadata": {},
   "outputs": [
    {
     "data": {
      "image/png": "[encoded data removed]",
      "text/plain": [
       "<Figure size 432x288 with 1 Axes>"
      ]
     },
     "metadata": {
      "needs_background": "light"
     },
     "output_type": "display_data"
    }
   ],
   "source": [
    "for i in range(n_features):\n",
    "    plt.plot(ca.y_loadings_[i])"
   ]
  },
  {
   "cell_type": "code",
   "execution_count": 175,
   "metadata": {},
   "outputs": [
    {
     "data": {
      "text/plain": [
       "array([0.87027504, 0.72871255, 0.50764589, 0.32906717, 0.18564387,\n",
       "       0.08108636, 0.04320625])"
      ]
     },
     "execution_count": 175,
     "metadata": {},
     "output_type": "execute_result"
    }
   ],
   "source": [
    "# pairwise canonical correlations \n",
    "np.corrcoef(E_c.T, S_c.T).diagonal(offset=n_features)\n",
    "# we see quite high correlation in the first and second canonical component. let's plot the corresponding loadings \n",
    "# to investigate further\n"
   ]
  },
  {
   "cell_type": "code",
   "execution_count": 176,
   "metadata": {},
   "outputs": [
    {
     "name": "stdout",
     "output_type": "stream",
     "text": [
      "[ 1.02399363 -0.07679332  0.32285985  0.03268931 -0.32147278 -0.05779218\n",
      " -0.07063778]\n"
     ]
    },
    {
     "data": {
      "text/plain": [
       "<BarContainer object of 7 artists>"
      ]
     },
     "execution_count": 176,
     "metadata": {},
     "output_type": "execute_result"
    },
    {
     "data": {
      "image/png": "[encoded data removed]",
      "text/plain": [
       "<Figure size 432x288 with 1 Axes>"
      ]
     },
     "metadata": {
      "needs_background": "light"
     },
     "output_type": "display_data"
    }
   ],
   "source": [
    "# first component. x and y are plotted seperately due to large size in x\n",
    "# 1e6 seems extreme. don't know whats wrong \n",
    "n = 0\n",
    "print(ca.x_loadings_[n])\n",
    "plt.bar(x=np.arange(0,len(ca.x_loadings_[n])), height=ca.x_loadings_[n])"
   ]
  },
  {
   "cell_type": "code",
   "execution_count": 177,
   "metadata": {},
   "outputs": [
    {
     "name": "stdout",
     "output_type": "stream",
     "text": [
      "[ 2.18187711e+05  4.81878844e-01 -2.51920933e+00  5.55818112e-01\n",
      "  5.33068731e-01 -2.36118718e-01 -2.57100657e-02]\n"
     ]
    },
    {
     "data": {
      "text/plain": [
       "<BarContainer object of 7 artists>"
      ]
     },
     "execution_count": 177,
     "metadata": {},
     "output_type": "execute_result"
    },
    {
     "data": {
      "image/png": "[encoded data removed]",
      "text/plain": [
       "<Figure size 432x288 with 1 Axes>"
      ]
     },
     "metadata": {
      "needs_background": "light"
     },
     "output_type": "display_data"
    }
   ],
   "source": [
    "print(ca.y_loadings_[n])\n",
    "plt.bar(x=np.arange(0,len(ca.y_loadings_[n])), height=ca.y_loadings_[n])"
   ]
  },
  {
   "cell_type": "code",
   "execution_count": 182,
   "metadata": {},
   "outputs": [
    {
     "name": "stdout",
     "output_type": "stream",
     "text": [
      "[-0.64062557 -0.25819449  0.16163905  0.19038155 -1.10394689  0.05058746\n",
      "  0.74213985]\n"
     ]
    },
    {
     "data": {
      "text/plain": [
       "<BarContainer object of 7 artists>"
      ]
     },
     "execution_count": 182,
     "metadata": {},
     "output_type": "execute_result"
    },
    {
     "data": {
      "image/png": "[encoded data removed]",
      "text/plain": [
       "<Figure size 432x288 with 1 Axes>"
      ]
     },
     "metadata": {
      "needs_background": "light"
     },
     "output_type": "display_data"
    }
   ],
   "source": [
    "# second component\n",
    "n = 1\n",
    "print(ca.x_loadings_[n])\n",
    "plt.bar(x=np.arange(0,len(ca.x_loadings_[n])), height=ca.x_loadings_[n])"
   ]
  },
  {
   "cell_type": "code",
   "execution_count": 183,
   "metadata": {},
   "outputs": [
    {
     "name": "stdout",
     "output_type": "stream",
     "text": [
      "[ 6.97442631e+05 -5.85904595e-01 -4.95421072e-01  2.96265665e-01\n",
      " -1.35562859e-01 -2.68237408e-01 -1.02759772e-01]\n"
     ]
    },
    {
     "data": {
      "text/plain": [
       "<BarContainer object of 7 artists>"
      ]
     },
     "execution_count": 183,
     "metadata": {},
     "output_type": "execute_result"
    },
    {
     "data": {
      "image/png": "[encoded data removed]",
      "text/plain": [
       "<Figure size 432x288 with 1 Axes>"
      ]
     },
     "metadata": {
      "needs_background": "light"
     },
     "output_type": "display_data"
    }
   ],
   "source": [
    "print(ca.y_loadings_[n])\n",
    "plt.bar(x=np.arange(0,len(ca.y_loadings_[n])), height=ca.y_loadings_[n])"
   ]
  },
  {
   "cell_type": "code",
   "execution_count": 372,
   "metadata": {},
   "outputs": [
    {
     "data": {
      "text/plain": [
       "Index(['Coal per capita (kWh)', 'Fossil Fuels per capita (kWh)',\n",
       "       'Energy per capita (kWh)', 'Low-carbon energy per capita (kWh)',\n",
       "       'Gas per capita (kWh)', 'Nuclear per capita (kWh)',\n",
       "       'Oil per capita (kWh)', 'Renewables per capita (kWh)',\n",
       "       'Wind per capita (kWh)', 'Solar per capita (kWh)',\n",
       "       'Hydro per capita (kWh)'],\n",
       "      dtype='object')"
      ]
     },
     "execution_count": 372,
     "metadata": {},
     "output_type": "execute_result"
    }
   ],
   "source": [
    "E.columns"
   ]
  },
  {
   "cell_type": "code",
   "execution_count": 373,
   "metadata": {},
   "outputs": [
    {
     "data": {
      "text/html": [
       "<div>\n",
       "<style scoped>\n",
       "    .dataframe tbody tr th:only-of-type {\n",
       "        vertical-align: middle;\n",
       "    }\n",
       "\n",
       "    .dataframe tbody tr th {\n",
       "        vertical-align: top;\n",
       "    }\n",
       "\n",
       "    .dataframe thead th {\n",
       "        text-align: right;\n",
       "    }\n",
       "</style>\n",
       "<table border=\"1\" class=\"dataframe\">\n",
       "  <thead>\n",
       "    <tr style=\"text-align: right;\">\n",
       "      <th></th>\n",
       "      <th>Coal per capita (kWh)</th>\n",
       "      <th>Fossil Fuels per capita (kWh)</th>\n",
       "      <th>Energy per capita (kWh)</th>\n",
       "      <th>Low-carbon energy per capita (kWh)</th>\n",
       "      <th>Gas per capita (kWh)</th>\n",
       "      <th>Nuclear per capita (kWh)</th>\n",
       "      <th>Oil per capita (kWh)</th>\n",
       "      <th>Renewables per capita (kWh)</th>\n",
       "      <th>Wind per capita (kWh)</th>\n",
       "      <th>Solar per capita (kWh)</th>\n",
       "      <th>Hydro per capita (kWh)</th>\n",
       "    </tr>\n",
       "  </thead>\n",
       "  <tbody>\n",
       "    <tr>\n",
       "      <th>count</th>\n",
       "      <td>2.110000e+02</td>\n",
       "      <td>2.110000e+02</td>\n",
       "      <td>2.110000e+02</td>\n",
       "      <td>2.110000e+02</td>\n",
       "      <td>2.110000e+02</td>\n",
       "      <td>2.110000e+02</td>\n",
       "      <td>2.110000e+02</td>\n",
       "      <td>2.110000e+02</td>\n",
       "      <td>2.110000e+02</td>\n",
       "      <td>2.110000e+02</td>\n",
       "      <td>2.110000e+02</td>\n",
       "    </tr>\n",
       "    <tr>\n",
       "      <th>mean</th>\n",
       "      <td>1.452235e-16</td>\n",
       "      <td>-4.419845e-17</td>\n",
       "      <td>1.410141e-16</td>\n",
       "      <td>1.341739e-17</td>\n",
       "      <td>-2.157305e-17</td>\n",
       "      <td>3.472736e-17</td>\n",
       "      <td>1.104961e-16</td>\n",
       "      <td>3.604279e-17</td>\n",
       "      <td>4.893400e-17</td>\n",
       "      <td>-3.051798e-17</td>\n",
       "      <td>-8.155667e-18</td>\n",
       "    </tr>\n",
       "    <tr>\n",
       "      <th>std</th>\n",
       "      <td>6.094494e-01</td>\n",
       "      <td>6.094494e-01</td>\n",
       "      <td>1.000000e+00</td>\n",
       "      <td>6.094494e-01</td>\n",
       "      <td>6.094494e-01</td>\n",
       "      <td>6.094494e-01</td>\n",
       "      <td>6.094494e-01</td>\n",
       "      <td>6.094494e-01</td>\n",
       "      <td>6.094494e-01</td>\n",
       "      <td>6.094494e-01</td>\n",
       "      <td>6.094494e-01</td>\n",
       "    </tr>\n",
       "    <tr>\n",
       "      <th>min</th>\n",
       "      <td>-7.539263e-01</td>\n",
       "      <td>-1.039824e+00</td>\n",
       "      <td>-7.610407e-01</td>\n",
       "      <td>-4.704477e-01</td>\n",
       "      <td>-5.163250e-01</td>\n",
       "      <td>-5.098541e-01</td>\n",
       "      <td>-1.065748e+00</td>\n",
       "      <td>-3.702629e-01</td>\n",
       "      <td>-5.322614e-01</td>\n",
       "      <td>-7.095299e-01</td>\n",
       "      <td>-3.517782e-01</td>\n",
       "    </tr>\n",
       "    <tr>\n",
       "      <th>25%</th>\n",
       "      <td>0.000000e+00</td>\n",
       "      <td>-1.453256e-02</td>\n",
       "      <td>-6.562460e-01</td>\n",
       "      <td>-1.513478e-01</td>\n",
       "      <td>-1.184147e-01</td>\n",
       "      <td>-4.731565e-01</td>\n",
       "      <td>0.000000e+00</td>\n",
       "      <td>-2.091313e-01</td>\n",
       "      <td>-2.137349e-01</td>\n",
       "      <td>-1.523820e-02</td>\n",
       "      <td>-1.992487e-01</td>\n",
       "    </tr>\n",
       "    <tr>\n",
       "      <th>50%</th>\n",
       "      <td>0.000000e+00</td>\n",
       "      <td>0.000000e+00</td>\n",
       "      <td>-3.658402e-01</td>\n",
       "      <td>0.000000e+00</td>\n",
       "      <td>0.000000e+00</td>\n",
       "      <td>0.000000e+00</td>\n",
       "      <td>0.000000e+00</td>\n",
       "      <td>0.000000e+00</td>\n",
       "      <td>0.000000e+00</td>\n",
       "      <td>0.000000e+00</td>\n",
       "      <td>0.000000e+00</td>\n",
       "    </tr>\n",
       "    <tr>\n",
       "      <th>75%</th>\n",
       "      <td>0.000000e+00</td>\n",
       "      <td>0.000000e+00</td>\n",
       "      <td>2.938026e-01</td>\n",
       "      <td>0.000000e+00</td>\n",
       "      <td>0.000000e+00</td>\n",
       "      <td>0.000000e+00</td>\n",
       "      <td>0.000000e+00</td>\n",
       "      <td>0.000000e+00</td>\n",
       "      <td>0.000000e+00</td>\n",
       "      <td>0.000000e+00</td>\n",
       "      <td>0.000000e+00</td>\n",
       "    </tr>\n",
       "    <tr>\n",
       "      <th>max</th>\n",
       "      <td>3.324533e+00</td>\n",
       "      <td>5.000612e+00</td>\n",
       "      <td>6.189207e+00</td>\n",
       "      <td>5.259821e+00</td>\n",
       "      <td>6.905125e+00</td>\n",
       "      <td>4.523752e+00</td>\n",
       "      <td>4.748967e+00</td>\n",
       "      <td>5.736283e+00</td>\n",
       "      <td>6.079005e+00</td>\n",
       "      <td>3.851100e+00</td>\n",
       "      <td>5.945571e+00</td>\n",
       "    </tr>\n",
       "  </tbody>\n",
       "</table>\n",
       "</div>"
      ],
      "text/plain": [
       "       Coal per capita (kWh)  Fossil Fuels per capita (kWh)  \\\n",
       "count           2.110000e+02                   2.110000e+02   \n",
       "mean            1.452235e-16                  -4.419845e-17   \n",
       "std             6.094494e-01                   6.094494e-01   \n",
       "min            -7.539263e-01                  -1.039824e+00   \n",
       "25%             0.000000e+00                  -1.453256e-02   \n",
       "50%             0.000000e+00                   0.000000e+00   \n",
       "75%             0.000000e+00                   0.000000e+00   \n",
       "max             3.324533e+00                   5.000612e+00   \n",
       "\n",
       "       Energy per capita (kWh)  Low-carbon energy per capita (kWh)  \\\n",
       "count             2.110000e+02                        2.110000e+02   \n",
       "mean              1.410141e-16                        1.341739e-17   \n",
       "std               1.000000e+00                        6.094494e-01   \n",
       "min              -7.610407e-01                       -4.704477e-01   \n",
       "25%              -6.562460e-01                       -1.513478e-01   \n",
       "50%              -3.658402e-01                        0.000000e+00   \n",
       "75%               2.938026e-01                        0.000000e+00   \n",
       "max               6.189207e+00                        5.259821e+00   \n",
       "\n",
       "       Gas per capita (kWh)  Nuclear per capita (kWh)  Oil per capita (kWh)  \\\n",
       "count          2.110000e+02              2.110000e+02          2.110000e+02   \n",
       "mean          -2.157305e-17              3.472736e-17          1.104961e-16   \n",
       "std            6.094494e-01              6.094494e-01          6.094494e-01   \n",
       "min           -5.163250e-01             -5.098541e-01         -1.065748e+00   \n",
       "25%           -1.184147e-01             -4.731565e-01          0.000000e+00   \n",
       "50%            0.000000e+00              0.000000e+00          0.000000e+00   \n",
       "75%            0.000000e+00              0.000000e+00          0.000000e+00   \n",
       "max            6.905125e+00              4.523752e+00          4.748967e+00   \n",
       "\n",
       "       Renewables per capita (kWh)  Wind per capita (kWh)  \\\n",
       "count                 2.110000e+02           2.110000e+02   \n",
       "mean                  3.604279e-17           4.893400e-17   \n",
       "std                   6.094494e-01           6.094494e-01   \n",
       "min                  -3.702629e-01          -5.322614e-01   \n",
       "25%                  -2.091313e-01          -2.137349e-01   \n",
       "50%                   0.000000e+00           0.000000e+00   \n",
       "75%                   0.000000e+00           0.000000e+00   \n",
       "max                   5.736283e+00           6.079005e+00   \n",
       "\n",
       "       Solar per capita (kWh)  Hydro per capita (kWh)  \n",
       "count            2.110000e+02            2.110000e+02  \n",
       "mean            -3.051798e-17           -8.155667e-18  \n",
       "std              6.094494e-01            6.094494e-01  \n",
       "min             -7.095299e-01           -3.517782e-01  \n",
       "25%             -1.523820e-02           -1.992487e-01  \n",
       "50%              0.000000e+00            0.000000e+00  \n",
       "75%              0.000000e+00            0.000000e+00  \n",
       "max              3.851100e+00            5.945571e+00  "
      ]
     },
     "execution_count": 373,
     "metadata": {},
     "output_type": "execute_result"
    }
   ],
   "source": [
    "E.describe()"
   ]
  },
  {
   "cell_type": "code",
   "execution_count": 374,
   "metadata": {},
   "outputs": [
    {
     "data": {
      "text/html": [
       "<div>\n",
       "<style scoped>\n",
       "    .dataframe tbody tr th:only-of-type {\n",
       "        vertical-align: middle;\n",
       "    }\n",
       "\n",
       "    .dataframe tbody tr th {\n",
       "        vertical-align: top;\n",
       "    }\n",
       "\n",
       "    .dataframe thead th {\n",
       "        text-align: right;\n",
       "    }\n",
       "</style>\n",
       "<table border=\"1\" class=\"dataframe\">\n",
       "  <thead>\n",
       "    <tr style=\"text-align: right;\">\n",
       "      <th></th>\n",
       "      <th>Coal per capita (kWh)</th>\n",
       "      <th>Fossil Fuels per capita (kWh)</th>\n",
       "      <th>Energy per capita (kWh)</th>\n",
       "      <th>Low-carbon energy per capita (kWh)</th>\n",
       "      <th>Gas per capita (kWh)</th>\n",
       "      <th>Nuclear per capita (kWh)</th>\n",
       "      <th>Oil per capita (kWh)</th>\n",
       "      <th>Renewables per capita (kWh)</th>\n",
       "      <th>Wind per capita (kWh)</th>\n",
       "      <th>Solar per capita (kWh)</th>\n",
       "      <th>Hydro per capita (kWh)</th>\n",
       "    </tr>\n",
       "  </thead>\n",
       "  <tbody>\n",
       "    <tr>\n",
       "      <th>0</th>\n",
       "      <td>NaN</td>\n",
       "      <td>NaN</td>\n",
       "      <td>-0.733203</td>\n",
       "      <td>NaN</td>\n",
       "      <td>NaN</td>\n",
       "      <td>NaN</td>\n",
       "      <td>NaN</td>\n",
       "      <td>NaN</td>\n",
       "      <td>NaN</td>\n",
       "      <td>NaN</td>\n",
       "      <td>NaN</td>\n",
       "    </tr>\n",
       "    <tr>\n",
       "      <th>1</th>\n",
       "      <td>NaN</td>\n",
       "      <td>NaN</td>\n",
       "      <td>-0.389777</td>\n",
       "      <td>NaN</td>\n",
       "      <td>NaN</td>\n",
       "      <td>NaN</td>\n",
       "      <td>NaN</td>\n",
       "      <td>NaN</td>\n",
       "      <td>NaN</td>\n",
       "      <td>NaN</td>\n",
       "      <td>NaN</td>\n",
       "    </tr>\n",
       "    <tr>\n",
       "      <th>2</th>\n",
       "      <td>-0.731341</td>\n",
       "      <td>-0.752100</td>\n",
       "      <td>-0.448624</td>\n",
       "      <td>-0.467206</td>\n",
       "      <td>-0.226786</td>\n",
       "      <td>-0.509854</td>\n",
       "      <td>-0.835508</td>\n",
       "      <td>-0.366808</td>\n",
       "      <td>-0.531916</td>\n",
       "      <td>-0.649154</td>\n",
       "      <td>-0.348045</td>\n",
       "    </tr>\n",
       "    <tr>\n",
       "      <th>3</th>\n",
       "      <td>NaN</td>\n",
       "      <td>NaN</td>\n",
       "      <td>0.572834</td>\n",
       "      <td>NaN</td>\n",
       "      <td>NaN</td>\n",
       "      <td>NaN</td>\n",
       "      <td>NaN</td>\n",
       "      <td>NaN</td>\n",
       "      <td>NaN</td>\n",
       "      <td>NaN</td>\n",
       "      <td>NaN</td>\n",
       "    </tr>\n",
       "    <tr>\n",
       "      <th>4</th>\n",
       "      <td>NaN</td>\n",
       "      <td>NaN</td>\n",
       "      <td>-0.681636</td>\n",
       "      <td>NaN</td>\n",
       "      <td>NaN</td>\n",
       "      <td>NaN</td>\n",
       "      <td>NaN</td>\n",
       "      <td>NaN</td>\n",
       "      <td>NaN</td>\n",
       "      <td>NaN</td>\n",
       "      <td>NaN</td>\n",
       "    </tr>\n",
       "    <tr>\n",
       "      <th>...</th>\n",
       "      <td>...</td>\n",
       "      <td>...</td>\n",
       "      <td>...</td>\n",
       "      <td>...</td>\n",
       "      <td>...</td>\n",
       "      <td>...</td>\n",
       "      <td>...</td>\n",
       "      <td>...</td>\n",
       "      <td>...</td>\n",
       "      <td>...</td>\n",
       "      <td>...</td>\n",
       "    </tr>\n",
       "    <tr>\n",
       "      <th>206</th>\n",
       "      <td>-0.743874</td>\n",
       "      <td>-0.291213</td>\n",
       "      <td>0.141644</td>\n",
       "      <td>-0.078062</td>\n",
       "      <td>0.027129</td>\n",
       "      <td>-0.509854</td>\n",
       "      <td>-0.238859</td>\n",
       "      <td>0.047888</td>\n",
       "      <td>-0.532254</td>\n",
       "      <td>-0.706793</td>\n",
       "      <td>0.108415</td>\n",
       "    </tr>\n",
       "    <tr>\n",
       "      <th>207</th>\n",
       "      <td>-0.605182</td>\n",
       "      <td>-0.984805</td>\n",
       "      <td>-0.656762</td>\n",
       "      <td>-0.425503</td>\n",
       "      <td>-0.501085</td>\n",
       "      <td>-0.509854</td>\n",
       "      <td>-1.000860</td>\n",
       "      <td>-0.322367</td>\n",
       "      <td>-0.530044</td>\n",
       "      <td>-0.580451</td>\n",
       "      <td>-0.299582</td>\n",
       "    </tr>\n",
       "    <tr>\n",
       "      <th>208</th>\n",
       "      <td>NaN</td>\n",
       "      <td>NaN</td>\n",
       "      <td>-0.652240</td>\n",
       "      <td>NaN</td>\n",
       "      <td>NaN</td>\n",
       "      <td>NaN</td>\n",
       "      <td>NaN</td>\n",
       "      <td>NaN</td>\n",
       "      <td>NaN</td>\n",
       "      <td>NaN</td>\n",
       "      <td>NaN</td>\n",
       "    </tr>\n",
       "    <tr>\n",
       "      <th>209</th>\n",
       "      <td>NaN</td>\n",
       "      <td>NaN</td>\n",
       "      <td>-0.641635</td>\n",
       "      <td>NaN</td>\n",
       "      <td>NaN</td>\n",
       "      <td>NaN</td>\n",
       "      <td>NaN</td>\n",
       "      <td>NaN</td>\n",
       "      <td>NaN</td>\n",
       "      <td>NaN</td>\n",
       "      <td>NaN</td>\n",
       "    </tr>\n",
       "    <tr>\n",
       "      <th>210</th>\n",
       "      <td>NaN</td>\n",
       "      <td>NaN</td>\n",
       "      <td>-0.616534</td>\n",
       "      <td>NaN</td>\n",
       "      <td>NaN</td>\n",
       "      <td>NaN</td>\n",
       "      <td>NaN</td>\n",
       "      <td>NaN</td>\n",
       "      <td>NaN</td>\n",
       "      <td>NaN</td>\n",
       "      <td>NaN</td>\n",
       "    </tr>\n",
       "  </tbody>\n",
       "</table>\n",
       "<p>211 rows × 11 columns</p>\n",
       "</div>"
      ],
      "text/plain": [
       "     Coal per capita (kWh)  Fossil Fuels per capita (kWh)  \\\n",
       "0                      NaN                            NaN   \n",
       "1                      NaN                            NaN   \n",
       "2                -0.731341                      -0.752100   \n",
       "3                      NaN                            NaN   \n",
       "4                      NaN                            NaN   \n",
       "..                     ...                            ...   \n",
       "206              -0.743874                      -0.291213   \n",
       "207              -0.605182                      -0.984805   \n",
       "208                    NaN                            NaN   \n",
       "209                    NaN                            NaN   \n",
       "210                    NaN                            NaN   \n",
       "\n",
       "     Energy per capita (kWh)  Low-carbon energy per capita (kWh)  \\\n",
       "0                  -0.733203                                 NaN   \n",
       "1                  -0.389777                                 NaN   \n",
       "2                  -0.448624                           -0.467206   \n",
       "3                   0.572834                                 NaN   \n",
       "4                  -0.681636                                 NaN   \n",
       "..                       ...                                 ...   \n",
       "206                 0.141644                           -0.078062   \n",
       "207                -0.656762                           -0.425503   \n",
       "208                -0.652240                                 NaN   \n",
       "209                -0.641635                                 NaN   \n",
       "210                -0.616534                                 NaN   \n",
       "\n",
       "     Gas per capita (kWh)  Nuclear per capita (kWh)  Oil per capita (kWh)  \\\n",
       "0                     NaN                       NaN                   NaN   \n",
       "1                     NaN                       NaN                   NaN   \n",
       "2               -0.226786                 -0.509854             -0.835508   \n",
       "3                     NaN                       NaN                   NaN   \n",
       "4                     NaN                       NaN                   NaN   \n",
       "..                    ...                       ...                   ...   \n",
       "206              0.027129                 -0.509854             -0.238859   \n",
       "207             -0.501085                 -0.509854             -1.000860   \n",
       "208                   NaN                       NaN                   NaN   \n",
       "209                   NaN                       NaN                   NaN   \n",
       "210                   NaN                       NaN                   NaN   \n",
       "\n",
       "     Renewables per capita (kWh)  Wind per capita (kWh)  \\\n",
       "0                            NaN                    NaN   \n",
       "1                            NaN                    NaN   \n",
       "2                      -0.366808              -0.531916   \n",
       "3                            NaN                    NaN   \n",
       "4                            NaN                    NaN   \n",
       "..                           ...                    ...   \n",
       "206                     0.047888              -0.532254   \n",
       "207                    -0.322367              -0.530044   \n",
       "208                          NaN                    NaN   \n",
       "209                          NaN                    NaN   \n",
       "210                          NaN                    NaN   \n",
       "\n",
       "     Solar per capita (kWh)  Hydro per capita (kWh)  \n",
       "0                       NaN                     NaN  \n",
       "1                       NaN                     NaN  \n",
       "2                 -0.649154               -0.348045  \n",
       "3                       NaN                     NaN  \n",
       "4                       NaN                     NaN  \n",
       "..                      ...                     ...  \n",
       "206               -0.706793                0.108415  \n",
       "207               -0.580451               -0.299582  \n",
       "208                     NaN                     NaN  \n",
       "209                     NaN                     NaN  \n",
       "210                     NaN                     NaN  \n",
       "\n",
       "[211 rows x 11 columns]"
      ]
     },
     "execution_count": 374,
     "metadata": {},
     "output_type": "execute_result"
    }
   ],
   "source": [
    "(df_energy_sub - df_energy_sub.mean())/df_energy_sub.std()"
   ]
  },
  {
   "cell_type": "code",
   "execution_count": 375,
   "metadata": {},
   "outputs": [
    {
     "data": {
      "text/html": [
       "<div>\n",
       "<style scoped>\n",
       "    .dataframe tbody tr th:only-of-type {\n",
       "        vertical-align: middle;\n",
       "    }\n",
       "\n",
       "    .dataframe tbody tr th {\n",
       "        vertical-align: top;\n",
       "    }\n",
       "\n",
       "    .dataframe thead th {\n",
       "        text-align: right;\n",
       "    }\n",
       "</style>\n",
       "<table border=\"1\" class=\"dataframe\">\n",
       "  <thead>\n",
       "    <tr style=\"text-align: right;\">\n",
       "      <th></th>\n",
       "      <th>Entity</th>\n",
       "      <th>Unnamed: 0</th>\n",
       "      <th>Year</th>\n",
       "      <th>Coal per capita (kWh)</th>\n",
       "      <th>Fossil Fuels per capita (kWh)</th>\n",
       "      <th>Energy per capita (kWh)</th>\n",
       "      <th>Low-carbon energy per capita (kWh)</th>\n",
       "      <th>Gas per capita (kWh)</th>\n",
       "      <th>Nuclear per capita (kWh)</th>\n",
       "      <th>Oil per capita (kWh)</th>\n",
       "      <th>Renewables per capita (kWh)</th>\n",
       "      <th>Wind per capita (kWh)</th>\n",
       "      <th>Solar per capita (kWh)</th>\n",
       "      <th>Hydro per capita (kWh)</th>\n",
       "    </tr>\n",
       "  </thead>\n",
       "  <tbody>\n",
       "    <tr>\n",
       "      <th>0</th>\n",
       "      <td>Afghanistan</td>\n",
       "      <td>4162.5</td>\n",
       "      <td>1999.5</td>\n",
       "      <td>NaN</td>\n",
       "      <td>NaN</td>\n",
       "      <td>875.858550</td>\n",
       "      <td>NaN</td>\n",
       "      <td>NaN</td>\n",
       "      <td>NaN</td>\n",
       "      <td>NaN</td>\n",
       "      <td>NaN</td>\n",
       "      <td>NaN</td>\n",
       "      <td>NaN</td>\n",
       "      <td>NaN</td>\n",
       "    </tr>\n",
       "    <tr>\n",
       "      <th>1</th>\n",
       "      <td>Albania</td>\n",
       "      <td>4202.5</td>\n",
       "      <td>1999.5</td>\n",
       "      <td>NaN</td>\n",
       "      <td>NaN</td>\n",
       "      <td>11681.020075</td>\n",
       "      <td>NaN</td>\n",
       "      <td>NaN</td>\n",
       "      <td>NaN</td>\n",
       "      <td>NaN</td>\n",
       "      <td>NaN</td>\n",
       "      <td>NaN</td>\n",
       "      <td>NaN</td>\n",
       "      <td>NaN</td>\n",
       "    </tr>\n",
       "    <tr>\n",
       "      <th>2</th>\n",
       "      <td>Algeria</td>\n",
       "      <td>27.5</td>\n",
       "      <td>1992.5</td>\n",
       "      <td>176.147429</td>\n",
       "      <td>9788.705911</td>\n",
       "      <td>9829.523857</td>\n",
       "      <td>40.825750</td>\n",
       "      <td>5870.029732</td>\n",
       "      <td>0.0</td>\n",
       "      <td>3742.528768</td>\n",
       "      <td>0.040826</td>\n",
       "      <td>0.093196</td>\n",
       "      <td>2.920946</td>\n",
       "      <td>37.811661</td>\n",
       "    </tr>\n",
       "    <tr>\n",
       "      <th>3</th>\n",
       "      <td>American Samoa</td>\n",
       "      <td>4242.5</td>\n",
       "      <td>1999.5</td>\n",
       "      <td>NaN</td>\n",
       "      <td>NaN</td>\n",
       "      <td>41967.546400</td>\n",
       "      <td>NaN</td>\n",
       "      <td>NaN</td>\n",
       "      <td>NaN</td>\n",
       "      <td>NaN</td>\n",
       "      <td>NaN</td>\n",
       "      <td>NaN</td>\n",
       "      <td>NaN</td>\n",
       "      <td>NaN</td>\n",
       "    </tr>\n",
       "    <tr>\n",
       "      <th>4</th>\n",
       "      <td>Angola</td>\n",
       "      <td>4282.5</td>\n",
       "      <td>1999.5</td>\n",
       "      <td>NaN</td>\n",
       "      <td>NaN</td>\n",
       "      <td>2498.295825</td>\n",
       "      <td>NaN</td>\n",
       "      <td>NaN</td>\n",
       "      <td>NaN</td>\n",
       "      <td>NaN</td>\n",
       "      <td>NaN</td>\n",
       "      <td>NaN</td>\n",
       "      <td>NaN</td>\n",
       "      <td>NaN</td>\n",
       "    </tr>\n",
       "    <tr>\n",
       "      <th>...</th>\n",
       "      <td>...</td>\n",
       "      <td>...</td>\n",
       "      <td>...</td>\n",
       "      <td>...</td>\n",
       "      <td>...</td>\n",
       "      <td>...</td>\n",
       "      <td>...</td>\n",
       "      <td>...</td>\n",
       "      <td>...</td>\n",
       "      <td>...</td>\n",
       "      <td>...</td>\n",
       "      <td>...</td>\n",
       "      <td>...</td>\n",
       "      <td>...</td>\n",
       "    </tr>\n",
       "    <tr>\n",
       "      <th>206</th>\n",
       "      <td>Venezuela</td>\n",
       "      <td>4058.5</td>\n",
       "      <td>1992.5</td>\n",
       "      <td>78.401054</td>\n",
       "      <td>23739.436250</td>\n",
       "      <td>28401.050446</td>\n",
       "      <td>4661.636893</td>\n",
       "      <td>11017.847196</td>\n",
       "      <td>0.0</td>\n",
       "      <td>12643.187804</td>\n",
       "      <td>4.661637</td>\n",
       "      <td>0.001893</td>\n",
       "      <td>0.132411</td>\n",
       "      <td>4661.502643</td>\n",
       "    </tr>\n",
       "    <tr>\n",
       "      <th>207</th>\n",
       "      <td>Vietnam</td>\n",
       "      <td>4114.5</td>\n",
       "      <td>1992.5</td>\n",
       "      <td>1160.075536</td>\n",
       "      <td>2744.903304</td>\n",
       "      <td>3280.915018</td>\n",
       "      <td>536.014250</td>\n",
       "      <td>308.975357</td>\n",
       "      <td>0.0</td>\n",
       "      <td>1275.852375</td>\n",
       "      <td>0.536014</td>\n",
       "      <td>0.597607</td>\n",
       "      <td>6.244732</td>\n",
       "      <td>528.714732</td>\n",
       "    </tr>\n",
       "    <tr>\n",
       "      <th>208</th>\n",
       "      <td>Yemen</td>\n",
       "      <td>9176.5</td>\n",
       "      <td>1999.5</td>\n",
       "      <td>NaN</td>\n",
       "      <td>NaN</td>\n",
       "      <td>3423.173625</td>\n",
       "      <td>NaN</td>\n",
       "      <td>NaN</td>\n",
       "      <td>NaN</td>\n",
       "      <td>NaN</td>\n",
       "      <td>NaN</td>\n",
       "      <td>NaN</td>\n",
       "      <td>NaN</td>\n",
       "      <td>NaN</td>\n",
       "    </tr>\n",
       "    <tr>\n",
       "      <th>209</th>\n",
       "      <td>Zambia</td>\n",
       "      <td>9216.5</td>\n",
       "      <td>1999.5</td>\n",
       "      <td>NaN</td>\n",
       "      <td>NaN</td>\n",
       "      <td>3756.863325</td>\n",
       "      <td>NaN</td>\n",
       "      <td>NaN</td>\n",
       "      <td>NaN</td>\n",
       "      <td>NaN</td>\n",
       "      <td>NaN</td>\n",
       "      <td>NaN</td>\n",
       "      <td>NaN</td>\n",
       "      <td>NaN</td>\n",
       "    </tr>\n",
       "    <tr>\n",
       "      <th>210</th>\n",
       "      <td>Zimbabwe</td>\n",
       "      <td>9256.5</td>\n",
       "      <td>1999.5</td>\n",
       "      <td>NaN</td>\n",
       "      <td>NaN</td>\n",
       "      <td>4546.594425</td>\n",
       "      <td>NaN</td>\n",
       "      <td>NaN</td>\n",
       "      <td>NaN</td>\n",
       "      <td>NaN</td>\n",
       "      <td>NaN</td>\n",
       "      <td>NaN</td>\n",
       "      <td>NaN</td>\n",
       "      <td>NaN</td>\n",
       "    </tr>\n",
       "  </tbody>\n",
       "</table>\n",
       "<p>211 rows × 14 columns</p>\n",
       "</div>"
      ],
      "text/plain": [
       "             Entity  Unnamed: 0    Year  Coal per capita (kWh)  \\\n",
       "0       Afghanistan      4162.5  1999.5                    NaN   \n",
       "1           Albania      4202.5  1999.5                    NaN   \n",
       "2           Algeria        27.5  1992.5             176.147429   \n",
       "3    American Samoa      4242.5  1999.5                    NaN   \n",
       "4            Angola      4282.5  1999.5                    NaN   \n",
       "..              ...         ...     ...                    ...   \n",
       "206       Venezuela      4058.5  1992.5              78.401054   \n",
       "207         Vietnam      4114.5  1992.5            1160.075536   \n",
       "208           Yemen      9176.5  1999.5                    NaN   \n",
       "209          Zambia      9216.5  1999.5                    NaN   \n",
       "210        Zimbabwe      9256.5  1999.5                    NaN   \n",
       "\n",
       "     Fossil Fuels per capita (kWh)  Energy per capita (kWh)  \\\n",
       "0                              NaN               875.858550   \n",
       "1                              NaN             11681.020075   \n",
       "2                      9788.705911              9829.523857   \n",
       "3                              NaN             41967.546400   \n",
       "4                              NaN              2498.295825   \n",
       "..                             ...                      ...   \n",
       "206                   23739.436250             28401.050446   \n",
       "207                    2744.903304              3280.915018   \n",
       "208                            NaN              3423.173625   \n",
       "209                            NaN              3756.863325   \n",
       "210                            NaN              4546.594425   \n",
       "\n",
       "     Low-carbon energy per capita (kWh)  Gas per capita (kWh)  \\\n",
       "0                                   NaN                   NaN   \n",
       "1                                   NaN                   NaN   \n",
       "2                             40.825750           5870.029732   \n",
       "3                                   NaN                   NaN   \n",
       "4                                   NaN                   NaN   \n",
       "..                                  ...                   ...   \n",
       "206                         4661.636893          11017.847196   \n",
       "207                          536.014250            308.975357   \n",
       "208                                 NaN                   NaN   \n",
       "209                                 NaN                   NaN   \n",
       "210                                 NaN                   NaN   \n",
       "\n",
       "     Nuclear per capita (kWh)  Oil per capita (kWh)  \\\n",
       "0                         NaN                   NaN   \n",
       "1                         NaN                   NaN   \n",
       "2                         0.0           3742.528768   \n",
       "3                         NaN                   NaN   \n",
       "4                         NaN                   NaN   \n",
       "..                        ...                   ...   \n",
       "206                       0.0          12643.187804   \n",
       "207                       0.0           1275.852375   \n",
       "208                       NaN                   NaN   \n",
       "209                       NaN                   NaN   \n",
       "210                       NaN                   NaN   \n",
       "\n",
       "     Renewables per capita (kWh)  Wind per capita (kWh)  \\\n",
       "0                            NaN                    NaN   \n",
       "1                            NaN                    NaN   \n",
       "2                       0.040826               0.093196   \n",
       "3                            NaN                    NaN   \n",
       "4                            NaN                    NaN   \n",
       "..                           ...                    ...   \n",
       "206                     4.661637               0.001893   \n",
       "207                     0.536014               0.597607   \n",
       "208                          NaN                    NaN   \n",
       "209                          NaN                    NaN   \n",
       "210                          NaN                    NaN   \n",
       "\n",
       "     Solar per capita (kWh)  Hydro per capita (kWh)  \n",
       "0                       NaN                     NaN  \n",
       "1                       NaN                     NaN  \n",
       "2                  2.920946               37.811661  \n",
       "3                       NaN                     NaN  \n",
       "4                       NaN                     NaN  \n",
       "..                      ...                     ...  \n",
       "206                0.132411             4661.502643  \n",
       "207                6.244732              528.714732  \n",
       "208                     NaN                     NaN  \n",
       "209                     NaN                     NaN  \n",
       "210                     NaN                     NaN  \n",
       "\n",
       "[211 rows x 14 columns]"
      ]
     },
     "execution_count": 375,
     "metadata": {},
     "output_type": "execute_result"
    }
   ],
   "source": [
    "df_energy"
   ]
  },
  {
   "cell_type": "code",
   "execution_count": 376,
   "metadata": {},
   "outputs": [
    {
     "data": {
      "text/plain": [
       "<AxesSubplot:>"
      ]
     },
     "execution_count": 376,
     "metadata": {},
     "output_type": "execute_result"
    },
    {
     "data": {
      "image/png": "[encoded data removed]",
      "text/plain": [
       "<Figure size 432x288 with 2 Axes>"
      ]
     },
     "metadata": {
      "needs_background": "light"
     },
     "output_type": "display_data"
    }
   ],
   "source": [
    "sns.heatmap(np.corrcoef(df_energy.iloc[:,4:].fillna(0).T), annot=True, fmt=\".1g\")"
   ]
  },
  {
   "cell_type": "code",
   "execution_count": 377,
   "metadata": {},
   "outputs": [
    {
     "data": {
      "text/plain": [
       "Index(['Fossil Fuels per capita (kWh)', 'Energy per capita (kWh)',\n",
       "       'Low-carbon energy per capita (kWh)', 'Gas per capita (kWh)',\n",
       "       'Nuclear per capita (kWh)', 'Oil per capita (kWh)',\n",
       "       'Renewables per capita (kWh)', 'Wind per capita (kWh)',\n",
       "       'Solar per capita (kWh)', 'Hydro per capita (kWh)'],\n",
       "      dtype='object')"
      ]
     },
     "execution_count": 377,
     "metadata": {},
     "output_type": "execute_result"
    }
   ],
   "source": [
    "df_energy.iloc[:,4:].columns"
   ]
  },
  {
   "cell_type": "code",
   "execution_count": null,
   "metadata": {},
   "outputs": [],
   "source": [
    "plt.scatter(ca.x_loadings_[b])"
   ]
  },
  {
   "cell_type": "code",
   "execution_count": 384,
   "metadata": {},
   "outputs": [
    {
     "data": {
      "text/plain": [
       "<matplotlib.collections.PathCollection at 0x7fa398863940>"
      ]
     },
     "execution_count": 384,
     "metadata": {},
     "output_type": "execute_result"
    },
    {
     "data": {
      "image/png": "[encoded data removed]",
      "text/plain": [
       "<Figure size 432x288 with 1 Axes>"
      ]
     },
     "metadata": {
      "needs_background": "light"
     },
     "output_type": "display_data"
    }
   ],
   "source": [
    "plt.scatter(E_c[:,0], S_c[:,0])"
   ]
  },
  {
   "cell_type": "code",
   "execution_count": 385,
   "metadata": {},
   "outputs": [
    {
     "data": {
      "text/plain": [
       "<matplotlib.collections.PathCollection at 0x7fa398a9af40>"
      ]
     },
     "execution_count": 385,
     "metadata": {},
     "output_type": "execute_result"
    },
    {
     "data": {
      "image/png": "[encoded data removed]",
      "text/plain": [
       "<Figure size 432x288 with 1 Axes>"
      ]
     },
     "metadata": {
      "needs_background": "light"
     },
     "output_type": "display_data"
    }
   ],
   "source": [
    "plt.scatter(E_c[:,1], S_c[:,1])"
   ]
  },
  {
   "cell_type": "code",
   "execution_count": 396,
   "metadata": {},
   "outputs": [],
   "source": [
    "# try with statsmodels instead \n",
    "res = CanCorr(E, S)"
   ]
  },
  {
   "cell_type": "code",
   "execution_count": 403,
   "metadata": {},
   "outputs": [],
   "source": [
    "test =  res.corr_test()"
   ]
  },
  {
   "cell_type": "code",
   "execution_count": 410,
   "metadata": {},
   "outputs": [
    {
     "data": {
      "text/html": [
       "<table class=\"simpletable\">\n",
       "<tr>\n",
       "  <td></td>  <th>Canonical Correlation</th> <th>Wilks' lambda</th> <th>Num DF</th>   <th>Den DF</th>   <th>F Value</th> <th>Pr > F</th>\n",
       "</tr>\n",
       "<tr>\n",
       "  <th>0</th>        <td>0.8293</td>            <td>0.1602</td>     <td>88.0000</td> <td>1248.8154</td> <td>4.5718</td>  <td>0.0000</td>\n",
       "</tr>\n",
       "<tr>\n",
       "  <th>1</th>        <td>0.6157</td>            <td>0.5130</td>     <td>70.0000</td> <td>1114.6975</td> <td>1.9313</td>  <td>0.0000</td>\n",
       "</tr>\n",
       "<tr>\n",
       "  <th>2</th>        <td>0.2834</td>            <td>0.8262</td>     <td>54.0000</td> <td>978.5068</td>  <td>0.6911</td>  <td>0.9563</td>\n",
       "</tr>\n",
       "<tr>\n",
       "  <th>3</th>        <td>0.2479</td>            <td>0.8984</td>     <td>40.0000</td> <td>839.7031</td>  <td>0.5225</td>  <td>0.9939</td>\n",
       "</tr>\n",
       "<tr>\n",
       "  <th>4</th>        <td>0.1691</td>            <td>0.9572</td>     <td>28.0000</td> <td>697.2936</td>  <td>0.3037</td>  <td>0.9998</td>\n",
       "</tr>\n",
       "<tr>\n",
       "  <th>5</th>        <td>0.1003</td>            <td>0.9854</td>     <td>18.0000</td> <td>549.2001</td>  <td>0.1589</td>  <td>1.0000</td>\n",
       "</tr>\n",
       "<tr>\n",
       "  <th>6</th>        <td>0.0661</td>            <td>0.9954</td>     <td>10.0000</td> <td>390.0000</td>  <td>0.0895</td>  <td>0.9999</td>\n",
       "</tr>\n",
       "<tr>\n",
       "  <th>7</th>        <td>0.0144</td>            <td>0.9998</td>     <td>4.0000</td>  <td>196.0000</td>  <td>0.0102</td>  <td>0.9998</td>\n",
       "</tr>\n",
       "</table>\n",
       "<table class=\"simpletable\">\n",
       "<tr>\n",
       "  <td></td> <td></td> <td></td> <td></td>\n",
       "</tr>\n",
       "</table>\n",
       "<table class=\"simpletable\">\n",
       "<tr>\n",
       "  <td>Multivariate Statistics and F Approximations</td> <td></td> <td></td> <td></td>\n",
       "</tr>\n",
       "</table>\n",
       "<table class=\"simpletable\">\n",
       "<tr>\n",
       "             <td></td>             <th>Value</th> <th>Num DF</th>   <th>Den DF</th>   <th>F Value</th> <th>Pr > F</th>\n",
       "</tr>\n",
       "<tr>\n",
       "  <th>Wilks' lambda</th>          <td>0.1602</td> <td>88.0000</td> <td>1268.4877</td> <td>4.6438</td>  <td>0.0000</td>\n",
       "</tr>\n",
       "<tr>\n",
       "  <th>Pillai's trace</th>         <td>1.2518</td> <td>88.0000</td> <td>1592.0000</td> <td>3.3560</td>  <td>0.0000</td>\n",
       "</tr>\n",
       "<tr>\n",
       "  <th>Hotelling-Lawley trace</th> <td>3.0097</td> <td>88.0000</td> <td>834.7763</td>  <td>6.5138</td>  <td>0.0000</td>\n",
       "</tr>\n",
       "<tr>\n",
       "  <th>Roy's greatest root</th>    <td>2.2021</td> <td>11.0000</td> <td>199.0000</td>  <td>39.8378</td> <td>0.0000</td>\n",
       "</tr>\n",
       "</table>"
      ],
      "text/plain": [
       "<class 'statsmodels.iolib.summary2.Summary'>\n",
       "\"\"\"\n",
       "                           Cancorr results\n",
       "======================================================================\n",
       "  Canonical Correlation Wilks' lambda  Num DF   Den DF  F Value Pr > F\n",
       "----------------------------------------------------------------------\n",
       "0                0.8293        0.1602 88.0000 1248.8154  4.5718 0.0000\n",
       "1                0.6157        0.5130 70.0000 1114.6975  1.9313 0.0000\n",
       "2                0.2834        0.8262 54.0000  978.5068  0.6911 0.9563\n",
       "3                0.2479        0.8984 40.0000  839.7031  0.5225 0.9939\n",
       "4                0.1691        0.9572 28.0000  697.2936  0.3037 0.9998\n",
       "5                0.1003        0.9854 18.0000  549.2001  0.1589 1.0000\n",
       "6                0.0661        0.9954 10.0000  390.0000  0.0895 0.9999\n",
       "7                0.0144        0.9998  4.0000  196.0000  0.0102 0.9998\n",
       "----------------------------------------------------------------------\n",
       "                                                                      \n",
       "----------------------------------------------------------------------\n",
       "Multivariate Statistics and F Approximations                          \n",
       "------------------------------------------------------------------------\n",
       "                         Value     Num DF     Den DF    F Value   Pr > F\n",
       "------------------------------------------------------------------------\n",
       "Wilks' lambda            0.1602   88.0000   1268.4877    4.6438   0.0000\n",
       "Pillai's trace           1.2518   88.0000   1592.0000    3.3560   0.0000\n",
       "Hotelling-Lawley trace   3.0097   88.0000    834.7763    6.5138   0.0000\n",
       "Roy's greatest root      2.2021   11.0000    199.0000   39.8378   0.0000\n",
       "======================================================================\n",
       "\n",
       "\"\"\""
      ]
     },
     "execution_count": 410,
     "metadata": {},
     "output_type": "execute_result"
    }
   ],
   "source": [
    "test.summary()"
   ]
  },
  {
   "cell_type": "code",
   "execution_count": 417,
   "metadata": {},
   "outputs": [
    {
     "data": {
      "text/plain": [
       "array([[-4.82542009e+04,  2.90321676e+05, -3.06785472e+06,\n",
       "        -2.97390095e+06, -3.60251712e+04, -2.50490485e+06,\n",
       "         4.26371788e+06,  2.96748000e+06],\n",
       "       [ 1.87279412e+05, -1.12676748e+06,  1.19066526e+07,\n",
       "         1.15420081e+07,  1.39817393e+05,  9.72178707e+06,\n",
       "        -1.65479170e+07, -1.15170881e+07],\n",
       "       [ 2.96778599e-02, -7.44537236e-02, -7.23952748e-03,\n",
       "        -1.17017914e-02,  3.19486524e-02,  1.33454104e-02,\n",
       "        -7.01801007e-03, -1.09252791e-03],\n",
       "       [-2.91872706e+06,  4.25783225e+06,  2.15800598e+06,\n",
       "        -1.17913628e+07,  9.65636899e+06, -1.45524078e+07,\n",
       "        -3.50912963e+07,  2.51325225e+07],\n",
       "       [-1.25435736e+05,  7.54685005e+05, -7.97482288e+06,\n",
       "        -7.73059171e+06, -9.36466667e+04, -6.51144641e+06,\n",
       "         1.10834433e+07,  7.71390092e+06],\n",
       "       [ 7.04128777e+05, -1.02718141e+06, -5.20608444e+05,\n",
       "         2.84460917e+06, -2.32955229e+06,  3.51069794e+06,\n",
       "         8.46560536e+06, -6.06309928e+06],\n",
       "       [-9.22977443e+04,  5.55310126e+05, -5.86801111e+06,\n",
       "        -5.68830171e+06, -6.89069373e+04, -4.79123364e+06,\n",
       "         8.15538705e+06,  5.67602018e+06],\n",
       "       [ 2.73887924e+06, -3.99547079e+06, -2.02503272e+06,\n",
       "         1.10647959e+07, -9.06135754e+06,  1.36557098e+07,\n",
       "         3.29290213e+07, -2.35838927e+07],\n",
       "       [ 2.11889803e-02,  3.67531151e-03, -8.24805995e-03,\n",
       "        -1.31278221e-02,  4.72922444e-03,  2.57376734e-04,\n",
       "        -2.17442616e-02,  1.39232447e-02],\n",
       "       [ 1.33604283e-02, -3.90641439e-02, -1.37157286e-02,\n",
       "         1.01057357e-01, -5.50950833e-02, -3.51229541e-02,\n",
       "         8.70827690e-03,  7.08823186e-03],\n",
       "       [ 9.21197424e-02,  4.33951381e-02, -6.78115331e-02,\n",
       "         2.17270909e-01,  8.45726711e-02, -5.04646616e-01,\n",
       "         1.78656564e-02, -7.92090340e-02]])"
      ]
     },
     "execution_count": 417,
     "metadata": {},
     "output_type": "execute_result"
    }
   ],
   "source": [
    "res.y_cancoef\n",
    "# same problem with very high values as for the sklearn solution "
   ]
  },
  {
   "cell_type": "code",
   "execution_count": 418,
   "metadata": {},
   "outputs": [
    {
     "data": {
      "text/plain": [
       "array([[ 0.0037121 ,  0.01726606,  0.05066436,  0.00893953,  0.06771578,\n",
       "        -0.03906677,  0.11052893, -0.00304539],\n",
       "       [ 0.02865076,  0.04868752,  0.04238536, -0.12485755, -0.03833324,\n",
       "         0.07093466,  0.01732023, -0.0179703 ],\n",
       "       [ 0.09703245,  0.05745229, -0.0162078 ,  0.0498339 ,  0.01266417,\n",
       "         0.00707511,  0.02284155,  0.02115765],\n",
       "       [-0.00232139, -0.06336039, -0.0134714 , -0.01352123, -0.00094294,\n",
       "        -0.08131871,  0.09057679, -0.19730963],\n",
       "       [-0.03240037, -0.06218727,  0.020471  ,  0.14173275, -0.0025778 ,\n",
       "        -0.04222597, -0.00993827,  0.00961535],\n",
       "       [-0.02582425, -0.08795562,  0.0160177 , -0.0930954 , -0.08282771,\n",
       "        -0.15914876, -0.06562108, -0.07357351],\n",
       "       [-0.00381841, -0.07694786, -0.07716397,  0.00020835, -0.00130209,\n",
       "         0.09479455,  0.05340029, -0.07587967],\n",
       "       [-0.00427132, -0.00153193,  0.0245836 ,  0.01962866,  0.05996624,\n",
       "         0.0140704 , -0.03961914, -0.05180522]])"
      ]
     },
     "execution_count": 418,
     "metadata": {},
     "output_type": "execute_result"
    }
   ],
   "source": [
    "res.x_cancoef"
   ]
  },
  {
   "cell_type": "code",
   "execution_count": 422,
   "metadata": {},
   "outputs": [
    {
     "ename": "AttributeError",
     "evalue": "'CanCorr' object has no attribute 'plot_loadings'",
     "output_type": "error",
     "traceback": [
      "\u001b[0;31m---------------------------------------------------------------------------\u001b[0m",
      "\u001b[0;31mAttributeError\u001b[0m                            Traceback (most recent call last)",
      "\u001b[0;32m/var/folders/ch/qh7bnp557fx2f84y6csjh9g00000gn/T/ipykernel_22737/3415660093.py\u001b[0m in \u001b[0;36m<module>\u001b[0;34m\u001b[0m\n\u001b[0;32m----> 1\u001b[0;31m \u001b[0mres\u001b[0m\u001b[0;34m.\u001b[0m\u001b[0mplot_loadings\u001b[0m\u001b[0;34m(\u001b[0m\u001b[0;34m)\u001b[0m\u001b[0;34m\u001b[0m\u001b[0;34m\u001b[0m\u001b[0m\n\u001b[0m",
      "\u001b[0;31mAttributeError\u001b[0m: 'CanCorr' object has no attribute 'plot_loadings'"
     ]
    }
   ],
   "source": []
  },
  {
   "cell_type": "code",
   "execution_count": null,
   "metadata": {},
   "outputs": [],
   "source": []
  }
 ],
 "metadata": {
  "interpreter": {
   "hash": "3bcd6d007d45145e59a26852424ccf0012301dbb39fbad15dccee4f1ccce00c8"
  },
  "kernelspec": {
   "display_name": "Python 3.8.13 ('SDA2022')",
   "language": "python",
   "name": "python3"
  },
  "language_info": {
   "codemirror_mode": {
    "name": "ipython",
    "version": 3
   },
   "file_extension": ".py",
   "mimetype": "text/x-python",
   "name": "python",
   "nbconvert_exporter": "python",
   "pygments_lexer": "ipython3",
   "version": "3.8.13"
  },
  "orig_nbformat": 4
 },
 "nbformat": 4,
 "nbformat_minor": 2
}
