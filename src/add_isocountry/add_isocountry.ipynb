{
 "cells": [
  {
   "cell_type": "code",
   "execution_count": null,
   "metadata": {},
   "outputs": [],
   "source": [
    "import pandas as pd\n",
    "import add_isocountry\n",
    "from importlib import reload\n",
    "import plotly.express as px\n",
    "import plotly.io as pio\n",
    "import plotly.graph_objects as go\n",
    "from plotly.subplots import make_subplots\n",
    "\n",
    "pio.renderers.default = \"notebook\""
   ]
  },
  {
   "cell_type": "code",
   "execution_count": null,
   "metadata": {},
   "outputs": [],
   "source": [
    "reload(add_isocountry)\n",
    "df = pd.read_csv(\"../../web/data/pcc_energy_joined.csv\", index_col=0)\n",
    "df = add_isocountry.add_isocountry_column(df, \"Entity\")"
   ]
  },
  {
   "cell_type": "markdown",
   "metadata": {},
   "source": [
    "Noticed that the continents and the world is included as entity. Although Interesting does a disservice to the current dataset so they are removed"
   ]
  },
  {
   "cell_type": "code",
   "execution_count": null,
   "metadata": {},
   "outputs": [],
   "source": [
    "df = df.drop(\n",
    "    df[\n",
    "        df.Entity.isin(\n",
    "            [\"Africa\", \"Europe\", \"World\", \"Asia\", \"North America\", \"South America\"]\n",
    "        )\n",
    "    ].index\n",
    ")"
   ]
  },
  {
   "cell_type": "code",
   "execution_count": null,
   "metadata": {},
   "outputs": [],
   "source": [
    "df.to_csv(\"../../web/data/pcc_energy_joined_country_codes.csv\")"
   ]
  },
  {
   "cell_type": "code",
   "execution_count": null,
   "metadata": {},
   "outputs": [],
   "source": [
    "group_df = df.groupby(\"Year\").sum().unstack().reset_index()\n",
    "group_df.columns = [\"x\", \"Year\", \"y\"]"
   ]
  },
  {
   "cell_type": "code",
   "execution_count": null,
   "metadata": {},
   "outputs": [],
   "source": [
    "fig = make_subplots(\n",
    "    rows=1,\n",
    "    cols=2,\n",
    "    column_widths=[4, 1],\n",
    "    specs=[[{\"type\": \"choropleth\"}, {\"type\": \"xy\"}]],\n",
    "    subplot_titles=(\n",
    "        \"world map of energy_consumption\",\n",
    "        \"Bar chart of the distribution of energy sources <br>Per capita (kwh)\",\n",
    "    ),\n",
    ")\n",
    "world_slice = df[df.Year == 1965]\n",
    "bar_slice = group_df[group_df.Year == 1965]\n",
    "\n",
    "fig.add_trace(\n",
    "    go.Choropleth(\n",
    "        locations=world_slice[\"country_code\"],\n",
    "        z=world_slice[\"Fossil Fuels per capita (kWh)\"],\n",
    "        colorscale=\"Reds\",\n",
    "        colorbar_ticksuffix=\" kWh\",\n",
    "    ),\n",
    "    row=1,\n",
    "    col=1,\n",
    ")\n",
    "\n",
    "fig.add_trace(\n",
    "    go.Bar(\n",
    "        x=bar_slice.y,\n",
    "        y=[x.replace(\"per capita (kWh)\", \"\") for x in bar_slice.x],\n",
    "        marker=dict(color=\"forestgreen\"),\n",
    "        orientation=\"h\",\n",
    "    )\n",
    ")\n",
    "\n",
    "fig.update_geos(\n",
    "    projection_type=\"natural earth2\",\n",
    "    landcolor=\"white\",\n",
    "    oceancolor=\"#2999BC\",\n",
    "    showocean=True,\n",
    ")\n",
    "\n",
    "fig.update_layout(template=\"gridon\")\n",
    "\n",
    "fig.data[0].colorbar.x = -0.1"
   ]
  },
  {
   "cell_type": "code",
   "execution_count": null,
   "metadata": {},
   "outputs": [],
   "source": [
    "years = df.Year.unique()\n",
    "frames = [\n",
    "    dict(\n",
    "        name=str(year),\n",
    "        data=[\n",
    "            go.Choropleth(\n",
    "                locations=df[df.Year == year][\"country_code\"],\n",
    "                z=df[df.Year == year][\"Fossil Fuels per capita (kWh)\"],\n",
    "                colorscale=\"Reds\",\n",
    "                colorbar_ticksuffix=\" kWh\",\n",
    "            ),\n",
    "            go.Bar(\n",
    "                x=group_df[group_df.Year == year][\"y\"],\n",
    "                y=[\n",
    "                    x.replace(\"per capita (kWh\", \"\")\n",
    "                    for x in group_df[group_df.Year == year].x\n",
    "                ],\n",
    "                orientation=\"h\",\n",
    "            ),\n",
    "        ],\n",
    "        traces=[0, 1],\n",
    "    )\n",
    "    for year in years\n",
    "]"
   ]
  },
  {
   "cell_type": "code",
   "execution_count": null,
   "metadata": {},
   "outputs": [],
   "source": [
    "update_menus = [\n",
    "    dict(\n",
    "        type=\"buttons\",\n",
    "        buttons=[dict(\n",
    "            label=\"Play\",\n",
    "            method=\"animate\",\n",
    "            args=[\n",
    "                [f\"{year}\" for year in years],\n",
    "                dict(\n",
    "                    frame=dict(duration=500, redraw=True),\n",
    "                    transition=dict(\n",
    "                        duration=0,\n",
    "                    ),\n",
    "                    easing=\"linear\",\n",
    "                    fromcurrent=True,\n",
    "                    mode=\"immediate\",\n",
    "                ),\n",
    "            ],\n",
    "        )],\n",
    "        direction=\"left\",\n",
    "        pad=dict(\n",
    "            r=10,\n",
    "            t=85\n",
    "        ),\n",
    "        showactive=True,\n",
    "        x = .1,\n",
    "        y = 0,\n",
    "        xanchor=\"right\",\n",
    "        yanchor=\"top\"\n",
    "    ),\n",
    "]\n",
    "sliders = [{\n",
    "    \"yanchor\": \"top\",\n",
    "    \"xanchor\": \"left\",\n",
    "    \"currentvalue\": {\"font\": {\"size\": 16}, \"prefix\": \"Year: \", \"visible\": True, \"xanchor\": \"right\"},\n",
    "    \"transition\": {\"duration\": 500.0, \"easing\": \"linear\"},\n",
    "    \"pad\": {\"b\": 10, \"t\": 50},\n",
    "    \"len\": 0.9,\n",
    "    \"x\": 0.1,\n",
    "    \"y\": 0,\n",
    "    \"steps\": [{\n",
    "        \"args\": [[year], {\"frame\": {\"duration\": 500, \"easing\": \"linear\", \"redraw\": False},\n",
    "                       \"transition\": {\"duration\": 0, \"easing\": \"linear\"}}],\n",
    "        \"label\": str(year), \"method\": \"animate\"} for year in years]\n",
    "}]"
   ]
  },
  {
   "cell_type": "code",
   "execution_count": null,
   "metadata": {},
   "outputs": [],
   "source": [
    "fig.update(frames=frames)\n",
    "fig.update_layout(updatemenus=update_menus, sliders=sliders)"
   ]
  },
  {
   "cell_type": "code",
   "execution_count": null,
   "metadata": {},
   "outputs": [],
   "source": [
    "col_names = set(group_df.columns) - set([\"Year\"])"
   ]
  },
  {
   "cell_type": "code",
   "execution_count": null,
   "metadata": {},
   "outputs": [],
   "source": [
    "fig = px.bar(\n",
    "    group_df,\n",
    "    x=\"y\",\n",
    "    y=\"x\",\n",
    "    animation_frame=\"Year\",\n",
    "    orientation=\"h\",\n",
    ")\n",
    "fig.show()"
   ]
  },
  {
   "cell_type": "code",
   "execution_count": null,
   "metadata": {},
   "outputs": [],
   "source": [
    "group_df.max()"
   ]
  },
  {
   "cell_type": "markdown",
   "metadata": {},
   "source": [
    "Seeing format for px.choropleth"
   ]
  },
  {
   "cell_type": "code",
   "execution_count": null,
   "metadata": {},
   "outputs": [],
   "source": [
    "import plotly.express as px"
   ]
  },
  {
   "cell_type": "code",
   "execution_count": null,
   "metadata": {},
   "outputs": [],
   "source": [
    "df = px.data.gapminder().query(\"year==2007\")"
   ]
  },
  {
   "cell_type": "code",
   "execution_count": null,
   "metadata": {},
   "outputs": [],
   "source": [
    "df.head()"
   ]
  }
 ],
 "metadata": {
  "interpreter": {
   "hash": "e37411e23a93956e43c0fce60ab92c125541de717f8d2c80eb39d8e7ed4e682a"
  },
  "kernelspec": {
   "display_name": "Python 3.8.12 ('sem10')",
   "language": "python",
   "name": "python3"
  },
  "language_info": {
   "codemirror_mode": {
    "name": "ipython",
    "version": 3
   },
   "file_extension": ".py",
   "mimetype": "text/x-python",
   "name": "python",
   "nbconvert_exporter": "python",
   "pygments_lexer": "ipython3",
   "version": "3.9.7"
  },
  "orig_nbformat": 4
 },
 "nbformat": 4,
 "nbformat_minor": 2
}
