{
 "cells": [
  {
   "cell_type": "markdown",
   "metadata": {},
   "source": [
    "# Pre Analysis of Climate Sensor Data"
   ]
  },
  {
   "cell_type": "markdown",
   "metadata": {},
   "source": [
    "##### Imports"
   ]
  },
  {
   "cell_type": "code",
   "execution_count": 1,
   "metadata": {},
   "outputs": [],
   "source": [
    "# Imports\n",
    "# Standard\n",
    "import pandas as pd\n",
    "import numpy as np\n",
    "import os\n",
    "\n",
    "# Plots\n",
    "import matplotlib.pyplot as plt\n",
    "import matplotlib.lines as mlines\n",
    "import seaborn as sns\n",
    "sns.set_theme()\n",
    "sns.set_palette(sns.color_palette(\"colorblind\"))\n",
    "sns.set(rc={'figure.facecolor':'white'})\n",
    "\n",
    "#Plotly\n"
   ]
  },
  {
   "cell_type": "markdown",
   "metadata": {},
   "source": [
    "##### Load Data"
   ]
  },
  {
   "cell_type": "code",
   "execution_count": 15,
   "metadata": {},
   "outputs": [],
   "source": [
    "df = pd.read_csv(\"../../data/preproccesed/Climate_Data_joined.csv\")"
   ]
  },
  {
   "cell_type": "code",
   "execution_count": 16,
   "metadata": {},
   "outputs": [
    {
     "data": {
      "text/html": [
       "<div>\n",
       "<style scoped>\n",
       "    .dataframe tbody tr th:only-of-type {\n",
       "        vertical-align: middle;\n",
       "    }\n",
       "\n",
       "    .dataframe tbody tr th {\n",
       "        vertical-align: top;\n",
       "    }\n",
       "\n",
       "    .dataframe thead th {\n",
       "        text-align: right;\n",
       "    }\n",
       "</style>\n",
       "<table border=\"1\" class=\"dataframe\">\n",
       "  <thead>\n",
       "    <tr style=\"text-align: right;\">\n",
       "      <th></th>\n",
       "      <th>id</th>\n",
       "      <th>site_id</th>\n",
       "      <th>gateway_hub_id</th>\n",
       "      <th>sensor_id</th>\n",
       "      <th>value</th>\n",
       "      <th>local_time</th>\n",
       "      <th>type</th>\n",
       "      <th>units</th>\n",
       "    </tr>\n",
       "  </thead>\n",
       "  <tbody>\n",
       "    <tr>\n",
       "      <th>0</th>\n",
       "      <td>1</td>\n",
       "      <td>1001</td>\n",
       "      <td>arc1045</td>\n",
       "      <td>0a.EPA-1h</td>\n",
       "      <td>3.9</td>\n",
       "      <td>2019/11/15 09:00:00 AM</td>\n",
       "      <td>PM2.5-EPA-1h</td>\n",
       "      <td>ug/m^3</td>\n",
       "    </tr>\n",
       "    <tr>\n",
       "      <th>1</th>\n",
       "      <td>2</td>\n",
       "      <td>1001</td>\n",
       "      <td>arc1045</td>\n",
       "      <td>0a.EPA-1h.NOPK</td>\n",
       "      <td>3.9</td>\n",
       "      <td>2019/11/15 09:00:00 AM</td>\n",
       "      <td>PM2.5-EPA-1h-NOPK</td>\n",
       "      <td>ug/m^3</td>\n",
       "    </tr>\n",
       "    <tr>\n",
       "      <th>2</th>\n",
       "      <td>3</td>\n",
       "      <td>1001</td>\n",
       "      <td>arc1045</td>\n",
       "      <td>0a.EPA-1h.NOPK.EPA-24h</td>\n",
       "      <td>5.5</td>\n",
       "      <td>2019/11/15 09:00:00 AM</td>\n",
       "      <td>PM2.5-EPA-1h-NOPK-EPA-24h</td>\n",
       "      <td>ug/m^3</td>\n",
       "    </tr>\n",
       "    <tr>\n",
       "      <th>3</th>\n",
       "      <td>4</td>\n",
       "      <td>1001</td>\n",
       "      <td>arc1045</td>\n",
       "      <td>0a.EPA-1h.PKIND</td>\n",
       "      <td>1.0</td>\n",
       "      <td>2019/11/15 09:00:00 AM</td>\n",
       "      <td>PM2.5-EPA-1h-PKIND</td>\n",
       "      <td>0/1</td>\n",
       "    </tr>\n",
       "    <tr>\n",
       "      <th>4</th>\n",
       "      <td>5</td>\n",
       "      <td>1001</td>\n",
       "      <td>arc1045</td>\n",
       "      <td>0a.EPA-24h</td>\n",
       "      <td>5.5</td>\n",
       "      <td>2019/11/15 09:00:00 AM</td>\n",
       "      <td>PM2.5-EPA-24h</td>\n",
       "      <td>ug/m^3</td>\n",
       "    </tr>\n",
       "  </tbody>\n",
       "</table>\n",
       "</div>"
      ],
      "text/plain": [
       "   id  site_id gateway_hub_id               sensor_id  value  \\\n",
       "0   1     1001        arc1045               0a.EPA-1h    3.9   \n",
       "1   2     1001        arc1045          0a.EPA-1h.NOPK    3.9   \n",
       "2   3     1001        arc1045  0a.EPA-1h.NOPK.EPA-24h    5.5   \n",
       "3   4     1001        arc1045         0a.EPA-1h.PKIND    1.0   \n",
       "4   5     1001        arc1045              0a.EPA-24h    5.5   \n",
       "\n",
       "               local_time                       type   units  \n",
       "0  2019/11/15 09:00:00 AM               PM2.5-EPA-1h  ug/m^3  \n",
       "1  2019/11/15 09:00:00 AM          PM2.5-EPA-1h-NOPK  ug/m^3  \n",
       "2  2019/11/15 09:00:00 AM  PM2.5-EPA-1h-NOPK-EPA-24h  ug/m^3  \n",
       "3  2019/11/15 09:00:00 AM         PM2.5-EPA-1h-PKIND     0/1  \n",
       "4  2019/11/15 09:00:00 AM              PM2.5-EPA-24h  ug/m^3  "
      ]
     },
     "execution_count": 16,
     "metadata": {},
     "output_type": "execute_result"
    }
   ],
   "source": [
    "df.head(5)"
   ]
  }
 ],
 "metadata": {
  "interpreter": {
   "hash": "3bcd6d007d45145e59a26852424ccf0012301dbb39fbad15dccee4f1ccce00c8"
  },
  "kernelspec": {
   "display_name": "Python 3.8.13 ('SDA2022')",
   "language": "python",
   "name": "python3"
  },
  "language_info": {
   "codemirror_mode": {
    "name": "ipython",
    "version": 3
   },
   "file_extension": ".py",
   "mimetype": "text/x-python",
   "name": "python",
   "nbconvert_exporter": "python",
   "pygments_lexer": "ipython3",
   "version": "3.8.13"
  },
  "orig_nbformat": 4
 },
 "nbformat": 4,
 "nbformat_minor": 2
}
