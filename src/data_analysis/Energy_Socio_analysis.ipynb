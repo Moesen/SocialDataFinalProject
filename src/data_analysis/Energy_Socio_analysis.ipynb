{
 "cells": [
  {
   "cell_type": "code",
   "execution_count": null,
   "metadata": {},
   "outputs": [],
   "source": [
    "import pandas as pd\n",
    "import plotly.express as px\n",
    "import plotly.io as pio\n",
    "import numpy as np\n",
    "pio.renderers.default = \"notebook\""
   ]
  },
  {
   "cell_type": "code",
   "execution_count": null,
   "metadata": {},
   "outputs": [],
   "source": [
    "data_pcc_country = pd.read_csv(\"../../data/processed/pcc_energy_extrapolated_5_country.csv\",index_col=0)\n",
    "data_socio_country = pd.read_csv(\"../../data/processed/socio_extrapolated_5_country.csv\",index_col=0)\n",
    "\n",
    "data_pcc_country = data_pcc_country.set_index(['Entity','Continent','Year'])\n",
    "data_socio_country = data_socio_country.set_index(['Entity','Continent','Year'])"
   ]
  },
  {
   "cell_type": "code",
   "execution_count": null,
   "metadata": {},
   "outputs": [],
   "source": [
    "data_pcc_socio_country = data_pcc_country.join(data_socio_country,how='outer').reset_index()\n",
    "data_pcc_socio_country = data_pcc_socio_country.sort_values(['Year','Entity']).reset_index().drop(columns='index')\n",
    "data_pcc_socio_country['Fraction of Low-carbon energy per capita'] = data_pcc_socio_country['Low-carbon energy per capita (kWh)']/data_pcc_socio_country['Energy per capita (kWh)']\n",
    "data_pcc_socio_country.head(5)"
   ]
  },
  {
   "cell_type": "code",
   "execution_count": null,
   "metadata": {},
   "outputs": [],
   "source": [
    "x = \"GDP_Per_Capita ($)\"\n",
    "size = \"Population\"\n",
    "\n",
    "fig = px.scatter(data_pcc_socio_country.iloc[np.sum(np.array(data_pcc_socio_country[[x,\"Fraction of Low-carbon energy per capita\"]].isnull())*1.0,axis=1) == 0], \n",
    "                 x=x, size=size,\n",
    "\t             y=\"Fraction of Low-carbon energy per capita\",# color=\"Continent\",\n",
    "                 animation_frame=\"Year\", animation_group=\"Entity\",\n",
    "                 hover_name=\"Entity\", log_x=False, size_max=60,\n",
    "                 range_x=[np.min(data_pcc_socio_country[x]),np.max(data_pcc_socio_country[x])*1.1], \n",
    "                 range_y=[-0.2,1.2], trendline_scope='trace',\n",
    "                 trendline=\"lowess\", \n",
    "                 trendline_options=dict(frac=0.33))#,trendline_color_override='black')\n",
    "fig.show()"
   ]
  },
  {
   "cell_type": "markdown",
   "metadata": {},
   "source": [
    "# New stuff"
   ]
  },
  {
   "cell_type": "code",
   "execution_count": null,
   "metadata": {},
   "outputs": [],
   "source": [
    "df = data_pcc_socio_country\n",
    "col_int = ['GDP per capita ($)','Child mortality rate (%)','HDI','Life expectancy (years)',\n",
    "           'Tertiary education (%)','Internet users (%)','Tax revenue of total GDP (%)']"
   ]
  },
  {
   "cell_type": "code",
   "execution_count": null,
   "metadata": {},
   "outputs": [],
   "source": [
    "x = 'Tertiary education (%)'\n",
    "y = \"Fraction of Low-carbon energy per capita\"\n",
    "df_int = (df_social_energy.iloc[np.sum(np.array(df_social_energy[[x,y]].isnull())*1.0,axis=1) == 0]\n",
    "            .reset_index()\n",
    "            .drop(columns='index'))\n",
    "\n",
    "for i in np.sort(df_int['Year'].unique()):\n",
    "    if len(df_int['Continent'][df_int['Year']==i].unique()) != 6:\n",
    "        df_int = df_int[df_int['Year'] != i].reset_index().drop(columns='index')\n",
    "    else:\n",
    "        break;"
   ]
  },
  {
   "cell_type": "code",
   "execution_count": null,
   "metadata": {},
   "outputs": [],
   "source": [
    "df_int"
   ]
  },
  {
   "cell_type": "code",
   "execution_count": null,
   "metadata": {},
   "outputs": [],
   "source": [
    "import pandas as pd\n",
    "import dash\n",
    "from dash import dcc\n",
    "from dash import html\n",
    "import dash_bootstrap_components as dbc\n",
    "from dash.dependencies import Input, Output\n",
    "import plotly.express as px"
   ]
  },
  {
   "cell_type": "code",
   "execution_count": null,
   "metadata": {},
   "outputs": [],
   "source": [
    "app = dash.Dash(__name__, external_stylesheets=[dbc.themes.BOOTSTRAP])"
   ]
  },
  {
   "cell_type": "code",
   "execution_count": null,
   "metadata": {},
   "outputs": [],
   "source": [
    "def dropdown():\n",
    "    return html.Div([dcc.Dropdown(id='dropdown',\n",
    "                                  options=[{'label': i, 'value': i} for i in col_int],\n",
    "                                  value=\"GDP per capita ($)\")]\n",
    "                    ,className=\"dropdown\")\n",
    "\n",
    "def graph_scatter():\n",
    "    return \n",
    "\n",
    "def graph_scatter_overall_trend():\n",
    "    return dcc.Graph(id=\"graph_scatter_overall_trend\")\n",
    "\n",
    "def graph_continent_trend():\n",
    "    return dcc.Graph(id=\"graph_continent_trend\")"
   ]
  },
  {
   "cell_type": "code",
   "execution_count": null,
   "metadata": {},
   "outputs": [],
   "source": [
    "app.layout = dbc.Container([\n",
    "                            dbc.Row([dbc.Col([html.Div(\"Relationship between energy types and social data\", className=\"heading\")])]),\n",
    "                            dbc.Row([dbc.Col(dropdown())]),\n",
    "                            dcc.Tabs(id=\"tabs-selector\",\n",
    "                                     value=\"tab-1\",\n",
    "                                     className=\"custom-tabs-container\",\n",
    "                                     children=[\n",
    "                                                dcc.Tab(label=\"ScatterPlot\",\n",
    "                                                        value=\"tab-1\",\n",
    "                                                        className=\"custom-tab\",\n",
    "                                                        children=[html.Div([graph_scatter(),html.Br()]),\n",
    "                                                                  ]),\n",
    "                                                dcc.Tab(label=\"ScatterPlot_OverallTrend\",\n",
    "                                                        value=\"tab-2\",\n",
    "                                                        className=\"custom-tab\",\n",
    "                                                        children=[html.Div([graph_scatter_overall_trend(),html.Br()]),\n",
    "                                                                  ]),\n",
    "                                                dcc.Tab(label=\"Continent_trend\",\n",
    "                                                        value=\"tab-3\",\n",
    "                                                        className=\"custom-tab\",\n",
    "                                                        children=[html.Div([graph_continent_trend(),html.Br()]),\n",
    "                                                                  ]),\n",
    "                                     ]),\n",
    "])"
   ]
  },
  {
   "cell_type": "code",
   "execution_count": null,
   "metadata": {},
   "outputs": [],
   "source": [
    "@app.callback([Output('graph_scatter', 'figure'),\n",
    "               Output('graph_scatter_overall_trend', 'figure'),\n",
    "               Output(\"graph_continent_trend\", \"figure\")],\n",
    "              [Input('dropdown', 'value'),\n",
    "               Input('tab', 'value')])\n",
    "def update_graph(dropdown, tab):\n",
    "    fig1 = px.plot()\n",
    "    fig2 = px.plot()\n",
    "    fig3 = px.plot()\n",
    "\n",
    "    x = dropdown\n",
    "    y = \"Fraction of Low-carbon energy per capita\"\n",
    "    df_int = (df.iloc[np.sum(np.array(df[[x,y]].isnull())*1.0,axis=1) == 0]\n",
    "                .reset_index()\n",
    "                .drop(columns='index'))\n",
    "\n",
    "    if tab == 'tab-1':\n",
    "        \n",
    "\n",
    "        fig1 = px.scatter(df_int, \n",
    "                          x=x, y=y,\n",
    "                          size=\"Energy per capita (kWh)\",\n",
    "                          color=\"Continent\",\n",
    "                          animation_frame=\"Year\", animation_group=\"Entity\",\n",
    "                          hover_name=\"Entity\", log_x=False, size_max=60,\n",
    "                          range_x=[np.min(data_pcc_socio_country[x]),np.max(data_pcc_socio_country[x])*1.1], \n",
    "                          range_y=[-0.2,1.2], trendline_scope='trace',\n",
    "                          trendline=\"lowess\", \n",
    "                          trendline_options=dict(frac=0.33))#,trendline_color_override='black')\n",
    "    elif tab == 'tab-2':\n",
    "        fig2 = px.scatter(df_int, \n",
    "                          x=x, y=y,\n",
    "                          size=\"Energy per capita (kWh)\",\n",
    "                          color=\"Continent\",\n",
    "                          animation_frame=\"Year\", animation_group=\"Entity\",\n",
    "                          hover_name=\"Entity\", log_x=False, size_max=60,\n",
    "                          range_x=[np.min(data_pcc_socio_country[x]),np.max(data_pcc_socio_country[x])*1.1], \n",
    "                          range_y=[-0.2,1.2], trendline_scope='trace',\n",
    "                          trendline=\"lowess\", \n",
    "                          trendline_options=dict(frac=0.33))#,trendline_color_override='black')\n",
    "    elif tab == 'tab-3':\n",
    "        fig3 = px.scatter(df_int, \n",
    "                          x=x, y=y,\n",
    "                          size=\"Energy per capita (kWh)\",\n",
    "                          color=\"Continent\",\n",
    "                          animation_frame=\"Year\", animation_group=\"Entity\",\n",
    "                          hover_name=\"Entity\", log_x=False, size_max=60,\n",
    "                          range_x=[np.min(data_pcc_socio_country[x]),np.max(data_pcc_socio_country[x])*1.1], \n",
    "                          range_y=[-0.2,1.2], trendline_scope='trace',\n",
    "                          trendline=\"lowess\", \n",
    "                          trendline_options=dict(frac=0.33))#,trendline_color_override='black')\n",
    "\n",
    "        \n",
    "    return fig1,fig2,fig3\n"
   ]
  },
  {
   "cell_type": "code",
   "execution_count": null,
   "metadata": {},
   "outputs": [],
   "source": [
    "app.run_server(debug=False, use_reloader=False)"
   ]
  },
  {
   "cell_type": "markdown",
   "metadata": {},
   "source": [
    "# OLD ANALYSIS"
   ]
  },
  {
   "cell_type": "code",
   "execution_count": null,
   "metadata": {},
   "outputs": [],
   "source": [
    "col_int = ['GDP_Per_Capita','HDI','Life_Expectancy','Child_Mortality_Rate']"
   ]
  },
  {
   "cell_type": "code",
   "execution_count": null,
   "metadata": {},
   "outputs": [],
   "source": [
    "df_time_anal = data_pcc_socio_country[['Entity','Continent','Year','Energy per capita (kWh)','Fraction of Low-carbon energy per capita'] + col_int]"
   ]
  },
  {
   "cell_type": "code",
   "execution_count": null,
   "metadata": {},
   "outputs": [],
   "source": [
    "df_time_anal"
   ]
  },
  {
   "cell_type": "code",
   "execution_count": null,
   "metadata": {},
   "outputs": [],
   "source": [
    "df_time_anal = df_time_anal.sort_values(['Entity','Year']).reset_index().drop(columns='index')"
   ]
  },
  {
   "cell_type": "code",
   "execution_count": null,
   "metadata": {},
   "outputs": [],
   "source": [
    "df_time_anal"
   ]
  },
  {
   "cell_type": "code",
   "execution_count": null,
   "metadata": {},
   "outputs": [],
   "source": [
    "df_time_anal[['Entity','Year','Continent']]"
   ]
  },
  {
   "cell_type": "code",
   "execution_count": null,
   "metadata": {},
   "outputs": [],
   "source": [
    "qt_dfs = []\n",
    "n = df_time_anal.shape[0]\n",
    "ents = df_time_anal['Entity'].unique()\n",
    "\n",
    "for qt in np.arange(0,1.0,0.1):\n",
    "    print(qt)\n",
    "    qt_df = df_time_anal[['Entity','Year','Continent','Energy per capita (kWh)','Fraction of Low-carbon energy per capita']]\n",
    "    for i in range(len(col_int)-1):\n",
    "        qt_df = pd.concat([qt_df,df_time_anal[['Entity','Year','Continent','Energy per capita (kWh)','Fraction of Low-carbon energy per capita']]],axis=0)\n",
    "    qt_df = qt_df.reset_index().drop(columns='index')\n",
    "\n",
    "    qt_df['Q_Value'] = np.nan\n",
    "    qt_df['Years'] = np.nan\n",
    "    qt_df['Column'] = np.nan\n",
    "    for i_col, col in enumerate(col_int):\n",
    "        vals = df_time_anal[col] \n",
    "        qt_val = np.round(np.quantile(vals[vals.isnull()==False],qt),2)\n",
    "        \n",
    "        count_years = 0\n",
    "        for i_val, val in enumerate(vals):\n",
    "            if i_val > 0:\n",
    "                if (df_time_anal.loc[i_val,'Entity'] != df_time_anal.loc[i_val-1,'Entity']):\n",
    "                    count_years = 0\n",
    "            if (val >= qt_val):\n",
    "                if i_val > 0:\n",
    "                    if ((vals[i_val-1] >= qt_val) & (df_time_anal.loc[i_val,'Entity'] == df_time_anal.loc[i_val-1,'Entity'])):\n",
    "                        count_years += 1\n",
    "                        \n",
    "                qt_df.loc[i_col*n+i_val,'Q_Value'] = qt_val\n",
    "                qt_df.loc[i_col*n+i_val,'Column'] = col\n",
    "                qt_df.loc[i_col*n+i_val,'Years'] = count_years\n",
    "\n",
    "        # Add extra data for removing viz when data no longer exists\n",
    "        qt_extra = qt_df[0:len(ents)*2].copy()\n",
    "        \n",
    "        for indx, ent in enumerate(ents):\n",
    "            for indy,years in enumerate([-2000,-1000]):\n",
    "                qt_extra.loc[indx*2+indy,'Q_Value'] = qt_val\n",
    "                qt_extra.loc[indx*2+indy,'Column'] = col\n",
    "                qt_extra.loc[indx*2+indy,'Entity'] = ent\n",
    "                qt_extra.loc[indx*2+indy,'Year'] = 0\n",
    "                qt_extra.loc[indx*2+indy,'Years'] = years\n",
    "                qt_extra.loc[indx*2+indy,'Continent'] = 'NULL'\n",
    "                qt_extra.loc[indx*2+indy,'Energy per capita (kWh)'] = 0\n",
    "                qt_extra.loc[indx*2+indy,'Fraction of Low-carbon energy per capita'] = 0\n",
    "\n",
    "        qt_df = pd.concat([qt_df,qt_extra],axis=0).reset_index().drop(columns='index') \n",
    "\n",
    "    qt_df = qt_df[qt_df['Years'].isnull()==False].reset_index().drop(columns='index')       \n",
    "    qt_dfs.append(qt_df)\n",
    "\n",
    "qt_dfs = pd.concat(qt_dfs,axis=0).reset_index().drop(columns='index')\n",
    "#qt_dfs['Q_Value'] = qt_dfs['Q_Value'].astype(int)\n",
    "qt_dfs = qt_dfs.sort_values(['Year','Entity']).reset_index().drop(columns='index')\n"
   ]
  },
  {
   "cell_type": "code",
   "execution_count": null,
   "metadata": {},
   "outputs": [],
   "source": [
    "x = \"GDP_Per_Capita\"\n",
    "dat = qt_dfs[qt_dfs['Column']==x]\n",
    "#dat = dat[dat['Entity']=='Sweden']\n",
    "fig = px.line(dat.iloc[np.sum(np.array(dat.isnull())*1.0,axis=1) == 0].reset_index().drop(columns='index'), \n",
    "                 x='Years',# size=\"Energy per capita (kWh)\",\n",
    "\t             y=\"Fraction of Low-carbon energy per capita\", color=\"Entity\",\n",
    "                 animation_frame=\"Q_Value\", animation_group=\"Entity\",\n",
    "                 hover_name=\"Entity\", log_x=False,\n",
    "                 range_x=[-1,np.max(dat['Years'])+1], \n",
    "                 range_y=[-0.1,1.1])#,\n",
    "                 #trendline='lowess',trendline_scope='overall',trendline_color_override='black')\n",
    "fig.show()"
   ]
  },
  {
   "cell_type": "code",
   "execution_count": null,
   "metadata": {},
   "outputs": [],
   "source": [
    "test = qt_dfs[qt_dfs['Column']=='GDP_Per_Capita'].reset_index().drop(columns='index')"
   ]
  },
  {
   "cell_type": "code",
   "execution_count": null,
   "metadata": {},
   "outputs": [],
   "source": [
    "test"
   ]
  },
  {
   "cell_type": "code",
   "execution_count": null,
   "metadata": {},
   "outputs": [],
   "source": [
    "data_pcc_country = pd.read_csv(\"../../data/processed/pcc_energy_extrapolated_5_country.csv\",index_col=0)\n",
    "data_socio_country = pd.read_csv(\"../../data/processed/socio_extrapolated_5_country.csv\",index_col=0)\n",
    "\n",
    "data_pcc_country = data_pcc_country.set_index(['Entity','Continent','Year'])\n",
    "data_socio_country = data_socio_country.set_index(['Entity','Continent','Year'])\n",
    "\n",
    "df_social_energy = data_pcc_country.join(data_socio_country,how='outer').reset_index()\n",
    "df_social_energy = df_social_energy.sort_values(['Year','Entity']).reset_index().drop(columns='index')\n",
    "df_social_energy['Fraction of Low-carbon energy per capita'] = df_social_energy['Low-carbon energy per capita (kWh)']/df_social_energy['Energy per capita (kWh)']\n",
    "col_int = ['GDP per capita ($)','Child mortality rate (under 5 years - %)','HDI','Life expectancy (years)',\n",
    "           'Tertiary education (%)','Internet users (%)','Tax revenue of total GDP (%)']\n",
    "df_social_energy = df_social_energy.sort_values(['Year','Continent','Entity']).reset_index().drop(columns='index')"
   ]
  },
  {
   "cell_type": "code",
   "execution_count": null,
   "metadata": {},
   "outputs": [],
   "source": [
    "df = df_social_energy"
   ]
  },
  {
   "cell_type": "code",
   "execution_count": null,
   "metadata": {},
   "outputs": [],
   "source": [
    "x = col_int[0]\n",
    "y = \"Fraction of Low-carbon energy per capita\"\n",
    "df_int = (df_social_energy.iloc[np.sum(np.array(df_social_energy[[x,y]].isnull())*1.0,axis=1) == 0]\n",
    "            .reset_index()\n",
    "            .drop(columns='index'))"
   ]
  },
  {
   "cell_type": "code",
   "execution_count": null,
   "metadata": {},
   "outputs": [],
   "source": [
    "df_int"
   ]
  },
  {
   "cell_type": "code",
   "execution_count": null,
   "metadata": {},
   "outputs": [],
   "source": [
    "cont = False\n",
    "trend = True\n",
    "scatter = False\n",
    "\n",
    "x = col_int[0]\n",
    "y = \"Fraction of Low-carbon energy per capita\"\n",
    "df_int = (df_social_energy.iloc[np.sum(np.array(df_social_energy[[x,y]].isnull())*1.0,axis=1) == 0]\n",
    "            .reset_index()\n",
    "            .drop(columns='index'))\n",
    "\n",
    "if cont:\n",
    "    color = 'Continent'\n",
    "else:\n",
    "    color = None\n",
    "\n",
    "if scatter:\n",
    "    size = \"Energy per capita (kWh)\"\n",
    "else:\n",
    "    size = df_int[x]*0\n",
    "\n",
    "if trend:\n",
    "    scope = 'trace'\n",
    "    type = 'lowess'\n",
    "    frac = 0.6\n",
    "else:\n",
    "    scope = None\n",
    "    type = None\n",
    "    frac = None\n",
    "    \n",
    "fig1 = px.scatter(df_int, \n",
    "                x=x, y=y,\n",
    "                size=size,\n",
    "                color=color,\n",
    "                animation_frame=\"Year\", animation_group=\"Entity\",\n",
    "                hover_name=\"Entity\", log_x=False, size_max=60,\n",
    "                range_x=[np.min(df_int[x]),np.max(df_int[x])*1.1], \n",
    "                range_y=[-0.2,1.2],\n",
    "                trendline_scope=scope,\n",
    "                trendline=type, \n",
    "                trendline_options=dict(frac=frac))\n",
    "\n",
    "fig1.update_layout(\n",
    "    margin={\"t\": 0, \"l\": 0, \"r\": 0, \"b\": 0}\n",
    ")\n",
    "\n",
    "fig1.show()"
   ]
  },
  {
   "cell_type": "code",
   "execution_count": null,
   "metadata": {},
   "outputs": [],
   "source": []
  }
 ],
 "metadata": {
  "interpreter": {
   "hash": "3bcd6d007d45145e59a26852424ccf0012301dbb39fbad15dccee4f1ccce00c8"
  },
  "kernelspec": {
   "display_name": "Python 3.8.13 ('SDA2022')",
   "language": "python",
   "name": "python3"
  },
  "language_info": {
   "codemirror_mode": {
    "name": "ipython",
    "version": 3
   },
   "file_extension": ".py",
   "mimetype": "text/x-python",
   "name": "python",
   "nbconvert_exporter": "python",
   "pygments_lexer": "ipython3",
   "version": "3.8.13"
  },
  "orig_nbformat": 4
 },
 "nbformat": 4,
 "nbformat_minor": 2
}
