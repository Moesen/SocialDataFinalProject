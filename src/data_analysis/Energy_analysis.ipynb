{
 "cells": [
  {
   "cell_type": "code",
   "execution_count": null,
   "metadata": {},
   "outputs": [],
   "source": [
    "import pandas as pd"
   ]
  },
  {
   "cell_type": "code",
   "execution_count": null,
   "metadata": {},
   "outputs": [],
   "source": [
    "data_ac = pd.read_csv(\"../../data/preproccesed/ac_energy_joined.csv\")\n",
    "data_ac"
   ]
  },
  {
   "cell_type": "code",
   "execution_count": null,
   "metadata": {},
   "outputs": [],
   "source": [
    "data_ac_no_prim = data_ac.drop(\n",
    "    columns=[\n",
    "        \"Primary energy consumption (TWh)\",\n",
    "        \"Fossil Fuels (TWh)\",\n",
    "        \"Renewables (TWh – sub method)\",\n",
    "        \"Low-carbon energy (TWh – sub method)\",\n",
    "    ]\n",
    ")"
   ]
  },
  {
   "cell_type": "code",
   "execution_count": null,
   "metadata": {},
   "outputs": [],
   "source": [
    "data_ac_unpivot = data_ac_no_prim.melt(\n",
    "    id_vars=[\"Entity\", \"Year\"], value_vars=list(data_ac_no_prim.columns)[3:]\n",
    ")"
   ]
  },
  {
   "cell_type": "code",
   "execution_count": null,
   "metadata": {},
   "outputs": [],
   "source": [
    "idx = (\n",
    "    data_ac_unpivot.groupby([\"Entity\", \"Year\"])[\"value\"].transform(max)\n",
    "    == data_ac_unpivot[\"value\"]\n",
    ")"
   ]
  },
  {
   "cell_type": "code",
   "execution_count": null,
   "metadata": {},
   "outputs": [],
   "source": [
    "data_ac_biggest_type = data_ac_unpivot[idx]"
   ]
  },
  {
   "cell_type": "code",
   "execution_count": null,
   "metadata": {},
   "outputs": [],
   "source": [
    "data_ac_biggest_type[\"variable\"].value_counts()"
   ]
  },
  {
   "cell_type": "code",
   "execution_count": null,
   "metadata": {},
   "outputs": [],
   "source": [
    "data_ac_biggest_type"
   ]
  },
  {
   "cell_type": "code",
   "execution_count": null,
   "metadata": {},
   "outputs": [],
   "source": [
    "data_ac[data_ac.Entity == \"Denmark\"]"
   ]
  },
  {
   "cell_type": "code",
   "execution_count": null,
   "metadata": {},
   "outputs": [],
   "source": []
  }
 ],
 "metadata": {
  "interpreter": {
   "hash": "3bcd6d007d45145e59a26852424ccf0012301dbb39fbad15dccee4f1ccce00c8"
  },
  "kernelspec": {
   "display_name": "Python 3.8.13 ('SDA2022')",
   "language": "python",
   "name": "python3"
  },
  "language_info": {
   "codemirror_mode": {
    "name": "ipython",
    "version": 3
   },
   "file_extension": ".py",
   "mimetype": "text/x-python",
   "name": "python",
   "nbconvert_exporter": "python",
   "pygments_lexer": "ipython3",
   "version": "3.8.13"
  },
  "orig_nbformat": 4
 },
 "nbformat": 4,
 "nbformat_minor": 2
}
